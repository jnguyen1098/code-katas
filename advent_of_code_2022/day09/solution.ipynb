{
 "cells": [
  {
   "cell_type": "markdown",
   "source": [
    "# [Advent of Code 2022 Day ?]()\n",
    "\n",
    "?"
   ],
   "metadata": {
    "collapsed": false
   },
   "outputs": []
  },
  {
   "cell_type": "markdown",
   "source": [
    "## Initial setup"
   ],
   "metadata": {
    "collapsed": false
   }
  },
  {
   "cell_type": "code",
   "execution_count": 1,
   "metadata": {},
   "outputs": [],
   "source": [
    "import ipytest\n",
    "import pytest\n",
    "import sys\n",
    "sys.path.append(\"..\")\n",
    "from ansi import *\n",
    "from comp import *\n",
    "ipytest.autoconfig()\n",
    "PART_ONE_SENTINEL = 0x3f3f3f3f + 1\n",
    "PART_TWO_SENTINEL = 0x3f3f3f3f + 2"
   ]
  },
  {
   "cell_type": "markdown",
   "source": [
    "## Input Parsing"
   ],
   "metadata": {
    "collapsed": false
   }
  },
  {
   "cell_type": "code",
   "execution_count": 2,
   "outputs": [],
   "source": [
    "def parse_input(filename: str) -> dict[str, Any]:\n",
    "\n",
    "    gen = yield_line(filename)\n",
    "\n",
    "    context: dict[str, Any] = {\n",
    "        \"input\": [],\n",
    "    }\n",
    "\n",
    "    for line in gen:\n",
    "        context[\"input\"].append(parse(r\"([UDLR]) (\\d+)\", line))\n",
    "\n",
    "    return context"
   ],
   "metadata": {
    "collapsed": false
   }
  },
  {
   "cell_type": "markdown",
   "source": [
    "## Sandbox"
   ],
   "metadata": {
    "collapsed": false
   }
  },
  {
   "cell_type": "code",
   "execution_count": 3,
   "outputs": [],
   "source": [
    "def adja(head, tail):\n",
    "    hx, hy = head\n",
    "    tx, ty = tail\n",
    "\n",
    "    if head == tail:\n",
    "        return True\n",
    "\n",
    "    for dx, dy in DIR.ADJA:\n",
    "        if ((hx + dx), (hy + dy)) == tail:\n",
    "            return True\n",
    "\n",
    "    return False\n",
    "\n",
    "def surr(head, tail):\n",
    "    hx, hy = head\n",
    "    tx, ty = tail\n",
    "\n",
    "    if head == tail:\n",
    "        return True\n",
    "\n",
    "    for dx, dy in DIR.SURR:\n",
    "        if ((hx + dx), (hy + dy)) == tail:\n",
    "            return True\n",
    "\n",
    "    return False\n",
    "\n",
    "def diagonal(head, tail):\n",
    "    hx, hy = head\n",
    "    tx, ty = tail\n",
    "\n",
    "    if (hx + 1, hy + 1) == tail:\n",
    "        return True\n",
    "\n",
    "    if (hx - 1, hy - 1) == tail:\n",
    "        return True\n",
    "\n",
    "    if (hx + 1, hy - 1) == tail:\n",
    "        return True\n",
    "\n",
    "    if (hx + 1, hy + 1) == tail:\n",
    "        return True\n",
    "\n",
    "def same_rank(head, tail):\n",
    "    return head[0] == tail[0] or head[1] == tail[1]\n",
    "\n",
    "heading = {\n",
    "    \"U\": (-1, 0),\n",
    "    \"D\": (+1, 0),\n",
    "    \"L\": (0, -1),\n",
    "    \"R\": (0, +1),\n",
    "}\n",
    "\n",
    "def get_next(context, head, tail, direction, magnitude):\n",
    "\n",
    "    hx, hy = head\n",
    "    tx, ty = tail\n",
    "    dx, dy = heading[direction]\n",
    "\n",
    "    for i in range(magnitude):\n",
    "        print(f\"round {i + 1} {(hx, hy)} {(tx, ty)}\")\n",
    "        assert surr((hx, hy), (tx, ty))\n",
    "        hx += dx\n",
    "        hy += dy\n",
    "        context[\"visited\"].add((tx, ty))\n",
    "        if surr((hx, hy), (tx, ty)):\n",
    "            continue\n",
    "        else:\n",
    "            if same_rank((hx, hy), (tx, ty)):\n",
    "                for a, b in DIR.ADJA:\n",
    "                    if adja((hx, hy), (tx + a, ty + b)):\n",
    "                        context[\"visited\"].add((tx + a, ty + b))\n",
    "                        tx += a\n",
    "                        ty += b\n",
    "                        break\n",
    "                else:\n",
    "                    raise Exception(\"Failed to find something\")\n",
    "            else:\n",
    "                for a, b in DIR.DIAG:\n",
    "                    if adja((hx, hy), (tx + a, ty + b)):\n",
    "                        context[\"visited\"].add((tx + a, ty + b))\n",
    "                        tx += a\n",
    "                        ty += b\n",
    "                        break\n",
    "                else:\n",
    "                    raise Exception(\"Failed to find something for part 2\")\n",
    "\n",
    "\n",
    "    return (hx, hy), (tx, ty)\n",
    "\n",
    "def draw(dots):\n",
    "    board = []\n",
    "    for _ in range(30):\n",
    "        board.append([\".\"] * 30)\n",
    "\n",
    "    for i in reversed(range(len(dots))):\n",
    "        x, y = dots[i]\n",
    "        if i == 0:\n",
    "            char = \"H\"\n",
    "        else:\n",
    "            char = str(int(i) + 0)\n",
    "        board[x + 10][y + 10] = char\n",
    "\n",
    "    for b in board:\n",
    "        print(\"\".join(b))\n",
    "    print()\n",
    "\n",
    "def process(part: int, context: dict[str, Any]) -> int:\n",
    "    if part == 1:\n",
    "        context[\"visited\"] = set()\n",
    "\n",
    "        head = (0, 0)\n",
    "        tail = (0, 0)\n",
    "\n",
    "        print(head, tail)\n",
    "\n",
    "        for direction, magnitude in context[\"input\"]:\n",
    "            head, tail = get_next(context, head, tail, direction, int(magnitude))\n",
    "            print(head, tail)\n",
    "\n",
    "        return len(context[\"visited\"])\n",
    "    if part == 2:\n",
    "        print(context[\"input\"])\n",
    "        context[\"visited\"] = {(0, 0)}\n",
    "        dots = [\n",
    "            [0, 0], # idx 0 is you\n",
    "            [0, 0],\n",
    "            [0, 0],\n",
    "            [0, 0],\n",
    "            [0, 0],\n",
    "            [0, 0],\n",
    "            [0, 0],\n",
    "            [0, 0],\n",
    "            [0, 0],\n",
    "            [0, 0], # idx 9 is 9\n",
    "        ]\n",
    "\n",
    "        def update(index: int, new_x: int, new_y: int) -> bool:\n",
    "            if index == 9:\n",
    "                return True\n",
    "            tx, ty = dots[index + 1]\n",
    "            if surr((new_x, new_y), (tx, ty)):\n",
    "                return True\n",
    "            if same_rank((new_x, new_y), (tx, ty)):\n",
    "                for dx, dy in DIR.ADJA:\n",
    "                    dots[index + 1][0] += dx\n",
    "                    dots[index + 1][1] += dy\n",
    "                    if surr((new_x, new_y), (dots[index + 1][0], dots[index + 1][1])) and update(index + 1, dots[index + 1][0], dots[index + 1][1]):\n",
    "                        return True\n",
    "                    dots[index + 1][0] -= dx\n",
    "                    dots[index + 1][1] -= dy\n",
    "            else:\n",
    "                for dx, dy in DIR.DIAG:\n",
    "                    dots[index + 1][0] += dx\n",
    "                    dots[index + 1][1] += dy\n",
    "                    if surr((new_x, new_y), (dots[index + 1][0], dots[index + 1][1])) and update(index + 1, dots[index + 1][0], dots[index + 1][1]):\n",
    "                        return True\n",
    "                    dots[index + 1][0] -= dx\n",
    "                    dots[index + 1][1] -= dy\n",
    "            return False\n",
    "\n",
    "        for direction, magnitude in context[\"input\"]:\n",
    "            for i in range(int(magnitude)):\n",
    "                x, y = dots[0]\n",
    "                dx, dy = heading[direction]\n",
    "                dots[0] = x + dx, y + dy\n",
    "                update(0, x + dx, y + dy)\n",
    "                context[\"visited\"].add((dots[9][0], dots[9][1]))\n",
    "\n",
    "        return len(context[\"visited\"])\n",
    "    else:\n",
    "        raise Exception(f\"Invalid part: {part}\")"
   ],
   "metadata": {
    "collapsed": false
   }
  },
  {
   "cell_type": "markdown",
   "source": [
    "## Part 1\n",
    "Lorem ipsum"
   ],
   "metadata": {
    "collapsed": false
   }
  },
  {
   "cell_type": "code",
   "execution_count": 4,
   "outputs": [],
   "source": [
    "def part_one(context: dict[str, Any]) -> int:\n",
    "    return process(1, context)"
   ],
   "metadata": {
    "collapsed": false
   }
  },
  {
   "cell_type": "markdown",
   "source": [
    "## Part 1 Testing"
   ],
   "metadata": {
    "collapsed": false
   }
  },
  {
   "cell_type": "code",
   "execution_count": 5,
   "outputs": [],
   "source": [
    "PART_ONE_CASES: dict[str, str | int] = {\n",
    "    \"example1\": 13,\n",
    "    # \"example2\": PART_ONE_SENTINEL,\n",
    "    # \"example3\": PART_ONE_SENTINEL,\n",
    "    # \"example4\": PART_ONE_SENTINEL,\n",
    "    # \"example5\": PART_ONE_SENTINEL,\n",
    "    # \"example6\": PART_ONE_SENTINEL,\n",
    "    # \"example7\": PART_ONE_SENTINEL,\n",
    "    # \"example8\": PART_ONE_SENTINEL,\n",
    "    # \"example9\": PART_ONE_SENTINEL,\n",
    "    \"input\": 5874,\n",
    "}\n",
    "PART_ONE_OUTPUTS: dict[str, str | int] = dict()"
   ],
   "metadata": {
    "collapsed": false
   }
  },
  {
   "cell_type": "code",
   "execution_count": 6,
   "outputs": [
    {
     "name": "stdout",
     "output_type": "stream",
     "text": [
      "\u001B[32m.\u001B[0m\u001B[32m.\u001B[0m\u001B[32m.\u001B[0m\u001B[32m                                                                                          [100%]\u001B[0m\n",
      "\u001B[32m\u001B[32m\u001B[1m3 passed\u001B[0m\u001B[32m in 0.27s\u001B[0m\u001B[0m\n"
     ]
    }
   ],
   "source": [
    "%%ipytest\n",
    "\n",
    "def test_surr():\n",
    "    assert surr((0, 0), (1, 1))\n",
    "    assert surr((0, 0), (-1, -1))\n",
    "    assert diagonal((0, 0), (1, 1))\n",
    "    assert diagonal((0, 0), (-1, -1))\n",
    "    assert not adja((0, 0), (1, 1))\n",
    "    assert not adja((0, 0), (-1, -1))\n",
    "\n",
    "@pytest.mark.parametrize(\"test_file_name, test_expected_output\", PART_ONE_CASES.items())\n",
    "def test_part_one(test_file_name, test_expected_output):\n",
    "    test_actual_output = part_one(parse_input(test_file_name))\n",
    "    PART_ONE_OUTPUTS[test_file_name] = test_actual_output\n",
    "    assert test_actual_output == test_expected_output"
   ],
   "metadata": {
    "collapsed": false
   }
  },
  {
   "cell_type": "markdown",
   "source": [
    "## Part 2\n",
    "Lorem ipsum"
   ],
   "metadata": {
    "collapsed": false
   }
  },
  {
   "cell_type": "code",
   "execution_count": 7,
   "outputs": [],
   "source": [
    "def part_two(context: dict[str, Any]) -> int:\n",
    "    return process(2, context)"
   ],
   "metadata": {
    "collapsed": false
   }
  },
  {
   "cell_type": "markdown",
   "source": [
    "## Part 2 Testing"
   ],
   "metadata": {
    "collapsed": false
   }
  },
  {
   "cell_type": "code",
   "execution_count": 8,
   "outputs": [],
   "source": [
    "PART_TWO_CASES: dict[str, str | int] = {\n",
    "    # \"example1\": 36,\n",
    "    \"example2\": 36,\n",
    "    # \"example3\": PART_TWO_SENTINEL,\n",
    "    # \"example4\": PART_TWO_SENTINEL,\n",
    "    # \"example5\": PART_TWO_SENTINEL,\n",
    "    # \"example6\": PART_TWO_SENTINEL,\n",
    "    # \"example7\": PART_TWO_SENTINEL,\n",
    "    # \"example8\": PART_TWO_SENTINEL,\n",
    "    # \"example9\": PART_TWO_SENTINEL,\n",
    "    \"input\": 2467,\n",
    "}\n",
    "PART_TWO_OUTPUTS: dict[str, str | int] = dict()"
   ],
   "metadata": {
    "collapsed": false
   }
  },
  {
   "cell_type": "code",
   "execution_count": 9,
   "outputs": [
    {
     "name": "stdout",
     "output_type": "stream",
     "text": [
      "\u001B[32m.\u001B[0m\u001B[32m.\u001B[0m\u001B[32m                                                                                           [100%]\u001B[0m\n",
      "\u001B[32m\u001B[32m\u001B[1m2 passed\u001B[0m\u001B[32m in 0.43s\u001B[0m\u001B[0m\n"
     ]
    }
   ],
   "source": [
    "%%ipytest\n",
    "@pytest.mark.parametrize(\"test_file_name, test_expected_output\", PART_TWO_CASES.items())\n",
    "def test_part_two(test_file_name, test_expected_output):  # not 6288 or 4852\n",
    "    test_actual_output = part_two(parse_input(test_file_name))\n",
    "    PART_TWO_OUTPUTS[test_file_name] = test_actual_output\n",
    "    assert test_actual_output == test_expected_output"
   ],
   "metadata": {
    "collapsed": false
   }
  },
  {
   "cell_type": "code",
   "execution_count": 10,
   "outputs": [
    {
     "name": "stdout",
     "output_type": "stream",
     "text": [
      "  example2      expected:         36      actual:         36      outcome: CORRECT\n",
      "     input      expected:       2467      actual:       2467      outcome: CORRECT\n"
     ]
    }
   ],
   "source": [
    "for file_name, actual_output in PART_TWO_OUTPUTS.items():\n",
    "    expected = PART_TWO_CASES[file_name]\n",
    "    actual = actual_output\n",
    "    outcome = (\"SENTINEL\" if actual == expected else \"CANDIDATE\") if expected == PART_TWO_SENTINEL else (\"CORRECT\" if expected == actual else \"INCORRECT\")\n",
    "    print(f\"{file_name:>10}      expected: {expected:>10}      actual: {actual:>10}      outcome: {outcome}\")"
   ],
   "metadata": {
    "collapsed": false
   }
  }
 ],
 "metadata": {
  "kernelspec": {
   "display_name": "Python 3 (ipykernel)",
   "language": "python",
   "name": "python3"
  },
  "language_info": {
   "codemirror_mode": {
    "name": "ipython",
    "version": 3
   },
   "file_extension": ".py",
   "mimetype": "text/x-python",
   "name": "python",
   "nbconvert_exporter": "python",
   "pygments_lexer": "ipython3",
   "version": "3.10.6"
  }
 },
 "nbformat": 4,
 "nbformat_minor": 1
}
