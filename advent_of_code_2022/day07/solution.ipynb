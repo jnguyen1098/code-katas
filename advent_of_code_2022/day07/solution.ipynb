{
 "cells": [
  {
   "cell_type": "markdown",
   "source": [
    "# [Advent of Code 2022 Day 7](https://adventofcode.com/2022/day/7)\n",
    "\n",
    "got fucked pretty hard, not gonna do writeup out of shame"
   ],
   "metadata": {
    "collapsed": false
   },
   "outputs": []
  },
  {
   "cell_type": "markdown",
   "source": [
    "## Initial setup"
   ],
   "metadata": {
    "collapsed": false
   }
  },
  {
   "cell_type": "code",
   "execution_count": 1,
   "metadata": {},
   "outputs": [],
   "source": [
    "import ipytest\n",
    "import sys\n",
    "sys.path.append(\"..\")\n",
    "from ansi import *\n",
    "from comp import *\n",
    "from dataclasses import dataclass\n",
    "ipytest.autoconfig()"
   ]
  },
  {
   "cell_type": "markdown",
   "source": [
    "## Input Parsing"
   ],
   "metadata": {
    "collapsed": false
   }
  },
  {
   "cell_type": "code",
   "execution_count": 2,
   "outputs": [],
   "source": [
    "@dataclass\n",
    "class Command:\n",
    "    command: str\n",
    "    output: list[str]\n",
    "\n",
    "def parse_input(filename):\n",
    "\n",
    "    gen = yield_line(filename)\n",
    "\n",
    "    result = []\n",
    "    curr_command = None\n",
    "\n",
    "    for line in gen:\n",
    "        if line[0] == \"$\":\n",
    "            if curr_command is not None:\n",
    "                result.append(curr_command)\n",
    "            curr_command = Command(command=parse(r\"\\$ (.*)\", line)[0], output=[])\n",
    "        else:\n",
    "            curr_command.output.append(line.split(\" \"))\n",
    "\n",
    "    result.append(curr_command)\n",
    "\n",
    "    return result"
   ],
   "metadata": {
    "collapsed": false
   }
  },
  {
   "cell_type": "markdown",
   "source": [
    "## Part 1\n",
    "Lorem ipsum"
   ],
   "metadata": {
    "collapsed": false
   }
  },
  {
   "cell_type": "code",
   "execution_count": 3,
   "outputs": [],
   "source": [
    "def go_up(curr_dir: str) -> str:\n",
    "    chunks = curr_dir.split(\"/\")\n",
    "    chunks.pop()\n",
    "    return \"/\".join(chunks)\n",
    "\n",
    "def get_directory(path: str) -> str:\n",
    "    if path == \"/\":\n",
    "        return \"/\"\n",
    "    return path.split(\"/\")[-1]\n",
    "\n",
    "class Path:\n",
    "    def __init__(self, fullname: str, name: str, parent):\n",
    "        self.fullname = fullname\n",
    "        self.name = name\n",
    "        self.parent = parent\n",
    "        self.items = {}\n",
    "        self.files = []\n",
    "\n",
    "def part_one(data):\n",
    "\n",
    "    abs_path = \"/\"\n",
    "    root = Path(name=\"/\", parent=None, fullname=\"/\")\n",
    "    curr_dir = root\n",
    "\n",
    "    for command_object in data[1:]:\n",
    "        command, output = command_object.command, command_object.output\n",
    "        if command == \"cd ..\":\n",
    "            curr_dir = curr_dir.parent\n",
    "            assert output == []\n",
    "        elif command.startswith(\"cd \"):\n",
    "            new_dir = command[3:]\n",
    "            if new_dir in curr_dir.items:\n",
    "                curr_dir = curr_dir.items[new_dir]\n",
    "            else:\n",
    "                abs_path += (\"\" if abs_path == \"/\" else \"/\") + new_dir\n",
    "                curr_dir.items[new_dir] = Path(fullname=abs_path, name=new_dir, parent=curr_dir)\n",
    "                curr_dir = curr_dir.items[new_dir]\n",
    "            assert output == []\n",
    "        elif command == \"ls\":\n",
    "            assert output != []\n",
    "            for info in output:\n",
    "                if info[0].isdigit():\n",
    "                    file_size, file_name = info\n",
    "                    curr_dir.files.append((int(file_size), file_name))\n",
    "                elif info[0] == \"dir\":\n",
    "                    ignore, folder_name = info\n",
    "                else:\n",
    "                    raise Exception(f\"Unexpected output/info line {info}\")\n",
    "        else:\n",
    "            raise Exception(f\"Unexpected command {command}\")\n",
    "\n",
    "    sizes = {}\n",
    "\n",
    "    def get_size(directory) -> int:\n",
    "        siz = 0\n",
    "        for file_size, file_name in directory.files:\n",
    "            siz += int(file_size)\n",
    "        for folder_name, folder_object in directory.items.items():\n",
    "            siz += get_size(folder_object)\n",
    "        assert directory.name not in sizes\n",
    "        sizes[directory.fullname] = int(siz)\n",
    "        return siz\n",
    "\n",
    "    answer = 0\n",
    "\n",
    "    get_size(root)\n",
    "\n",
    "    for name, size in sizes.items():\n",
    "        if size <= 100000:\n",
    "            print(name)\n",
    "            answer += size\n",
    "\n",
    "    return answer"
   ],
   "metadata": {
    "collapsed": false
   }
  },
  {
   "cell_type": "code",
   "execution_count": 4,
   "outputs": [
    {
     "name": "stdout",
     "output_type": "stream",
     "text": [
      "\u001B[32m.\u001B[0m\u001B[32m.\u001B[0m\u001B[32m.\u001B[0m\u001B[32m                                                                                          [100%]\u001B[0m\n",
      "\u001B[32m\u001B[32m\u001B[1m3 passed\u001B[0m\u001B[32m in 0.02s\u001B[0m\u001B[0m\n"
     ]
    }
   ],
   "source": [
    "%%ipytest\n",
    "def test_go_up():\n",
    "    assert go_up(\"hello/world\") == \"hello\"\n",
    "def test_get_directory():\n",
    "    assert get_directory(\"/hello/world\") == \"world\"\n",
    "    assert get_directory(\"/hello\") == \"hello\"\n",
    "def test_part_one():\n",
    "    assert part_one(parse_input(\"example1\")) == 95437\n",
    "    assert part_one(parse_input(\"input\")) == 1325919"
   ],
   "metadata": {
    "collapsed": false
   }
  },
  {
   "cell_type": "markdown",
   "source": [
    "## Part 2\n",
    "Lorem ipsum"
   ],
   "metadata": {
    "collapsed": false
   }
  },
  {
   "cell_type": "code",
   "execution_count": 5,
   "outputs": [],
   "source": [
    "def part_two(data):\n",
    "\n",
    "    abs_path = \"/\"\n",
    "    root = Path(name=\"/\", parent=None, fullname=\"/\")\n",
    "    curr_dir = root\n",
    "\n",
    "    for command_object in data[1:]:\n",
    "        command, output = command_object.command, command_object.output\n",
    "        if command == \"cd ..\":\n",
    "            curr_dir = curr_dir.parent\n",
    "            assert output == []\n",
    "        elif command.startswith(\"cd \"):\n",
    "            new_dir = command[3:]\n",
    "            if new_dir in curr_dir.items:\n",
    "                curr_dir = curr_dir.items[new_dir]\n",
    "            else:\n",
    "                abs_path += (\"\" if abs_path == \"/\" else \"/\") + new_dir\n",
    "                curr_dir.items[new_dir] = Path(fullname=abs_path, name=new_dir, parent=curr_dir)\n",
    "                curr_dir = curr_dir.items[new_dir]\n",
    "            assert output == []\n",
    "        elif command == \"ls\":\n",
    "            assert output != []\n",
    "            for info in output:\n",
    "                if info[0].isdigit():\n",
    "                    file_size, file_name = info\n",
    "                    curr_dir.files.append((int(file_size), file_name))\n",
    "                elif info[0] == \"dir\":\n",
    "                    ignore, folder_name = info\n",
    "                else:\n",
    "                    raise Exception(f\"Unexpected output/info line {info}\")\n",
    "        else:\n",
    "            raise Exception(f\"Unexpected command {command}\")\n",
    "\n",
    "    sizes = {}\n",
    "\n",
    "    def get_size(directory) -> int:\n",
    "        siz = 0\n",
    "        for file_size, file_name in directory.files:\n",
    "            siz += int(file_size)\n",
    "        for folder_name, folder_object in directory.items.items():\n",
    "            siz += get_size(folder_object)\n",
    "        assert directory.name not in sizes\n",
    "        sizes[directory.fullname] = int(siz)\n",
    "        return siz\n",
    "\n",
    "    answer = 0\n",
    "\n",
    "    get_size(root)\n",
    "\n",
    "    target = 30000000 - (70000000 - sizes[\"/\"])\n",
    "\n",
    "    print(f\"target is {target}\")\n",
    "\n",
    "    lmao = sorted(sizes.items(), key=lambda x: x[1])\n",
    "\n",
    "    for a, b in lmao:\n",
    "        # print(b)\n",
    "        if b >= target:\n",
    "            print(\"FOUND IT\")\n",
    "            return b\n",
    "\n",
    "    raise Exception(\"bad\")"
   ],
   "metadata": {
    "collapsed": false
   }
  },
  {
   "cell_type": "code",
   "execution_count": 6,
   "outputs": [
    {
     "name": "stdout",
     "output_type": "stream",
     "text": [
      "\u001B[32m.\u001B[0m\u001B[32m                                                                                            [100%]\u001B[0m\n",
      "\u001B[32m\u001B[32m\u001B[1m1 passed\u001B[0m\u001B[32m in 0.02s\u001B[0m\u001B[0m\n"
     ]
    }
   ],
   "source": [
    "%%ipytest\n",
    "def test_part_two():\n",
    "    assert part_two(parse_input(\"example1\")) == 24933642\n",
    "    assert part_two(parse_input(\"input\")) == 2050735"
   ],
   "metadata": {
    "collapsed": false
   }
  }
 ],
 "metadata": {
  "kernelspec": {
   "display_name": "Python 3 (ipykernel)",
   "language": "python",
   "name": "python3"
  },
  "language_info": {
   "codemirror_mode": {
    "name": "ipython",
    "version": 3
   },
   "file_extension": ".py",
   "mimetype": "text/x-python",
   "name": "python",
   "nbconvert_exporter": "python",
   "pygments_lexer": "ipython3",
   "version": "3.10.6"
  }
 },
 "nbformat": 4,
 "nbformat_minor": 1
}
