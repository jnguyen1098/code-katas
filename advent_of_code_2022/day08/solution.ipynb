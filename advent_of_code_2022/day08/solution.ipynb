{
 "cells": [
  {
   "cell_type": "markdown",
   "source": [
    "# [Advent of Code 2022 Day 8](https://adventofcode.com/2022/day/8)\n",
    "\n",
    "i misread the question again. every day i seethe a little more."
   ],
   "metadata": {
    "collapsed": false
   },
   "outputs": []
  },
  {
   "cell_type": "markdown",
   "source": [
    "## Initial setup"
   ],
   "metadata": {
    "collapsed": false
   }
  },
  {
   "cell_type": "code",
   "execution_count": 1,
   "metadata": {},
   "outputs": [],
   "source": [
    "import ipytest\n",
    "import sys\n",
    "sys.path.append(\"..\")\n",
    "from ansi import *\n",
    "from comp import *\n",
    "ipytest.autoconfig()"
   ]
  },
  {
   "cell_type": "markdown",
   "source": [
    "## Input Parsing"
   ],
   "metadata": {
    "collapsed": false
   }
  },
  {
   "cell_type": "code",
   "execution_count": 2,
   "outputs": [],
   "source": [
    "def parse_input(filename):\n",
    "\n",
    "    gen = yield_line(filename)\n",
    "\n",
    "    result = []\n",
    "\n",
    "    for line in gen:\n",
    "        result.append(intgrid(line))\n",
    "\n",
    "    return result"
   ],
   "metadata": {
    "collapsed": false
   }
  },
  {
   "cell_type": "markdown",
   "source": [
    "## Part 1\n",
    "Lorem ipsum"
   ],
   "metadata": {
    "collapsed": false
   }
  },
  {
   "cell_type": "code",
   "execution_count": 3,
   "outputs": [],
   "source": [
    "def part_one(data):\n",
    "    answer = 0\n",
    "\n",
    "    rows = len(data)\n",
    "    cols = len(data[0])\n",
    "\n",
    "    def is_visible(i, j) -> int:\n",
    "        if i == 0 or i == rows - 1 or j == 0 or j == cols - 1:\n",
    "            return 1\n",
    "        # go up\n",
    "        x, y = i - 1, j\n",
    "        last = None\n",
    "        while True:\n",
    "            if data[x][y] >= data[i][j]:\n",
    "                break\n",
    "            if x == 0:\n",
    "                return 1\n",
    "            x -= 1\n",
    "        # go down\n",
    "        x, y = i + 1, j\n",
    "        last = None\n",
    "        while True:\n",
    "            if data[x][y] >= data[i][j]:\n",
    "                break\n",
    "            if x == rows - 1:\n",
    "                return 1\n",
    "\n",
    "            x += 1\n",
    "        # go left\n",
    "        x, y = i, j - 1\n",
    "        last = None\n",
    "        while True:\n",
    "            if data[x][y] >= data[i][j]:\n",
    "                break\n",
    "            if y == 0:\n",
    "                return 1\n",
    "\n",
    "            y -= 1\n",
    "        # go right\n",
    "        x, y = i, j + 1\n",
    "        last = None\n",
    "        while True:\n",
    "            if data[x][y] >= data[i][j]:\n",
    "                break\n",
    "            if y == cols - 1:\n",
    "                return 1\n",
    "\n",
    "            y += 1\n",
    "        return 0\n",
    "\n",
    "    answer = set()\n",
    "\n",
    "    for i in range(cols):\n",
    "        assert is_visible(0, i)\n",
    "        assert is_visible(rows - 1, i)\n",
    "\n",
    "    for i in range(rows):\n",
    "        assert is_visible(i, 0)\n",
    "        assert is_visible(i, cols - 1)\n",
    "\n",
    "    for i in range(len(data)):\n",
    "        for j in range(len(data[i])):\n",
    "            ans = is_visible(i, j)\n",
    "            # print(f\"{i},{j} => {ans}\")\n",
    "            if ans:\n",
    "                answer.add((i, j))\n",
    "\n",
    "    return len(answer)"
   ],
   "metadata": {
    "collapsed": false
   }
  },
  {
   "cell_type": "code",
   "execution_count": 4,
   "outputs": [
    {
     "name": "stdout",
     "output_type": "stream",
     "text": [
      "\u001B[32m.\u001B[0m\u001B[32m                                                                                            [100%]\u001B[0m\n",
      "\u001B[32m\u001B[32m\u001B[1m1 passed\u001B[0m\u001B[32m in 0.04s\u001B[0m\u001B[0m\n"
     ]
    }
   ],
   "source": [
    "%%ipytest\n",
    "def test_part_one():\n",
    "    assert part_one(parse_input(\"input\")) == 21\n",
    "    assert part_one(parse_input(\"example1\")) == 1719"
   ],
   "metadata": {
    "collapsed": false
   }
  },
  {
   "cell_type": "markdown",
   "source": [
    "## Part 2\n",
    "Lorem ipsum"
   ],
   "metadata": {
    "collapsed": false
   }
  },
  {
   "cell_type": "code",
   "execution_count": 5,
   "outputs": [],
   "source": [
    "\n",
    "def part_two(data):\n",
    "    max_scenic = -math.inf\n",
    "\n",
    "    def get_scenic(i, j) -> int:\n",
    "        score = [0] * 4\n",
    "\n",
    "        x, y = i - 1, j\n",
    "        while x >= 0:\n",
    "            if data[x][y] < data[i][j]:\n",
    "                score[0] += 1\n",
    "            else:\n",
    "                score[0] += 1\n",
    "                break\n",
    "            x -= 1\n",
    "\n",
    "        x, y = i, j - 1\n",
    "        while y >= 0:\n",
    "            if data[x][y] < data[i][j]:\n",
    "                score[1] += 1\n",
    "            else:\n",
    "                score[1] += 1\n",
    "                break\n",
    "            y -= 1\n",
    "\n",
    "        x, y = i, j + 1\n",
    "        while y < len(data[0]):\n",
    "            if data[x][y] < data[i][j]:\n",
    "                score[2] += 1\n",
    "            else:\n",
    "                score[2] += 1\n",
    "                break\n",
    "            y += 1\n",
    "\n",
    "        x, y = i + 1, j\n",
    "        while x < len(data):\n",
    "            if data[x][y] < data[i][j]:\n",
    "                score[3] += 1\n",
    "            else:\n",
    "                score[3] += 1\n",
    "                break\n",
    "            x += 1\n",
    "\n",
    "        answer = score[0]\n",
    "        answer *= score[1]\n",
    "        answer *= score[2]\n",
    "        answer *= score[3]\n",
    "        return answer\n",
    "\n",
    "    for i in range(len(data)):\n",
    "        for j in range(len(data[i])):\n",
    "            max_scenic = max(max_scenic, get_scenic(i, j))\n",
    "\n",
    "    return max_scenic"
   ],
   "metadata": {
    "collapsed": false
   }
  },
  {
   "cell_type": "code",
   "execution_count": 6,
   "outputs": [
    {
     "name": "stdout",
     "output_type": "stream",
     "text": [
      "\u001B[32m.\u001B[0m\u001B[32m                                                                                            [100%]\u001B[0m\n",
      "\u001B[32m\u001B[32m\u001B[1m1 passed\u001B[0m\u001B[32m in 0.05s\u001B[0m\u001B[0m\n"
     ]
    }
   ],
   "source": [
    "%%ipytest\n",
    "def test_part_two():\n",
    "    assert part_two(parse_input(\"input\")) == 8\n",
    "    assert part_two(parse_input(\"example1\")) == 590824"
   ],
   "metadata": {
    "collapsed": false
   }
  }
 ],
 "metadata": {
  "kernelspec": {
   "display_name": "Python 3 (ipykernel)",
   "language": "python",
   "name": "python3"
  },
  "language_info": {
   "codemirror_mode": {
    "name": "ipython",
    "version": 3
   },
   "file_extension": ".py",
   "mimetype": "text/x-python",
   "name": "python",
   "nbconvert_exporter": "python",
   "pygments_lexer": "ipython3",
   "version": "3.10.6"
  }
 },
 "nbformat": 4,
 "nbformat_minor": 1
}
