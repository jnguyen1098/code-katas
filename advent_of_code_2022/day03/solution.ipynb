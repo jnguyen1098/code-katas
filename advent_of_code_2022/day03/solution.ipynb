{
 "cells": [
  {
   "cell_type": "markdown",
   "source": [
    "# [Advent of Code 2022 Day 3](https://adventofcode.com/2022/day/3)\n",
    "\n",
    "Overthought this one..."
   ],
   "metadata": {
    "collapsed": false
   },
   "outputs": []
  },
  {
   "cell_type": "markdown",
   "source": [
    "## Initial setup"
   ],
   "metadata": {
    "collapsed": false
   }
  },
  {
   "cell_type": "code",
   "execution_count": 1,
   "metadata": {},
   "outputs": [],
   "source": [
    "import ipytest\n",
    "import sys\n",
    "sys.path.append(\"..\")\n",
    "from ansi import *\n",
    "from comp import *\n",
    "ipytest.autoconfig()"
   ]
  },
  {
   "cell_type": "markdown",
   "source": [
    "## Input Parsing\n",
    "Each line is used wholly as a string, so no further processing was needed."
   ],
   "metadata": {
    "collapsed": false
   }
  },
  {
   "cell_type": "code",
   "execution_count": 2,
   "outputs": [],
   "source": [
    "def parse_input(filename):\n",
    "\n",
    "    gen = yield_line(filename)\n",
    "\n",
    "    result = []\n",
    "\n",
    "    for line in gen:\n",
    "        result.append(line)\n",
    "\n",
    "    return result"
   ],
   "metadata": {
    "collapsed": false
   }
  },
  {
   "cell_type": "markdown",
   "source": [
    "## Part 1\n",
    "I messed this part up. I speedread the description and thought it was a sliding window question where you had to continuously grow two contiguous windows (e.g., (a) (bcde), (ab) (cde), (abc) (de), (abcd) (e), etc.) so I ended up getting over 1000 when the example expected 157... lul\n",
    "\n",
    "Anyways, Python allows easy set manipulation which I abused here."
   ],
   "metadata": {
    "collapsed": false
   }
  },
  {
   "cell_type": "code",
   "execution_count": 3,
   "outputs": [],
   "source": [
    "def cost(letter):\n",
    "    assert len(letter) == 1\n",
    "    if letter in \"abcdefghijklmnopqrstuvwxyz\":\n",
    "        return ord(letter) - ord(\"a\") + 1\n",
    "    if letter in \"ABCDEFGHIJKLMNOPQRSTUVWXYZ\":\n",
    "        return ord(letter) - ord(\"A\") + 27\n",
    "    raise\n",
    "\n",
    "def part_one(data):\n",
    "    prio = 0\n",
    "    for line in data:\n",
    "        the_len = len(line) // 2\n",
    "        first = set(line[:the_len])\n",
    "        second = set(line[the_len:])\n",
    "        prio += cost((first & second).pop())\n",
    "\n",
    "    return prio"
   ],
   "metadata": {
    "collapsed": false
   }
  },
  {
   "cell_type": "code",
   "execution_count": 4,
   "outputs": [
    {
     "name": "stdout",
     "output_type": "stream",
     "text": [
      "\u001B[32m.\u001B[0m\u001B[32m.\u001B[0m\u001B[32m                                                                                           [100%]\u001B[0m\n",
      "\u001B[32m\u001B[32m\u001B[1m2 passed\u001B[0m\u001B[32m in 0.01s\u001B[0m\u001B[0m\n"
     ]
    }
   ],
   "source": [
    "%%ipytest\n",
    "def test_cost():\n",
    "    assert cost(\"a\") == 1\n",
    "    assert cost(\"A\") == 27\n",
    "def test_part_one():\n",
    "    assert part_one(parse_input(\"example1\")) == 157\n",
    "    assert part_one(parse_input(\"input\")) == 8018"
   ],
   "metadata": {
    "collapsed": false
   }
  },
  {
   "cell_type": "markdown",
   "source": [
    "## Part 2\n",
    "Same thing, but I chose to manually increment the iterator for the for loop so I could only receive groups of 3 at a time. The result of a set intersection is itself a set, so I was able to easily chain together multiple `&`s and get the answer."
   ],
   "metadata": {
    "collapsed": false
   }
  },
  {
   "cell_type": "code",
   "execution_count": 5,
   "outputs": [],
   "source": [
    "def part_two(data):\n",
    "    i = 0\n",
    "    prio = 0\n",
    "    while i < len(data):\n",
    "        first = set(data[i])\n",
    "        second = set(data[i + 1])\n",
    "        third = set(data[i + 2])\n",
    "        prio += cost((first & second & third).pop())\n",
    "        i += 3\n",
    "    return prio"
   ],
   "metadata": {
    "collapsed": false
   }
  },
  {
   "cell_type": "code",
   "execution_count": 6,
   "outputs": [
    {
     "name": "stdout",
     "output_type": "stream",
     "text": [
      "\u001B[32m.\u001B[0m\u001B[32m                                                                                            [100%]\u001B[0m\n",
      "\u001B[32m\u001B[32m\u001B[1m1 passed\u001B[0m\u001B[32m in 0.01s\u001B[0m\u001B[0m\n"
     ]
    }
   ],
   "source": [
    "%%ipytest\n",
    "def test_part_two():\n",
    "    assert part_two(parse_input(\"example1\")) == 70\n",
    "    assert part_two(parse_input(\"input\")) == 2518"
   ],
   "metadata": {
    "collapsed": false
   }
  },
  {
   "cell_type": "markdown",
   "source": [
    "Jinxing myself and trying to rush the questions is a problem I suffered from greatly in AOC 2021. I need to pace myself."
   ],
   "metadata": {
    "collapsed": false
   }
  }
 ],
 "metadata": {
  "kernelspec": {
   "display_name": "Python 3 (ipykernel)",
   "language": "python",
   "name": "python3"
  },
  "language_info": {
   "codemirror_mode": {
    "name": "ipython",
    "version": 3
   },
   "file_extension": ".py",
   "mimetype": "text/x-python",
   "name": "python",
   "nbconvert_exporter": "python",
   "pygments_lexer": "ipython3",
   "version": "3.10.6"
  }
 },
 "nbformat": 4,
 "nbformat_minor": 1
}
