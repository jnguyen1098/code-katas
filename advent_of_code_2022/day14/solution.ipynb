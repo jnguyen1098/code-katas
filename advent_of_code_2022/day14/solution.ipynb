{
 "cells": [
  {
   "cell_type": "markdown",
   "source": [
    "# [Advent of Code 2022 Day 14](https://adventofcode.com/2022/day/14/answer)\n",
    "bested by sorites paradox..."
   ],
   "metadata": {
    "collapsed": false
   },
   "outputs": []
  },
  {
   "cell_type": "code",
   "execution_count": null,
   "metadata": {
    "pycharm": {
     "is_executing": true
    }
   },
   "outputs": [],
   "source": [
    "from __future__ import annotations\n",
    "import ipytest\n",
    "import pytest\n",
    "import sys\n",
    "sys.path.append(\"..\")\n",
    "from ansi import *\n",
    "from comp import *\n",
    "ipytest.autoconfig()\n",
    "PART_ONE_SENTINEL = 0x3f3f3f3f + 1\n",
    "PART_TWO_SENTINEL = 0x3f3f3f3f + 2\n",
    "run_doctest_for = lambda func: doctest.run_docstring_examples(func, globals())"
   ]
  },
  {
   "cell_type": "markdown",
   "source": [
    "## Test Cases"
   ],
   "metadata": {
    "collapsed": false
   }
  },
  {
   "cell_type": "code",
   "execution_count": null,
   "outputs": [],
   "source": [
    "PART_ONE_CASES: dict[str, dict[str, str | int]] = {\n",
    "    \"example\": {\n",
    "        \"example1\": 24,\n",
    "    },\n",
    "    \"input\": {\n",
    "        \"input1\": 655,\n",
    "    },\n",
    "}\n",
    "PART_ONE_INPUTS: dict[str, dict[str, str | int]] = {\n",
    "    key: {} for key in PART_ONE_CASES.keys()\n",
    "}\n",
    "PART_ONE_OUTPUTS: dict[str, dict[str, str | int]] = {\n",
    "    key: {} for key in PART_ONE_CASES.keys()\n",
    "}"
   ],
   "metadata": {
    "collapsed": false
   }
  },
  {
   "cell_type": "code",
   "execution_count": null,
   "outputs": [],
   "source": [
    "PART_TWO_CASES: dict[str, dict[str, str | int]] = {\n",
    "    \"example\": {\n",
    "        \"example1\": 93,\n",
    "    },\n",
    "    \"input\": {\n",
    "        \"input1\": 26484,\n",
    "    },\n",
    "}\n",
    "PART_TWO_INPUTS: dict[str, dict[str, str | int]] = {\n",
    "    key: {} for key in PART_TWO_CASES.keys()\n",
    "}\n",
    "PART_TWO_OUTPUTS: dict[str, dict[str, str | int]] = {\n",
    "    key: {} for key in PART_TWO_CASES.keys()\n",
    "}"
   ],
   "metadata": {
    "collapsed": false
   }
  },
  {
   "cell_type": "markdown",
   "source": [
    "## Input Parsing"
   ],
   "metadata": {
    "collapsed": false
   }
  },
  {
   "cell_type": "code",
   "execution_count": null,
   "outputs": [],
   "source": [
    "class Model(BaseModel):\n",
    "    data: Any\n",
    "\n",
    "def line_to_points(line: str, ctx: Context | None = None) -> list[Point]:\n",
    "    rock_coords = line.split(\" -> \")\n",
    "    if ctx is None:\n",
    "        ctx = Context()\n",
    "        ctx.x_min = INF\n",
    "        ctx.x_max = -INF\n",
    "        ctx.y_min = INF\n",
    "        ctx.y_max = -INF\n",
    "    parsed_coords = []\n",
    "    for lmao in rock_coords:\n",
    "        x, y = list(map(int, parse(r\"(-?\\d+),(-?\\d+)\", lmao)))\n",
    "        ctx.x_min = min(ctx.x_min, x)\n",
    "        ctx.x_max = max(ctx.x_max, x)\n",
    "        ctx.y_min = min(ctx.y_min, y)\n",
    "        ctx.y_max = max(ctx.y_max, y)\n",
    "        parsed_coords.append(Point(x, y))\n",
    "    return parsed_coords\n",
    "\n",
    "def parse_input_from_filename(filename: str) -> Context:\n",
    "    lines = list(yield_line(filename))\n",
    "\n",
    "    ctx = Context()\n",
    "    ctx.input = []\n",
    "\n",
    "    input_lines = ctx.input\n",
    "\n",
    "    ctx.x_min = INF\n",
    "    ctx.x_max = -INF\n",
    "    ctx.y_min = INF\n",
    "    ctx.y_max = -INF\n",
    "\n",
    "    for idx, line in enumerate(lines):\n",
    "        input_lines.append(line_to_points(line, ctx))\n",
    "\n",
    "    print(f\"{ctx.x_min=} {ctx.x_max=} {ctx.y_min=} {ctx.y_max=}\")\n",
    "\n",
    "    return ctx"
   ],
   "metadata": {
    "collapsed": false
   }
  },
  {
   "cell_type": "code",
   "execution_count": null,
   "outputs": [],
   "source": [
    "%%ipytest -xrPvvvvv\n",
    "@pytest.mark.parametrize(\"test_file_name\", PART_ONE_CASES[\"example\"].keys() | PART_TWO_CASES[\"example\"].keys())\n",
    "def test_parsing_examples(test_file_name):\n",
    "    for entity in parse_input_from_filename(test_file_name).input:\n",
    "        enable_logging()\n",
    "        log(f\"{entity}\")"
   ],
   "metadata": {
    "collapsed": false
   }
  },
  {
   "cell_type": "code",
   "execution_count": null,
   "outputs": [],
   "source": [
    "%%ipytest -xrPvvvvv\n",
    "@pytest.mark.parametrize(\"test_file_name\", PART_ONE_CASES[\"input\"].keys() | PART_TWO_CASES[\"input\"].keys())\n",
    "def test_parsing_inputs(test_file_name):\n",
    "    for entity in parse_input_from_filename(test_file_name).input:\n",
    "        enable_logging()\n",
    "        log(f\"{entity}\")"
   ],
   "metadata": {
    "collapsed": false
   }
  },
  {
   "cell_type": "markdown",
   "source": [
    "## Helper Functions"
   ],
   "metadata": {
    "collapsed": false
   }
  },
  {
   "cell_type": "markdown",
   "source": [
    "### `get_intervals()`"
   ],
   "metadata": {
    "collapsed": false
   }
  },
  {
   "cell_type": "code",
   "execution_count": null,
   "outputs": [],
   "source": [
    "%%ipytest -xrP\n",
    "\n",
    "def get_intervals(points: list[Point]) -> set[tuple[Point, Point]]:\n",
    "    intervals = set()\n",
    "    for i in range(len(points) - 1):\n",
    "        point1 = points[i]\n",
    "        point2 = points[i + 1]\n",
    "        assert point1.adja_infinite(point2)\n",
    "        intervals.add((point1, point2))\n",
    "    return intervals\n",
    "\n",
    "def test_helper_1() -> None:\n",
    "    assert (points := get_intervals(line_to_points(\"498,4 -> 498,6 -> 496,6\"))) == {\n",
    "        (Point(498, 4), Point(498, 6)),\n",
    "        (Point(498, 6), Point(496, 6)),\n",
    "    }\n",
    "    assert (points := get_intervals(line_to_points(\"503,4 -> 502,4 -> 502,9 -> 494,9\"))) == {\n",
    "        (Point(503, 4), Point(502, 4)),\n",
    "        (Point(502, 4), Point(502, 9)),\n",
    "        (Point(502, 9), Point(494, 9)),\n",
    "    }"
   ],
   "metadata": {
    "collapsed": false
   }
  },
  {
   "cell_type": "markdown",
   "source": [],
   "metadata": {
    "collapsed": false
   }
  },
  {
   "cell_type": "markdown",
   "source": [
    "### `point_intersects_interval()`"
   ],
   "metadata": {
    "collapsed": false
   }
  },
  {
   "cell_type": "code",
   "execution_count": null,
   "outputs": [],
   "source": [
    "%%ipytest -xrPvvvvv\n",
    "\n",
    "def point_intersects_interval(point: Point, interval: tuple[Point, Point]) -> bool:\n",
    "    x, y = point\n",
    "    point1, point2 = sorted(interval)\n",
    "    if point1.horz_infinite(point2):\n",
    "        return x == point1.x and point1.y <= y <= point2.y\n",
    "    elif point1.vert_infinite(point2):\n",
    "        return y == point1.y and point1.x <= x <= point2.x\n",
    "    raise ValueError(f\"Neither {point1=} nor {point2=} are parallel to each other\")\n",
    "\n",
    "def test_helper_2() -> None:\n",
    "    assert point_intersects_interval(Point(498, 5), (Point(498, 4), Point(498, 6))) is True\n",
    "    assert point_intersects_interval(Point(498, 4), (Point(498, 4), Point(498, 6))) is True\n",
    "    assert point_intersects_interval(Point(498, 6), (Point(498, 4), Point(498, 6))) is True\n",
    "    assert point_intersects_interval(Point(498, 7), (Point(498, 4), Point(498, 6))) is False\n",
    "    assert point_intersects_interval(Point(498, 7), (Point(496, 7), Point(499, 7))) is True\n",
    "    assert point_intersects_interval(Point(496, 7), (Point(496, 7), Point(499, 7))) is True\n",
    "    assert point_intersects_interval(Point(499, 7), (Point(496, 7), Point(499, 7))) is True\n",
    "    assert point_intersects_interval(Point(500, 7), (Point(496, 7), Point(499, 7))) is False"
   ],
   "metadata": {
    "collapsed": false
   }
  },
  {
   "cell_type": "markdown",
   "source": [
    "### `draw_board()`"
   ],
   "metadata": {
    "collapsed": false
   }
  },
  {
   "cell_type": "code",
   "execution_count": null,
   "outputs": [],
   "source": [
    "%%ipytest -xrPvvvvv\n",
    "\n",
    "def draw_board(board: dict[Any, Any], x_min: int, x_max: int, y_min: int, y_max: int) -> None:\n",
    "    for y in range(y_min, y_max + 1):\n",
    "        for x in range(x_min, x_max + 1):\n",
    "            log(f\"{board[x][y]}\", newline=False)\n",
    "        log(f\"\")\n",
    "\n",
    "def test_draw_board() -> None:\n",
    "    draw_board(defaultdict(lambda: defaultdict(lambda: \".\")), 0, 10, 0, 10)"
   ],
   "metadata": {
    "collapsed": false
   }
  },
  {
   "cell_type": "markdown",
   "source": [
    "### `initialize_board()`"
   ],
   "metadata": {
    "collapsed": false
   }
  },
  {
   "cell_type": "code",
   "execution_count": null,
   "outputs": [],
   "source": [
    "%%ipytest -xrPvvvvv\n",
    "\n",
    "def initialize_board(board: dict[Any, Any], intervals: list[tuple[Point, Point]]) -> dict[Any, Any]:\n",
    "    for pair in intervals:\n",
    "        point1, point2 = sorted(pair)\n",
    "        if point1.vert_infinite(point2):\n",
    "            assert point1.y == point2.y\n",
    "            for x in range(point1.x, point2.x + 1):\n",
    "                board[x][point2.y] = \"#\"\n",
    "        elif point1.horz_infinite(point2):\n",
    "            assert point1.x == point2.x\n",
    "            for y in range(point1.y, point2.y + 1):\n",
    "                board[point1.x][y] = \"#\"\n",
    "    return board\n",
    "\n",
    "def test_initialize_board() -> None:\n",
    "    board = defaultdict(lambda: defaultdict(lambda: \".\"))\n",
    "    initialize_board(board, [(Point(0, 1), Point(0, 10))])\n",
    "    draw_board(board, 0, 10, 0, 10)"
   ],
   "metadata": {
    "collapsed": false
   }
  },
  {
   "cell_type": "markdown",
   "source": [
    "### `drop_grain()`"
   ],
   "metadata": {
    "collapsed": false
   }
  },
  {
   "cell_type": "code",
   "execution_count": null,
   "outputs": [],
   "source": [
    "%%ipytest -xrPvvvvv\n",
    "\n",
    "def drop_grain(ctx: Context, board: dict[Any, Any], drop: Point, max_timeout: int | None = None) -> bool:\n",
    "    x, y = drop\n",
    "    iterations = 0\n",
    "    while True:\n",
    "        iterations += 1\n",
    "        if max_timeout is not None and iterations >= max_timeout:\n",
    "            raise Exception(\"timed out\")\n",
    "        xx, yy = x, y + 1\n",
    "        if y >= ctx.y_max + 2:\n",
    "            return False\n",
    "        loc = board[xx][yy]\n",
    "        if loc == \".\":\n",
    "            log(f\"{x, y} can drop to {xx, yy} because there is nothing below\")\n",
    "            x, y = xx, yy\n",
    "        elif loc in \"o#\":\n",
    "            log(f\"{x, y} is blocked below, going to try and go left\")\n",
    "            # try to go left\n",
    "            xx, yy = x - 1, y + 1\n",
    "            loc = board[xx][yy]\n",
    "            if loc in \"o#\":\n",
    "                log(f\"{x, y} is blocked to the left, going to try and go right\")\n",
    "                # try to go right\n",
    "                xx, yy = x + 1, y + 1\n",
    "                loc = board[xx][yy]\n",
    "                if loc in \"o#\":\n",
    "                    log(f\"{x, y} is infinitely blocked. going to rest here forever.\")\n",
    "                    if board[x][y] == \"o\":\n",
    "                        return False\n",
    "                    board[x][y] = \"o\"\n",
    "                    break\n",
    "                else:\n",
    "                    log(f\"{x, y} can go right. doing that\")\n",
    "                    x, y = xx, yy\n",
    "            else:\n",
    "                log(f\"{x, y} can go left. doing that\")\n",
    "                x, y = xx, yy\n",
    "        else:\n",
    "            raise NotImplementedError(f\"For some reason... bad things happened...\")\n",
    "    return True\n",
    "\n",
    "def test_helper_3() -> None:\n",
    "    assert True"
   ],
   "metadata": {
    "collapsed": false
   }
  },
  {
   "cell_type": "markdown",
   "source": [
    "### `count_grains()`"
   ],
   "metadata": {
    "collapsed": false
   }
  },
  {
   "cell_type": "code",
   "execution_count": null,
   "outputs": [],
   "source": [
    "%%ipytest -xrPvvvvv\n",
    "\n",
    "def count_grains(board: dict[Any, Any], x_min, x_max, y_min, y_max) -> int:\n",
    "    cnt = 0\n",
    "    for x in range(x_min, x_max + 1):\n",
    "        for y in range(y_min, y_max + 1):\n",
    "            if board[x][y] == \"o\":\n",
    "                cnt += 1\n",
    "    return cnt"
   ],
   "metadata": {
    "collapsed": false
   }
  },
  {
   "cell_type": "markdown",
   "source": [
    "## Main Function"
   ],
   "metadata": {
    "collapsed": false
   }
  },
  {
   "cell_type": "code",
   "execution_count": null,
   "outputs": [],
   "source": [
    "def solve(part: int, filename: str) -> int:\n",
    "    ctx = parse_input_from_filename(filename)\n",
    "    x_min, x_max, y_min, y_max = ctx.x_min, ctx.x_max, ctx.y_min, ctx.y_max\n",
    "    input = ctx.input\n",
    "\n",
    "    if part == 1:\n",
    "\n",
    "        all_intervals = set()\n",
    "        for points in input:\n",
    "            all_intervals |= get_intervals(points)\n",
    "\n",
    "        board = defaultdict(lambda: defaultdict(lambda: \".\"))\n",
    "        board = initialize_board(board, all_intervals)\n",
    "        disable_logging()\n",
    "        while True:\n",
    "            res = drop_grain(ctx, board, Point(500, 0))\n",
    "            if not res:\n",
    "                break\n",
    "\n",
    "        return count_grains(board, x_min, x_max, y_min - 10, y_max)\n",
    "\n",
    "    if part == 2:\n",
    "\n",
    "        x_offset = x_min\n",
    "        y_offset = 2\n",
    "\n",
    "        all_intervals = set()\n",
    "        for points in input:\n",
    "            all_intervals |= get_intervals(points)\n",
    "        all_intervals |= {(Point(x_min - x_offset, y_max + y_offset), Point(x_max + x_offset, y_max + y_offset))}\n",
    "        x_min -= x_offset\n",
    "        x_max += x_offset\n",
    "        y_max += y_offset\n",
    "\n",
    "        board = defaultdict(lambda: defaultdict(lambda: \".\"))\n",
    "        board = initialize_board(board, all_intervals)\n",
    "        disable_logging()\n",
    "        while True:\n",
    "            res = drop_grain(ctx, board, Point(500, 0))\n",
    "            if not res:\n",
    "                break\n",
    "\n",
    "        return count_grains(board, x_min, x_max, y_min - 1000, y_max)\n",
    "    else:\n",
    "        raise Exception(f\"Invalid part: {part}\")"
   ],
   "metadata": {
    "collapsed": false
   }
  },
  {
   "cell_type": "markdown",
   "source": [
    "### Part 1"
   ],
   "metadata": {
    "collapsed": false
   }
  },
  {
   "cell_type": "code",
   "execution_count": null,
   "outputs": [],
   "source": [
    "%%ipytest -xrPvvvvv\n",
    "@pytest.mark.parametrize(\"test_file_name, test_expected_output\", PART_ONE_CASES[\"example\"].items())\n",
    "def test_part_one_examples(test_file_name, test_expected_output):\n",
    "    test_actual_output = solve(1, test_file_name)\n",
    "    PART_ONE_OUTPUTS[\"example\"][test_file_name] = test_actual_output\n",
    "    failure_message = \"Did you forget to calibrate the example test case?\" if (\n",
    "        test_expected_output == PART_ONE_SENTINEL\n",
    "    ) else f\"Failed example test case: expected {test_expected_output} but got {test_actual_output}\"\n",
    "    assert test_actual_output == test_expected_output, failure_message\n",
    "\n",
    "@pytest.mark.parametrize(\"test_file_name, test_expected_output\", PART_ONE_CASES[\"input\"].items())\n",
    "def test_part_one_inputs(test_file_name, test_expected_output):\n",
    "    test_actual_output = solve(1, test_file_name)\n",
    "    PART_ONE_OUTPUTS[\"input\"][test_file_name] = test_actual_output\n",
    "    failure_message = f\"Candidate answer {test_actual_output} found\" if (\n",
    "        test_expected_output == PART_ONE_SENTINEL\n",
    "    ) else f\"Failed input test case: expected {test_expected_output} but got {test_actual_output}\"\n",
    "    assert test_actual_output == test_expected_output, failure_message"
   ],
   "metadata": {
    "collapsed": false
   }
  },
  {
   "cell_type": "markdown",
   "source": [
    "### Part 2"
   ],
   "metadata": {
    "collapsed": false
   }
  },
  {
   "cell_type": "code",
   "execution_count": null,
   "outputs": [],
   "source": [
    "%%ipytest -xrPvvvvv\n",
    "@pytest.mark.parametrize(\"test_file_name, test_expected_output\", PART_TWO_CASES[\"example\"].items())\n",
    "def test_part_two_examples(test_file_name, test_expected_output):\n",
    "    test_actual_output = solve(2, test_file_name)\n",
    "    PART_TWO_OUTPUTS[\"example\"][test_file_name] = test_actual_output\n",
    "    failure_message = \"Did you forget to calibrate the example test case?\" if (\n",
    "        test_expected_output == PART_TWO_SENTINEL\n",
    "    ) else f\"Failed example test case: expected {test_expected_output} but got {test_actual_output}\"\n",
    "    assert test_actual_output == test_expected_output, failure_message\n",
    "\n",
    "@pytest.mark.parametrize(\"test_file_name, test_expected_output\", PART_TWO_CASES[\"input\"].items())\n",
    "def test_part_two_inputs(test_file_name, test_expected_output):\n",
    "    test_actual_output = solve(2, test_file_name)\n",
    "    PART_TWO_OUTPUTS[\"input\"][test_file_name] = test_actual_output\n",
    "    failure_message = f\"Candidate answer {test_actual_output} found\" if (\n",
    "        test_expected_output == PART_TWO_SENTINEL\n",
    "    ) else f\"Failed input test case: expected {test_expected_output} but got {test_actual_output}\"\n",
    "    assert test_actual_output == test_expected_output, failure_message"
   ],
   "metadata": {
    "collapsed": false
   }
  },
  {
   "cell_type": "markdown",
   "source": [
    "dadada"
   ],
   "metadata": {
    "collapsed": false
   }
  }
 ],
 "metadata": {
  "kernelspec": {
   "display_name": "Python 3 (ipykernel)",
   "language": "python",
   "name": "python3"
  },
  "language_info": {
   "codemirror_mode": {
    "name": "ipython",
    "version": 3
   },
   "file_extension": ".py",
   "mimetype": "text/x-python",
   "name": "python",
   "nbconvert_exporter": "python",
   "pygments_lexer": "ipython3",
   "version": "3.10.6"
  }
 },
 "nbformat": 4,
 "nbformat_minor": 1
}
