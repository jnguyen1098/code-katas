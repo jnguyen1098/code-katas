{
 "cells": [
  {
   "cell_type": "markdown",
   "source": [
    "# [Advent of Code 2022 Day ?]()"
   ],
   "metadata": {
    "collapsed": false
   },
   "outputs": []
  },
  {
   "cell_type": "code",
   "execution_count": null,
   "metadata": {},
   "outputs": [],
   "source": [
    "from __future__ import annotations\n",
    "import ipytest\n",
    "import pytest\n",
    "import sys\n",
    "sys.path.append(\"..\")\n",
    "from ansi import *\n",
    "from comp import *\n",
    "ipytest.autoconfig()\n",
    "PART_ONE_SENTINEL = 0x3f3f3f3f + 1\n",
    "PART_TWO_SENTINEL = 0x3f3f3f3f + 2\n",
    "run_doctest_for = lambda func: doctest.run_docstring_examples(func, globals())"
   ]
  },
  {
   "cell_type": "markdown",
   "source": [
    "## Test Cases"
   ],
   "metadata": {
    "collapsed": false
   }
  },
  {
   "cell_type": "code",
   "execution_count": null,
   "outputs": [],
   "source": [
    "PART_ONE_CASES: dict[str, dict[str, str | int]] = {\n",
    "    \"example\": {\n",
    "        \"example1\": 24,\n",
    "    },\n",
    "    \"input\": {\n",
    "        \"input1\": 655,\n",
    "    },\n",
    "}\n",
    "PART_ONE_INPUTS: dict[str, dict[str, str | int]] = {\n",
    "    key: {} for key in PART_ONE_CASES.keys()\n",
    "}\n",
    "PART_ONE_OUTPUTS: dict[str, dict[str, str | int]] = {\n",
    "    key: {} for key in PART_ONE_CASES.keys()\n",
    "}"
   ],
   "metadata": {
    "collapsed": false
   }
  },
  {
   "cell_type": "code",
   "execution_count": null,
   "outputs": [],
   "source": [
    "PART_TWO_CASES: dict[str, dict[str, str | int]] = {\n",
    "    \"example\": {\n",
    "        \"example1\": 93,\n",
    "    },\n",
    "    \"input\": {\n",
    "        \"input1\": PART_TWO_SENTINEL,  # Not 1013 or 8192, both are too low\n",
    "    },\n",
    "}\n",
    "PART_TWO_INPUTS: dict[str, dict[str, str | int]] = {\n",
    "    key: {} for key in PART_TWO_CASES.keys()\n",
    "}\n",
    "PART_TWO_OUTPUTS: dict[str, dict[str, str | int]] = {\n",
    "    key: {} for key in PART_TWO_CASES.keys()\n",
    "}"
   ],
   "metadata": {
    "collapsed": false
   }
  },
  {
   "cell_type": "markdown",
   "source": [
    "## Input Parsing"
   ],
   "metadata": {
    "collapsed": false
   }
  },
  {
   "cell_type": "code",
   "execution_count": null,
   "outputs": [],
   "source": [
    "class Model(BaseModel):\n",
    "    data: Any\n",
    "\n",
    "def parse_input_from_filename(filename: str) -> Context:\n",
    "    lines = list(yield_line(filename))\n",
    "\n",
    "    ctx = Context()\n",
    "    ctx.input = []\n",
    "\n",
    "    input_lines = ctx.input\n",
    "\n",
    "    for idx, line in enumerate(lines):\n",
    "        chunks = line.split(\" -> \")\n",
    "        grains = [Point(*intsep(thing, \",\")) for thing in chunks]\n",
    "        input_lines.append(grains)\n",
    "\n",
    "    x_min = INF\n",
    "    x_max = -INF\n",
    "    y_min = INF\n",
    "    y_max = -INF\n",
    "\n",
    "    for point in chain.from_iterable(input_lines):\n",
    "        x, y = point\n",
    "        x_min = min(x_min, x)\n",
    "        x_max = max(x_max, x)\n",
    "        y_min = min(y_min, y)\n",
    "        y_max = max(y_max, y)\n",
    "\n",
    "    print(f\"{x_min=} {x_max=} {y_min=} {y_max=}\")\n",
    "\n",
    "    ctx.x_min = x_min\n",
    "    ctx.x_max = x_max\n",
    "    ctx.y_min = y_min\n",
    "    ctx.y_max = y_max\n",
    "\n",
    "    return ctx"
   ],
   "metadata": {
    "collapsed": false
   }
  },
  {
   "cell_type": "code",
   "execution_count": null,
   "outputs": [],
   "source": [
    "%%ipytest -xrPvvvvv\n",
    "@pytest.mark.parametrize(\"test_file_name\", PART_ONE_CASES[\"example\"].keys() | PART_TWO_CASES[\"example\"].keys())\n",
    "def test_parsing_examples(test_file_name):\n",
    "    for entity in parse_input_from_filename(test_file_name).input:\n",
    "        enable_logging()\n",
    "        log(f\"{entity}\")"
   ],
   "metadata": {
    "collapsed": false
   }
  },
  {
   "cell_type": "code",
   "execution_count": null,
   "outputs": [],
   "source": [
    "%%ipytest -xrPvvvvv\n",
    "@pytest.mark.parametrize(\"test_file_name\", PART_ONE_CASES[\"input\"].keys() | PART_TWO_CASES[\"input\"].keys())\n",
    "def test_parsing_inputs(test_file_name):\n",
    "    for entity in parse_input_from_filename(test_file_name).input:\n",
    "        enable_logging()\n",
    "        log(f\"{entity}\")"
   ],
   "metadata": {
    "collapsed": false
   }
  },
  {
   "cell_type": "markdown",
   "source": [
    "## Helper Functions"
   ],
   "metadata": {
    "collapsed": false
   }
  },
  {
   "cell_type": "markdown",
   "source": [
    "### Helper 1"
   ],
   "metadata": {
    "collapsed": false
   }
  },
  {
   "cell_type": "code",
   "execution_count": null,
   "outputs": [],
   "source": [
    "%%ipytest -xrPvvvvv\n",
    "\n",
    "def get_line_coords(coords: list[Point]) -> set[Point]:\n",
    "    assert len(coords) > 1, f\"coords should not be empty\"\n",
    "\n",
    "    points = set(coords)\n",
    "\n",
    "    for i in range(len(coords) - 1):\n",
    "        x1, y1 = coords[i]\n",
    "        x2, y2 = coords[i + 1]\n",
    "        if x1 == x2:\n",
    "            if y1 > y2:\n",
    "                while y1 > y2:\n",
    "                    y2 += 1\n",
    "                    points.add(Point(x1, y2))\n",
    "            elif y1 < y2:\n",
    "                while y1 < y2:\n",
    "                    y1 += 1\n",
    "                    points.add(Point(x1, y1))\n",
    "            else:\n",
    "                raise ValueError(f\"These two points are the same!\")\n",
    "        elif y1 == y2:\n",
    "            if x1 > x2:\n",
    "                while x1 > x2:\n",
    "                    x2 += 1\n",
    "                    points.add(Point(x2, y1))\n",
    "            elif x1 < x2:\n",
    "                while x1 < x2:\n",
    "                    x1 += 1\n",
    "                    points.add(Point(x1, y1))\n",
    "            else:\n",
    "                raise ValueError(f\"These two points are the same!\")\n",
    "        else:\n",
    "            raise ValueError(f\"Not possible to draw a non-diagonal line from {x1=} {y1=} -> {x2=} {y2=}\")\n",
    "\n",
    "    return points\n",
    "\n",
    "def test_helper_1() -> None:\n",
    "    assert get_line_coords([Point(498, 4), Point(498, 6), Point(496, 6)]) == {Point(498, 6), Point(498, 5), Point(498, 4), Point(497, 6), Point(496, 6)}\n",
    "    assert len(get_line_coords([Point(503, 4), Point(502, 4), Point(502, 9), Point(494, 9)])) == 15"
   ],
   "metadata": {
    "collapsed": false
   }
  },
  {
   "cell_type": "markdown",
   "source": [],
   "metadata": {
    "collapsed": false
   }
  },
  {
   "cell_type": "markdown",
   "source": [
    "### Helper 2"
   ],
   "metadata": {
    "collapsed": false
   }
  },
  {
   "cell_type": "code",
   "execution_count": null,
   "outputs": [],
   "source": [
    "%%ipytest -xrPvvvvv\n",
    "\n",
    "def draw_board(board: list[list[str]]) -> None:\n",
    "    for i in range(len(board)):\n",
    "        print(f\"{i: 2} {board[i]}\")\n",
    "\n",
    "def test_helper_2() -> None:\n",
    "    draw_board(\n",
    "        [\n",
    "            list(\"......+...\"),\n",
    "            list(\"..........\"),\n",
    "            list(\"..........\"),\n",
    "            list(\"..........\"),\n",
    "            list(\"....#...##\"),\n",
    "            list(\"....#...#.\"),\n",
    "            list(\"..###...#.\"),\n",
    "            list(\"........#.\"),\n",
    "            list(\"........#.\"),\n",
    "            list(\"#########.\"),\n",
    "        ]\n",
    "    )"
   ],
   "metadata": {
    "collapsed": false
   }
  },
  {
   "cell_type": "markdown",
   "source": [
    "### Helper 3"
   ],
   "metadata": {
    "collapsed": false
   }
  },
  {
   "cell_type": "code",
   "execution_count": null,
   "outputs": [],
   "source": [
    "%%ipytest -xrPvvvvv\n",
    "\n",
    "def board_to_string(board: list[list[str]]) -> str:\n",
    "    return \"\\n\".join(\"\".join(row) for row in board)\n",
    "\n",
    "def drop_grain(_board: list[list[str]], point: Point) -> list[list[str]]:\n",
    "    board = copy.deepcopy(_board)\n",
    "    x, y = point\n",
    "    # assert board[x][y] == \"+\", f\"Starting point {point} not marked with plus sign...\"\n",
    "    # assert board[x + 1][y] == \".\", f\"Can't spawn new grain of sand below spawn point:\\n{board_to_string(board)}\"\n",
    "    # if board[x + 1][y] != \".\":\n",
    "    #     return board\n",
    "\n",
    "    grain = Point(x, y)\n",
    "    log(f\"Spawned grain at {grain}\")\n",
    "    iterations = 0\n",
    "    while True:\n",
    "        iterations += 1\n",
    "        if iterations >= 1000000:\n",
    "            raise RuntimeError(f\"Too many iterations - infinite loop detected\")\n",
    "        next_grain = grain + (1, 0)\n",
    "        nx, ny = next_grain\n",
    "        try:\n",
    "            if board[nx][ny] == \".\":\n",
    "                log(f\"Grain just passed through the air at {next_grain}\")\n",
    "                grain = next_grain\n",
    "            elif board[nx][ny] in {\"#\", \"o\"}:\n",
    "                log(f\"{grain} will attempt to go left\")\n",
    "                left_grain = grain + (1, -1)\n",
    "                nx, ny = left_grain\n",
    "                if board[nx][ny] == \".\":\n",
    "                    grain = left_grain\n",
    "                    continue\n",
    "\n",
    "                log(f\"{grain} will attempt to go right\")\n",
    "                right_grain = grain + (1, 1)\n",
    "                nx, ny = right_grain\n",
    "                if board[nx][ny] == \".\":\n",
    "                    grain = right_grain\n",
    "                    continue\n",
    "\n",
    "                log(f\"Grain will stop at {grain} as it has hit solid ground\")\n",
    "                x, y = grain\n",
    "                board[x][y] = \"o\"\n",
    "                return board\n",
    "            else:\n",
    "                raise RuntimeError(f\"weird...\")\n",
    "        except IndexError:\n",
    "            log(f\"Out of range! Seems every grain from this point on is getting swept away\")\n",
    "            return board\n",
    "\n",
    "\n",
    "def test_helper_3() -> None:\n",
    "    disable_logging()\n",
    "    result = drop_grain(\n",
    "        [\n",
    "            list(\"......+...\"),\n",
    "            list(\"..........\"),\n",
    "            list(\"..........\"),\n",
    "            list(\"..........\"),\n",
    "            list(\"....#...##\"),\n",
    "            list(\"....#...#.\"),\n",
    "            list(\"..###...#.\"),\n",
    "            list(\"........#.\"),\n",
    "            list(\"........#.\"),\n",
    "            list(\"#########.\"),\n",
    "        ],\n",
    "        Point(0, 6),\n",
    "    )\n",
    "    expected = [\n",
    "        list(\"......+...\"),\n",
    "        list(\"..........\"),\n",
    "        list(\"..........\"),\n",
    "        list(\"..........\"),\n",
    "        list(\"....#...##\"),\n",
    "        list(\"....#...#.\"),\n",
    "        list(\"..###...#.\"),\n",
    "        list(\"........#.\"),\n",
    "        list(\"......o.#.\"),\n",
    "        list(\"#########.\"),\n",
    "    ]\n",
    "    assert result == expected, f\"Expected:\\n{board_to_string(expected)}\\nActual:\\n{board_to_string(result)}\"\n",
    "    for _ in range(23):\n",
    "        new_result = drop_grain(result, Point(0, 6))\n",
    "        result = new_result\n",
    "    assert result == (new_res := [\n",
    "        list(\"......+...\"),\n",
    "        list(\"..........\"),\n",
    "        list(\"......o...\"),\n",
    "        list(\".....ooo..\"),\n",
    "        list(\"....#ooo##\"),\n",
    "        list(\"...o#ooo#.\"),\n",
    "        list(\"..###ooo#.\"),\n",
    "        list(\"....oooo#.\"),\n",
    "        list(\".o.ooooo#.\"),\n",
    "        list(\"#########.\"),\n",
    "    ]), f\"Expected:\\n{board_to_string(new_res)}\\nActual:\\n{board_to_string(result)}\""
   ],
   "metadata": {
    "collapsed": false
   }
  },
  {
   "cell_type": "markdown",
   "source": [
    "### Helper 4"
   ],
   "metadata": {
    "collapsed": false
   }
  },
  {
   "cell_type": "code",
   "execution_count": null,
   "outputs": [],
   "source": [
    "%%ipytest -xrPvvvvv\n",
    "\n",
    "def saturate(grid: list[list[str]], start: Point) -> list[list[str]]:\n",
    "    curr_board = grid\n",
    "    iterations = 0\n",
    "    while True:\n",
    "        if iterations >= 10000000:\n",
    "            raise Exception(f\"Too many iterations\")\n",
    "        iterations += 1\n",
    "        next_board = drop_grain(curr_board, start)\n",
    "        if next_board == curr_board:\n",
    "            return next_board\n",
    "        curr_board = next_board\n",
    "    return next_board\n",
    "\n",
    "def test_saturate() -> None:\n",
    "    result = saturate(\n",
    "        [\n",
    "            list(\"......+...\"),\n",
    "            list(\"..........\"),\n",
    "            list(\"..........\"),\n",
    "            list(\"..........\"),\n",
    "            list(\"....#...##\"),\n",
    "            list(\"....#...#.\"),\n",
    "            list(\"..###...#.\"),\n",
    "            list(\"........#.\"),\n",
    "            list(\"........#.\"),\n",
    "            list(\"#########.\"),\n",
    "        ],\n",
    "        Point(0, 6),\n",
    "    )\n",
    "    print(board_to_string(result))"
   ],
   "metadata": {
    "collapsed": false
   }
  },
  {
   "cell_type": "markdown",
   "source": [
    "### Helper 5"
   ],
   "metadata": {
    "collapsed": false
   }
  },
  {
   "cell_type": "code",
   "execution_count": null,
   "outputs": [],
   "source": [
    "%%ipytest -xrPvvvvv\n",
    "\n",
    "def count_grains(grid: list[list[str]]) -> int:\n",
    "    count = 0\n",
    "    for i in range(len(grid)):\n",
    "        for j in range(len(grid[i])):\n",
    "            if grid[i][j] == \"o\":\n",
    "                count += 1\n",
    "    return count\n",
    "\n",
    "def test_count_grains() -> None:\n",
    "    assert count_grains(saturate(\n",
    "        [\n",
    "            list(\"......+...\"),\n",
    "            list(\"..........\"),\n",
    "            list(\"..........\"),\n",
    "            list(\"..........\"),\n",
    "            list(\"....#...##\"),\n",
    "            list(\"....#...#.\"),\n",
    "            list(\"..###...#.\"),\n",
    "            list(\"........#.\"),\n",
    "            list(\"........#.\"),\n",
    "            list(\"#########.\"),\n",
    "        ],\n",
    "        Point(0, 6),\n",
    "    )) == 24"
   ],
   "metadata": {
    "collapsed": false
   }
  },
  {
   "cell_type": "markdown",
   "source": [
    "### Helper 6"
   ],
   "metadata": {
    "collapsed": false
   }
  },
  {
   "cell_type": "code",
   "execution_count": null,
   "outputs": [],
   "source": [
    "%%ipytest -xrPvvvvv\n",
    "# x_min=494 x_max=503 y_min=4 y_max=9\n",
    "\n",
    "def initialize_board(points: list[Point], x_min: int, x_max: int, y_min: int, y_max: int) -> list[list[str]]:\n",
    "    x_diff = x_max - x_min + 1\n",
    "    y_diff = y_max - y_min + 1\n",
    "    res = []\n",
    "\n",
    "    height_offset = 4\n",
    "\n",
    "    for i in range(y_diff + height_offset):\n",
    "        res.append([\".\"] * (x_diff))\n",
    "\n",
    "    for x, y in points:\n",
    "        res[y - y_min + height_offset][x - x_min] = \"#\"\n",
    "\n",
    "    return res\n",
    "\n",
    "def test_initialize_board() -> None:\n",
    "    points = get_line_coords([Point(498, 4), Point(498, 6), Point(496, 6)]) | get_line_coords([Point(503, 4), Point(502, 4), Point(502, 9), Point(494, 9)])"
   ],
   "metadata": {
    "collapsed": false
   }
  },
  {
   "cell_type": "markdown",
   "source": [
    "## Main Function"
   ],
   "metadata": {
    "collapsed": false
   }
  },
  {
   "cell_type": "code",
   "execution_count": null,
   "outputs": [],
   "source": [
    "def solve(part: int, filename: str) -> int:\n",
    "    ctx = parse_input_from_filename(filename)\n",
    "    input = ctx.input\n",
    "    if part == 1:\n",
    "        return 0\n",
    "        x_min, x_max, y_min, y_max = ctx.x_min, ctx.x_max, ctx.y_min, ctx.y_max\n",
    "\n",
    "        all_rocks = set()\n",
    "        for points in input:\n",
    "            all_rocks |= get_line_coords(points)\n",
    "\n",
    "        board = initialize_board(all_rocks, x_min, x_max, y_min, y_max)\n",
    "        # print(len(board), len(board[0]))\n",
    "        board[0][500 - x_min] = \"+\"\n",
    "\n",
    "        board = saturate(board, Point(0, 500 - x_min))\n",
    "        # print(board_to_string(board))\n",
    "\n",
    "        return count_grains(board)\n",
    "    if part == 2:\n",
    "        x_min, x_max, y_min, y_max = ctx.x_min, ctx.x_max, ctx.y_min, ctx.y_max\n",
    "\n",
    "        offset = 160  # 80 took 3 minutes, 160 (22683) took 13, no 22684, 640 took 45\n",
    "        input.append([Point(x_min - offset, y_max + 2), Point(x_max + offset, y_max + 2)])\n",
    "\n",
    "        x_min = x_min - offset\n",
    "        x_max = x_max + offset\n",
    "        y_max += 2\n",
    "\n",
    "        all_rocks = set()\n",
    "        for points in input:\n",
    "            all_rocks |= get_line_coords(points)\n",
    "\n",
    "        board = initialize_board(all_rocks, x_min, x_max, y_min, y_max)\n",
    "        # print(len(board), len(board[0]))\n",
    "        # board[0][500 - x_min] = \"+\"\n",
    "        # print(board_to_string(board))\n",
    "\n",
    "        board = saturate(board, Point(0, 500 - x_min))\n",
    "        # print(board_to_string(board))\n",
    "\n",
    "        return count_grains(board)\n",
    "    else:\n",
    "        raise Exception(f\"Invalid part: {part}\")"
   ],
   "metadata": {
    "collapsed": false
   }
  },
  {
   "cell_type": "markdown",
   "source": [
    "### Part 1"
   ],
   "metadata": {
    "collapsed": false
   }
  },
  {
   "cell_type": "code",
   "execution_count": null,
   "outputs": [],
   "source": [
    "%%ipytest -xrPvvvvv\n",
    "@pytest.mark.parametrize(\"test_file_name, test_expected_output\", PART_ONE_CASES[\"example\"].items())\n",
    "def test_part_one_examples(test_file_name, test_expected_output):\n",
    "    test_actual_output = solve(1, test_file_name)\n",
    "    PART_ONE_OUTPUTS[\"example\"][test_file_name] = test_actual_output\n",
    "    failure_message = \"Did you forget to calibrate the example test case?\" if (\n",
    "        test_expected_output == PART_ONE_SENTINEL\n",
    "    ) else f\"Failed example test case: expected {test_expected_output} but got {test_actual_output}\"\n",
    "    assert test_actual_output == test_expected_output, failure_message\n",
    "\n",
    "@pytest.mark.parametrize(\"test_file_name, test_expected_output\", PART_ONE_CASES[\"input\"].items())\n",
    "def test_part_one_inputs(test_file_name, test_expected_output):\n",
    "    test_actual_output = solve(1, test_file_name)\n",
    "    PART_ONE_OUTPUTS[\"input\"][test_file_name] = test_actual_output\n",
    "    failure_message = f\"Candidate answer {test_actual_output} found\" if (\n",
    "        test_expected_output == PART_ONE_SENTINEL\n",
    "    ) else f\"Failed input test case: expected {test_expected_output} but got {test_actual_output}\"\n",
    "    assert test_actual_output == test_expected_output, failure_message"
   ],
   "metadata": {
    "collapsed": false
   }
  },
  {
   "cell_type": "markdown",
   "source": [
    "### Part 2"
   ],
   "metadata": {
    "collapsed": false
   }
  },
  {
   "cell_type": "code",
   "execution_count": null,
   "outputs": [],
   "source": [
    "%%ipytest -xrPvvvvv\n",
    "@pytest.mark.parametrize(\"test_file_name, test_expected_output\", PART_TWO_CASES[\"example\"].items())\n",
    "def test_part_two_examples(test_file_name, test_expected_output):\n",
    "    test_actual_output = solve(2, test_file_name)\n",
    "    PART_TWO_OUTPUTS[\"example\"][test_file_name] = test_actual_output\n",
    "    failure_message = \"Did you forget to calibrate the example test case?\" if (\n",
    "        test_expected_output == PART_TWO_SENTINEL\n",
    "    ) else f\"Failed example test case: expected {test_expected_output} but got {test_actual_output}\"\n",
    "    assert test_actual_output == test_expected_output, failure_message\n",
    "\n",
    "@pytest.mark.parametrize(\"test_file_name, test_expected_output\", PART_TWO_CASES[\"input\"].items())\n",
    "def test_part_two_inputs(test_file_name, test_expected_output):\n",
    "    test_actual_output = solve(2, test_file_name)\n",
    "    PART_TWO_OUTPUTS[\"input\"][test_file_name] = test_actual_output\n",
    "    failure_message = f\"Candidate answer {test_actual_output} found\" if (\n",
    "        test_expected_output == PART_TWO_SENTINEL\n",
    "    ) else f\"Failed input test case: expected {test_expected_output} but got {test_actual_output}\"\n",
    "    assert test_actual_output == test_expected_output, failure_message"
   ],
   "metadata": {
    "collapsed": false
   }
  },
  {
   "cell_type": "markdown",
   "source": [
    "dadada"
   ],
   "metadata": {
    "collapsed": false
   }
  }
 ],
 "metadata": {
  "kernelspec": {
   "display_name": "Python 3 (ipykernel)",
   "language": "python",
   "name": "python3"
  },
  "language_info": {
   "codemirror_mode": {
    "name": "ipython",
    "version": 3
   },
   "file_extension": ".py",
   "mimetype": "text/x-python",
   "name": "python",
   "nbconvert_exporter": "python",
   "pygments_lexer": "ipython3",
   "version": "3.10.6"
  }
 },
 "nbformat": 4,
 "nbformat_minor": 1
}
