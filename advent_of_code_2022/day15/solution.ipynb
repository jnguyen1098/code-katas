{
 "cells": [
  {
   "cell_type": "markdown",
   "source": [
    "# [Advent of Code 2022 Day ?]()"
   ],
   "metadata": {
    "collapsed": false
   },
   "outputs": []
  },
  {
   "cell_type": "code",
   "execution_count": 1,
   "metadata": {},
   "outputs": [],
   "source": [
    "from __future__ import annotations\n",
    "import ipytest\n",
    "import pytest\n",
    "import sys\n",
    "sys.path.append(\"..\")\n",
    "from ansi import *\n",
    "from comp import *\n",
    "ipytest.autoconfig()\n",
    "PART_ONE_SENTINEL = 0x3f3f3f3f + 1\n",
    "PART_TWO_SENTINEL = 0x3f3f3f3f + 2\n",
    "run_doctest_for = lambda func: doctest.run_docstring_examples(func, globals())"
   ]
  },
  {
   "cell_type": "markdown",
   "source": [
    "## Test Cases"
   ],
   "metadata": {
    "collapsed": false
   }
  },
  {
   "cell_type": "code",
   "execution_count": 2,
   "outputs": [],
   "source": [
    "PART_ONE_CASES: dict[str, dict[str, str | int]] = {\n",
    "    \"example\": {\n",
    "        \"example1\": 26,\n",
    "    },\n",
    "    \"input\": {\n",
    "        \"input1\": 5108096,\n",
    "    },\n",
    "}\n",
    "PART_ONE_INPUTS: dict[str, dict[str, str | int]] = {\n",
    "    key: {} for key in PART_ONE_CASES.keys()\n",
    "}\n",
    "PART_ONE_OUTPUTS: dict[str, dict[str, str | int]] = {\n",
    "    key: {} for key in PART_ONE_CASES.keys()\n",
    "}"
   ],
   "metadata": {
    "collapsed": false
   }
  },
  {
   "cell_type": "code",
   "execution_count": 3,
   "outputs": [],
   "source": [
    "PART_TWO_CASES: dict[str, dict[str, str | int]] = {\n",
    "    \"example\": {\n",
    "        \"example1\": 56000011,\n",
    "    },\n",
    "    \"input\": {\n",
    "        \"input1\": 10553942650264,\n",
    "    },\n",
    "}\n",
    "PART_TWO_INPUTS: dict[str, dict[str, str | int]] = {\n",
    "    key: {} for key in PART_TWO_CASES.keys()\n",
    "}\n",
    "PART_TWO_OUTPUTS: dict[str, dict[str, str | int]] = {\n",
    "    key: {} for key in PART_TWO_CASES.keys()\n",
    "}"
   ],
   "metadata": {
    "collapsed": false
   }
  },
  {
   "cell_type": "markdown",
   "source": [
    "## Input Parsing"
   ],
   "metadata": {
    "collapsed": false
   }
  },
  {
   "cell_type": "code",
   "execution_count": 4,
   "outputs": [],
   "source": [
    "class Model(BaseModel):\n",
    "    data: Any\n",
    "\n",
    "def parse_input_from_filename(filename: str) -> Context:\n",
    "    lines = list(yield_line(filename))\n",
    "\n",
    "    ctx = Context()\n",
    "    ctx.input = []\n",
    "\n",
    "    input_lines = ctx.input\n",
    "\n",
    "    for idx, line in enumerate(lines):\n",
    "        s1, s2, b1, b2 = parse(r\"Sensor at x=(-?\\d+), y=(-?\\d+): closest beacon is at x=(-?\\d+), y=(-?\\d+)\", line)\n",
    "        input_lines.append((Point(int(s1), int(s2)), Point(int(b1), int(b2))))\n",
    "\n",
    "    return ctx"
   ],
   "metadata": {
    "collapsed": false
   }
  },
  {
   "cell_type": "code",
   "execution_count": 5,
   "outputs": [
    {
     "name": "stdout",
     "output_type": "stream",
     "text": [
      "\u001B[32m.\u001B[0m\u001B[32m                                                                                            [100%]\u001B[0m\n",
      "============================================= PASSES ==============================================\n",
      "\u001B[32m\u001B[1m_________________________________ test_parsing_examples[example1] _________________________________\u001B[0m\n",
      "-------------------------------------- Captured stderr call ---------------------------------------\n",
      "(Point(x=2, y=18), Point(x=-2, y=15))\n",
      "(Point(x=9, y=16), Point(x=10, y=16))\n",
      "(Point(x=13, y=2), Point(x=15, y=3))\n",
      "(Point(x=12, y=14), Point(x=10, y=16))\n",
      "(Point(x=10, y=20), Point(x=10, y=16))\n",
      "(Point(x=14, y=17), Point(x=10, y=16))\n",
      "(Point(x=8, y=7), Point(x=2, y=10))\n",
      "(Point(x=2, y=0), Point(x=2, y=10))\n",
      "(Point(x=0, y=11), Point(x=2, y=10))\n",
      "(Point(x=20, y=14), Point(x=25, y=17))\n",
      "(Point(x=17, y=20), Point(x=21, y=22))\n",
      "(Point(x=16, y=7), Point(x=15, y=3))\n",
      "(Point(x=14, y=3), Point(x=15, y=3))\n",
      "(Point(x=20, y=1), Point(x=15, y=3))\n",
      "\u001B[32m\u001B[32m\u001B[1m1 passed\u001B[0m\u001B[32m in 0.02s\u001B[0m\u001B[0m\n"
     ]
    }
   ],
   "source": [
    "%%ipytest -xrPvvvvv\n",
    "@pytest.mark.parametrize(\"test_file_name\", PART_ONE_CASES[\"example\"].keys() | PART_TWO_CASES[\"example\"].keys())\n",
    "def test_parsing_examples(test_file_name):\n",
    "    for entity in parse_input_from_filename(test_file_name).input:\n",
    "        enable_logging()\n",
    "        log(f\"{entity}\")"
   ],
   "metadata": {
    "collapsed": false
   }
  },
  {
   "cell_type": "code",
   "execution_count": 6,
   "outputs": [
    {
     "name": "stdout",
     "output_type": "stream",
     "text": [
      "\u001B[32m.\u001B[0m\u001B[32m                                                                                            [100%]\u001B[0m\n",
      "============================================= PASSES ==============================================\n",
      "\u001B[32m\u001B[1m___________________________________ test_parsing_inputs[input1] ___________________________________\u001B[0m\n",
      "-------------------------------------- Captured stderr call ---------------------------------------\n",
      "(Point(x=2288642, y=2282562), Point(x=1581951, y=2271709))\n",
      "(Point(x=2215505, y=2975419), Point(x=2229474, y=3709584))\n",
      "(Point(x=275497, y=3166843), Point(x=-626874, y=3143870))\n",
      "(Point(x=1189444, y=2115305), Point(x=1581951, y=2271709))\n",
      "(Point(x=172215, y=2327851), Point(x=-101830, y=2000000))\n",
      "(Point(x=3953907, y=1957660), Point(x=2882446, y=1934422))\n",
      "(Point(x=685737, y=2465261), Point(x=1581951, y=2271709))\n",
      "(Point(x=1458348, y=2739442), Point(x=1581951, y=2271709))\n",
      "(Point(x=3742876, y=2811554), Point(x=3133845, y=3162635))\n",
      "(Point(x=437819, y=638526), Point(x=-101830, y=2000000))\n",
      "(Point(x=2537979, y=1762726), Point(x=2882446, y=1934422))\n",
      "(Point(x=1368739, y=2222863), Point(x=1581951, y=2271709))\n",
      "(Point(x=2743572, y=3976937), Point(x=2229474, y=3709584))\n",
      "(Point(x=2180640, y=105414), Point(x=3011118, y=-101788))\n",
      "(Point(x=3845753, y=474814), Point(x=3011118, y=-101788))\n",
      "(Point(x=2493694, y=3828087), Point(x=2229474, y=3709584))\n",
      "(Point(x=2786014, y=3388077), Point(x=3133845, y=3162635))\n",
      "(Point(x=3593418, y=3761871), Point(x=3133845, y=3162635))\n",
      "(Point(x=856288, y=3880566), Point(x=2229474, y=3709584))\n",
      "(Point(x=1757086, y=2518373), Point(x=1581951, y=2271709))\n",
      "(Point(x=2853518, y=2939097), Point(x=3133845, y=3162635))\n",
      "(Point(x=1682023, y=1449902), Point(x=1581951, y=2271709))\n",
      "(Point(x=3360575, y=1739100), Point(x=2882446, y=1934422))\n",
      "(Point(x=2904259, y=1465606), Point(x=2882446, y=1934422))\n",
      "(Point(x=3078500, y=3564862), Point(x=3133845, y=3162635))\n",
      "(Point(x=2835288, y=1011055), Point(x=2882446, y=1934422))\n",
      "(Point(x=2998762, y=2414323), Point(x=2882446, y=1934422))\n",
      "\u001B[32m\u001B[32m\u001B[1m1 passed\u001B[0m\u001B[32m in 0.01s\u001B[0m\u001B[0m\n"
     ]
    }
   ],
   "source": [
    "%%ipytest -xrPvvvvv\n",
    "@pytest.mark.parametrize(\"test_file_name\", PART_ONE_CASES[\"input\"].keys() | PART_TWO_CASES[\"input\"].keys())\n",
    "def test_parsing_inputs(test_file_name):\n",
    "    for entity in parse_input_from_filename(test_file_name).input:\n",
    "        enable_logging()\n",
    "        log(f\"{entity}\")"
   ],
   "metadata": {
    "collapsed": false
   }
  },
  {
   "cell_type": "markdown",
   "source": [
    "## Helper Functions"
   ],
   "metadata": {
    "collapsed": false
   }
  },
  {
   "cell_type": "markdown",
   "source": [
    "### Helper 1"
   ],
   "metadata": {
    "collapsed": false
   }
  },
  {
   "cell_type": "code",
   "execution_count": 7,
   "outputs": [
    {
     "name": "stdout",
     "output_type": "stream",
     "text": [
      "\u001B[32m.\u001B[0m\u001B[32m                                                                                            [100%]\u001B[0m\n",
      "============================================= PASSES ==============================================\n",
      "\u001B[32m\u001B[32m\u001B[1m1 passed\u001B[0m\u001B[32m in 0.01s\u001B[0m\u001B[0m\n"
     ]
    }
   ],
   "source": [
    "%%ipytest -xrPvvvvv\n",
    "\n",
    "@lru_cache(None)\n",
    "def manhattan(point1: Point, point2: Point) -> int:\n",
    "    x1, y1 = point1\n",
    "    x2, y2 = point2\n",
    "    return abs(x1 - x2) + abs(y1 - y2)\n",
    "\n",
    "def test_helper_1() -> None:\n",
    "    assert manhattan(Point(1, 1), Point(2, 2)) == 2"
   ],
   "metadata": {
    "collapsed": false
   }
  },
  {
   "cell_type": "markdown",
   "source": [],
   "metadata": {
    "collapsed": false
   }
  },
  {
   "cell_type": "markdown",
   "source": [
    "### Helper 2"
   ],
   "metadata": {
    "collapsed": false
   }
  },
  {
   "cell_type": "code",
   "execution_count": 8,
   "outputs": [
    {
     "name": "stdout",
     "output_type": "stream",
     "text": [
      "\u001B[32m.\u001B[0m\u001B[32m                                                                                            [100%]\u001B[0m\n",
      "============================================= PASSES ==============================================\n",
      "\u001B[32m\u001B[1m__________________________________________ test_helper_2 __________________________________________\u001B[0m\n",
      "-------------------------------------- Captured stdout call ---------------------------------------\n",
      "{Point(x=6, y=15), Point(x=4, y=3), Point(x=5, y=4), Point(x=-5, y=12), Point(x=5, y=16), Point(x=-3, y=6), Point(x=9, y=8), Point(x=10, y=9), Point(x=0, y=17), Point(x=1, y=18), Point(x=-4, y=7), Point(x=-1, y=4), Point(x=6, y=5), Point(x=-4, y=13), Point(x=-1, y=16), Point(x=3, y=18), Point(x=-6, y=9), Point(x=4, y=17), Point(x=-5, y=8), Point(x=-3, y=14), Point(x=1, y=2), Point(x=10, y=11), Point(x=2, y=1), Point(x=11, y=10), Point(x=2, y=19), Point(x=-7, y=10), Point(x=7, y=6), Point(x=3, y=2), Point(x=-2, y=15), Point(x=7, y=14), Point(x=-6, y=11), Point(x=8, y=7), Point(x=0, y=3), Point(x=9, y=12), Point(x=8, y=13), Point(x=-2, y=5)}\n",
      "\u001B[32m\u001B[32m\u001B[1m1 passed\u001B[0m\u001B[32m in 0.01s\u001B[0m\u001B[0m\n"
     ]
    }
   ],
   "source": [
    "%%ipytest -xrPvvvvv\n",
    "\n",
    "@lru_cache(None)\n",
    "def get_manhattan(point: Point, dist: int) -> set[Point]:\n",
    "    result = set()\n",
    "    x, y = point\n",
    "\n",
    "    for i in range(dist + 1):\n",
    "        j = dist - i\n",
    "        assert i + j == dist, f\"Bad math\"\n",
    "        result.add(Point(-i + x, j + y))\n",
    "        result.add(Point(i + x, -j + y))\n",
    "        result.add(Point(i + x, j + y))\n",
    "        result.add(Point(-i + x, -j + y))\n",
    "\n",
    "    return result\n",
    "\n",
    "def test_helper_2() -> None:\n",
    "    assert (t1 := get_manhattan(Point(8, 7), 1)) and len(t1) == 4\n",
    "    print(get_manhattan(Point(2, 10), 9))"
   ],
   "metadata": {
    "collapsed": false
   }
  },
  {
   "cell_type": "markdown",
   "source": [
    "## Main Function"
   ],
   "metadata": {
    "collapsed": false
   }
  },
  {
   "cell_type": "code",
   "execution_count": 9,
   "outputs": [],
   "source": [
    "def solve(part: int, filename: str) -> int:  # not 20000 or 11,000something or 261829, or 261839, or 1101829\n",
    "    input = parse_input_from_filename(filename).input\n",
    "    if part == 1:\n",
    "        sensors = ImmutableSet()\n",
    "        beacons = set()\n",
    "        bad = set()\n",
    "        manhattan_limit_by_point = {}\n",
    "\n",
    "        x_min = INF\n",
    "        x_max = -INF\n",
    "        y_min = INF\n",
    "        y_max = -INF\n",
    "\n",
    "        target = 10 if filename == \"example1\" else 2000000\n",
    "        off = 1000 if filename == \"example1\" else 5300000\n",
    "\n",
    "        for sensor, beacon in input:\n",
    "            x, y = sensor\n",
    "            sensors.add(sensor)\n",
    "            beacons.add(beacon)\n",
    "            dist = manhattan(sensor, beacon)\n",
    "            x_min = min(x_min, x - dist)\n",
    "            x_max = max(x_max, x + dist)\n",
    "            y_min = min(y_min, y - dist)\n",
    "            y_max = max(y_max, y + dist)\n",
    "            if manhattan(sensor, Point(x, target)) > dist:\n",
    "                continue\n",
    "            manhattan_limit_by_point[sensor] = dist\n",
    "\n",
    "        for x in range(-off, off):\n",
    "            attempt = Point(x, target)\n",
    "            for sensor, limit in manhattan_limit_by_point.items():\n",
    "                if (dist := manhattan(sensor, attempt)) <= limit and attempt not in beacons:\n",
    "                    bad.add(attempt)\n",
    "\n",
    "        return len(bad)\n",
    "    if part == 2:\n",
    "        sensors = ImmutableSet()\n",
    "        beacons = set()\n",
    "        manhattan_limit_by_point = {}\n",
    "\n",
    "        high = 20 if filename == \"example1\" else 4000000\n",
    "\n",
    "        for sensor, beacon in input:\n",
    "            sensors.add(sensor)\n",
    "            beacons.add(beacon)\n",
    "            dist = manhattan(sensor, beacon)\n",
    "            manhattan_limit_by_point[sensor] = dist\n",
    "\n",
    "        for sensor, limit in manhattan_limit_by_point.items():\n",
    "            attempts = get_manhattan(sensor, limit + 1)\n",
    "            for attempt in attempts:\n",
    "                i, j = attempt\n",
    "                if i < 0 or j < 0 or i > high or j > high:\n",
    "                    continue\n",
    "                for sensor, limit in manhattan_limit_by_point.items():\n",
    "                    if (dist := manhattan(sensor, attempt)) <= limit or attempt in beacons or attempt in sensors:\n",
    "                        break\n",
    "                else:\n",
    "                    print(f\"returning Point({i}, {j}) -> {i * 4000000} + {j}\")\n",
    "                    return i * 4000000 + j\n",
    "\n",
    "        raise Exception(f\"Should have found something...\")\n",
    "\n",
    "    else:\n",
    "        raise Exception(f\"Invalid part: {part}\")"
   ],
   "metadata": {
    "collapsed": false
   }
  },
  {
   "cell_type": "markdown",
   "source": [
    "### Part 1"
   ],
   "metadata": {
    "collapsed": false
   }
  },
  {
   "cell_type": "code",
   "execution_count": 10,
   "outputs": [
    {
     "name": "stdout",
     "output_type": "stream",
     "text": [
      "\u001B[32m.\u001B[0m\u001B[32m.\u001B[0m\u001B[32m                                                                                           [100%]\u001B[0m\n",
      "============================================= PASSES ==============================================\n",
      "\u001B[32m\u001B[32m\u001B[1m2 passed\u001B[0m\u001B[32m in 301.40s (0:05:01)\u001B[0m\u001B[0m\n"
     ]
    }
   ],
   "source": [
    "%%ipytest -xrPvvvvv\n",
    "@pytest.mark.parametrize(\"test_file_name, test_expected_output\", PART_ONE_CASES[\"example\"].items())\n",
    "def test_part_one_examples(test_file_name, test_expected_output):\n",
    "    test_actual_output = solve(1, test_file_name)\n",
    "    PART_ONE_OUTPUTS[\"example\"][test_file_name] = test_actual_output\n",
    "    failure_message = \"Did you forget to calibrate the example test case?\" if (\n",
    "        test_expected_output == PART_ONE_SENTINEL\n",
    "    ) else f\"Failed example test case: expected {test_expected_output} but got {test_actual_output}\"\n",
    "    assert test_actual_output == test_expected_output, failure_message\n",
    "\n",
    "@pytest.mark.parametrize(\"test_file_name, test_expected_output\", PART_ONE_CASES[\"input\"].items())\n",
    "def test_part_one_inputs(test_file_name, test_expected_output):\n",
    "    test_actual_output = solve(1, test_file_name)\n",
    "    PART_ONE_OUTPUTS[\"input\"][test_file_name] = test_actual_output\n",
    "    failure_message = f\"Candidate answer {test_actual_output} found\" if (\n",
    "        test_expected_output == PART_ONE_SENTINEL\n",
    "    ) else f\"Failed input test case: expected {test_expected_output} but got {test_actual_output}\"\n",
    "    assert test_actual_output == test_expected_output, failure_message"
   ],
   "metadata": {
    "collapsed": false
   }
  },
  {
   "cell_type": "markdown",
   "source": [
    "### Part 2"
   ],
   "metadata": {
    "collapsed": false
   }
  },
  {
   "cell_type": "code",
   "execution_count": null,
   "outputs": [
    {
     "name": "stdout",
     "output_type": "stream",
     "text": [
      "\u001B[32m.\u001B[0m"
     ]
    }
   ],
   "source": [
    "%%ipytest -xrPvvvvv\n",
    "@pytest.mark.parametrize(\"test_file_name, test_expected_output\", PART_TWO_CASES[\"example\"].items())\n",
    "def test_part_two_examples(test_file_name, test_expected_output):\n",
    "    test_actual_output = solve(2, test_file_name)\n",
    "    PART_TWO_OUTPUTS[\"example\"][test_file_name] = test_actual_output\n",
    "    failure_message = \"Did you forget to calibrate the example test case?\" if (\n",
    "        test_expected_output == PART_TWO_SENTINEL\n",
    "    ) else f\"Failed example test case: expected {test_expected_output} but got {test_actual_output}\"\n",
    "    assert test_actual_output == test_expected_output, failure_message\n",
    "\n",
    "@pytest.mark.parametrize(\"test_file_name, test_expected_output\", PART_TWO_CASES[\"input\"].items())\n",
    "def test_part_two_inputs(test_file_name, test_expected_output):\n",
    "    test_actual_output = solve(2, test_file_name)\n",
    "    PART_TWO_OUTPUTS[\"input\"][test_file_name] = test_actual_output\n",
    "    failure_message = f\"Candidate answer {test_actual_output} found\" if (\n",
    "        test_expected_output == PART_TWO_SENTINEL\n",
    "    ) else f\"Failed input test case: expected {test_expected_output} but got {test_actual_output}\"\n",
    "    assert test_actual_output == test_expected_output, failure_message"
   ],
   "metadata": {
    "collapsed": false,
    "pycharm": {
     "is_executing": true
    }
   }
  },
  {
   "cell_type": "markdown",
   "source": [
    "dadada"
   ],
   "metadata": {
    "collapsed": false
   }
  }
 ],
 "metadata": {
  "kernelspec": {
   "display_name": "Python 3 (ipykernel)",
   "language": "python",
   "name": "python3"
  },
  "language_info": {
   "codemirror_mode": {
    "name": "ipython",
    "version": 3
   },
   "file_extension": ".py",
   "mimetype": "text/x-python",
   "name": "python",
   "nbconvert_exporter": "python",
   "pygments_lexer": "ipython3",
   "version": "3.10.6"
  }
 },
 "nbformat": 4,
 "nbformat_minor": 1
}
