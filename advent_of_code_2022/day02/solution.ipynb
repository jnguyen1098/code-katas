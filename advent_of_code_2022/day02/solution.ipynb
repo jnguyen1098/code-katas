{
 "cells": [
  {
   "cell_type": "markdown",
   "source": [
    "# [Advent of Code 2022 Day 2](https://adventofcode.com/2022/day/2)\n",
    "\n",
    "no"
   ],
   "metadata": {
    "collapsed": false
   },
   "outputs": []
  },
  {
   "cell_type": "markdown",
   "source": [
    "## Initial setup"
   ],
   "metadata": {
    "collapsed": false
   }
  },
  {
   "cell_type": "code",
   "execution_count": 1,
   "metadata": {},
   "outputs": [],
   "source": [
    "import ipytest\n",
    "import sys\n",
    "sys.path.append(\"..\")\n",
    "from ansi import *\n",
    "from comp import *\n",
    "ipytest.autoconfig()"
   ]
  },
  {
   "cell_type": "markdown",
   "source": [
    "## Input Parsing"
   ],
   "metadata": {
    "collapsed": false
   }
  },
  {
   "cell_type": "code",
   "execution_count": 2,
   "outputs": [],
   "source": [
    "def parse_input(filename):\n",
    "\n",
    "    gen = yield_line(filename)\n",
    "\n",
    "    result = []\n",
    "\n",
    "    for line in gen:\n",
    "        result.append(tuple(line.split()))\n",
    "\n",
    "    return result"
   ],
   "metadata": {
    "collapsed": false
   }
  },
  {
   "cell_type": "markdown",
   "source": [
    "## Part 1\n",
    "Lorem ipsum"
   ],
   "metadata": {
    "collapsed": false
   }
  },
  {
   "cell_type": "code",
   "execution_count": 3,
   "outputs": [],
   "source": [
    "\n",
    "shape_prize = {\n",
    "    \"Rock\": 1,\n",
    "    \"Paper\": 2,\n",
    "    \"Scissors\": 3,\n",
    "}\n",
    "outcome_prize = {\n",
    "    \"Win\": 6,\n",
    "    \"Draw\": 3,\n",
    "    \"Lose\": 0,\n",
    "}\n",
    "first = {\n",
    "    \"A\": \"Rock\",\n",
    "    \"B\": \"Paper\",\n",
    "    \"C\": \"Scissors\",\n",
    "}\n",
    "second = {\n",
    "    \"X\": \"Rock\",\n",
    "    \"Y\": \"Paper\",\n",
    "    \"Z\": \"Scissors\",\n",
    "}\n",
    "outcome = {\n",
    "    \"Rock\": {\n",
    "        \"Rock\": \"Draw\",\n",
    "        \"Paper\": \"Lose\",\n",
    "        \"Scissors\": \"Win\",\n",
    "    },\n",
    "    \"Paper\": {\n",
    "        \"Rock\": \"Win\",\n",
    "        \"Paper\": \"Draw\",\n",
    "        \"Scissors\": \"Lose\",\n",
    "    },\n",
    "    \"Scissors\": {\n",
    "        \"Rock\": \"Lose\",\n",
    "        \"Paper\": \"Win\",\n",
    "        \"Scissors\": \"Draw\",\n",
    "    }\n",
    "}\n",
    "def part_one(data):\n",
    "    score = 0\n",
    "    for x, y in data:\n",
    "        print(x, y)\n",
    "        score += shape_prize[second[y]] + outcome_prize[outcome[second[y]][first[x]]]\n",
    "    return score"
   ],
   "metadata": {
    "collapsed": false
   }
  },
  {
   "cell_type": "code",
   "execution_count": 4,
   "outputs": [
    {
     "name": "stdout",
     "output_type": "stream",
     "text": [
      "\u001B[32m.\u001B[0m\u001B[32m                                                                                            [100%]\u001B[0m\n",
      "\u001B[32m\u001B[32m\u001B[1m1 passed\u001B[0m\u001B[32m in 0.07s\u001B[0m\u001B[0m\n"
     ]
    }
   ],
   "source": [
    "%%ipytest\n",
    "def test_part_one():\n",
    "    assert part_one(parse_input(\"example1\")) == 15\n",
    "    assert part_one(parse_input(\"input\")) == 13221"
   ],
   "metadata": {
    "collapsed": false
   }
  },
  {
   "cell_type": "markdown",
   "source": [
    "## Part 2\n",
    "Lorem ipsum"
   ],
   "metadata": {
    "collapsed": false
   }
  },
  {
   "cell_type": "code",
   "execution_count": 5,
   "outputs": [],
   "source": [
    "thing = {\n",
    "    \"X\": \"Lose\",\n",
    "    \"Y\": \"Draw\",\n",
    "    \"Z\": \"Win\",\n",
    "}\n",
    "\n",
    "reverser = {\n",
    "    \"Rock\": revdict({\n",
    "        \"Rock\": \"Draw\",\n",
    "        \"Paper\": \"Win\",\n",
    "        \"Scissors\": \"Lose\",\n",
    "    }),\n",
    "    \"Paper\": revdict({\n",
    "        \"Rock\": \"Lose\",\n",
    "        \"Paper\": \"Draw\",\n",
    "        \"Scissors\": \"Win\",\n",
    "    }),\n",
    "    \"Scissors\": revdict({\n",
    "        \"Rock\": \"Win\",\n",
    "        \"Paper\": \"Lose\",\n",
    "        \"Scissors\": \"Draw\",\n",
    "    }),\n",
    "}\n",
    "\n",
    "def part_two(data):\n",
    "    score = 0\n",
    "    for opponent, outcome_code in data:\n",
    "        translated_opponent = first[opponent]\n",
    "        translated_outcome = thing[outcome_code]\n",
    "        counter = reverser[translated_opponent][translated_outcome]\n",
    "        print(f\"{opponent} {outcome_code} -> Opponent={first[opponent]}, Outcome={thing[outcome_code]}, Response={counter}\")\n",
    "        score += shape_prize[counter] + outcome_prize[translated_outcome]\n",
    "    return score"
   ],
   "metadata": {
    "collapsed": false
   }
  },
  {
   "cell_type": "code",
   "execution_count": 6,
   "outputs": [
    {
     "name": "stdout",
     "output_type": "stream",
     "text": [
      "\u001B[32m.\u001B[0m\u001B[32m                                                                                            [100%]\u001B[0m\n",
      "\u001B[32m\u001B[32m\u001B[1m1 passed\u001B[0m\u001B[32m in 0.04s\u001B[0m\u001B[0m\n"
     ]
    }
   ],
   "source": [
    "%%ipytest\n",
    "def test_part_two():\n",
    "    assert part_two(parse_input(\"example1\")) == 12\n",
    "    assert part_two(parse_input(\"input\")) == 13131"
   ],
   "metadata": {
    "collapsed": false
   }
  },
  {
   "cell_type": "markdown",
   "source": [
    "Kept scrambling trying to fix all my `KeyError` cuz I couldn't mentally keep track of 20000 lookup tables. Fuck this question ngl. No writeup 4 u"
   ],
   "metadata": {
    "collapsed": false
   }
  }
 ],
 "metadata": {
  "kernelspec": {
   "display_name": "Python 3 (ipykernel)",
   "language": "python",
   "name": "python3"
  },
  "language_info": {
   "codemirror_mode": {
    "name": "ipython",
    "version": 3
   },
   "file_extension": ".py",
   "mimetype": "text/x-python",
   "name": "python",
   "nbconvert_exporter": "python",
   "pygments_lexer": "ipython3",
   "version": "3.10.6"
  }
 },
 "nbformat": 4,
 "nbformat_minor": 1
}
