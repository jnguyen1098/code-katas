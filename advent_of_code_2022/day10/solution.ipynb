{
 "cells": [
  {
   "cell_type": "markdown",
   "metadata": {},
   "source": [
    "# [Advent of Code 2022 Day ?]()\n",
    "\n",
    "?"
   ]
  },
  {
   "cell_type": "markdown",
   "metadata": {},
   "source": [
    "## Initial setup"
   ]
  },
  {
   "cell_type": "code",
   "execution_count": null,
   "metadata": {},
   "outputs": [],
   "source": [
    "import ipytest\n",
    "import pytest\n",
    "import sys\n",
    "sys.path.append(\"..\")\n",
    "from ansi import *\n",
    "from comp import *\n",
    "ipytest.autoconfig()\n",
    "PART_ONE_SENTINEL = 0x3f3f3f3f + 1\n",
    "PART_TWO_SENTINEL = 0x3f3f3f3f + 2"
   ]
  },
  {
   "cell_type": "markdown",
   "metadata": {},
   "source": [
    "## Input Parsing"
   ]
  },
  {
   "cell_type": "code",
   "execution_count": null,
   "metadata": {},
   "outputs": [],
   "source": [
    "def parse_input(filename: str) -> Context:\n",
    "\n",
    "    gen = yield_line(filename)\n",
    "\n",
    "    ctx = Context()\n",
    "    ctx.input = []\n",
    "\n",
    "    input_lines = ctx.input\n",
    "\n",
    "    for line in gen:\n",
    "        if line == \"noop\":\n",
    "            input_lines.append((\"noop\", None))\n",
    "            continue\n",
    "        assert line.startswith(\"addx\")\n",
    "        input_lines.append((\"addx\", int(line.removeprefix(\"addx \"))))\n",
    "\n",
    "    return ctx"
   ]
  },
  {
   "cell_type": "markdown",
   "metadata": {},
   "source": [
    "## Sandbox"
   ]
  },
  {
   "cell_type": "code",
   "execution_count": null,
   "metadata": {},
   "outputs": [],
   "source": [
    "%%ipytest --doctest-modules\n",
    "\n",
    "def transform(x_value: int, incr: int) -> int:\n",
    "    \"\"\"\n",
    "    >>> transform(1, 3)\n",
    "    4\n",
    "    \"\"\"\n",
    "    return x_value + incr\n",
    "\n",
    "def execute(instructions) -> list[int]:\n",
    "    \"\"\"\n",
    "    >>> execute([(\"noop\", None), (\"addx\", 3), (\"addx\", -5)])\n",
    "    [0, 1, 1, 1, 4, 4]\n",
    "    >>> execute([(\"addx\", 15), (\"addx\", 11)])\n",
    "    [0, 1, 1, 16, 16]\n",
    "    \"\"\"\n",
    "\n",
    "    ans = [0]\n",
    "    work = []\n",
    "    instructions.reverse()\n",
    "    x = 1\n",
    "\n",
    "    while work or instructions:\n",
    "        curr_cycle = len(ans)\n",
    "        if work:\n",
    "            new_val = x + work.pop()\n",
    "            # print(f\"cycle={curr_cycle} changed x from {x} to {new_val}\")\n",
    "            ans.append(x)\n",
    "            x = new_val\n",
    "        else:\n",
    "            if instructions:\n",
    "                word, amt = instructions.pop()\n",
    "                if word == \"noop\":\n",
    "                    # print(f\"cycle={curr_cycle} has no work, received noop, so more bloking\")\n",
    "                    pass\n",
    "                elif word == \"addx\":\n",
    "                    # print(f\"cycle={curr_cycle} received work while having no work, going to pop this next cycle\")\n",
    "                    work.append(amt)\n",
    "                else:\n",
    "                    raise NotImplementedError(f\"{word}\")\n",
    "            else:\n",
    "                raise # this is actually impossible btw\n",
    "            ans.append(x)\n",
    "\n",
    "    return ans\n",
    "\n",
    "def determine_position(curr_cycle: int) -> tuple[int, int]:\n",
    "    \"\"\"\n",
    "    >>> determine_position(1)\n",
    "    (0, 0)\n",
    "    >>> determine_position(40)\n",
    "    (0, 39)\n",
    "    >>> determine_position(41)\n",
    "    (1, 0)\n",
    "    >>> determine_position(80)\n",
    "    (1, 39)\n",
    "    >>> determine_position(201)\n",
    "    (5, 0)\n",
    "    >>> determine_position(240)\n",
    "    (5, 39)\n",
    "    \"\"\"\n",
    "    assert curr_cycle != 0, f\"Cycle zero doesn't exist moron\"\n",
    "    ans = divmod(curr_cycle - 1, 40)\n",
    "    return ans[0], ans[1]\n",
    "\n",
    "def get_sprite_pixels(pos: int) -> list[int]:\n",
    "    # assert pos not in {0, 39}, f\"{pos=} would create a sprite that is cut off the screen\"\n",
    "    # assert 0 <= pos <= 39, f\"{pos=} out of range for current line\"\n",
    "    if not (0 <= pos <= 39):\n",
    "        return []\n",
    "    if pos == 0:\n",
    "        return [0, 1]\n",
    "    if pos == 39:\n",
    "        return [38, 39]\n",
    "    return [pos - 1, pos, pos + 1]\n",
    "\n",
    "def draw(vals: list[int]) -> Any:\n",
    "    screen = []\n",
    "    for _ in range(6):\n",
    "        screen.append([\"x\"] * 40)\n",
    "\n",
    "    for cycle in range(1, len(vals)):\n",
    "        pixels = get_sprite_pixels(vals[cycle])\n",
    "        x, y = determine_position(cycle)\n",
    "        if y in pixels:\n",
    "            screen[x][y] = \"#\"\n",
    "        else:\n",
    "            screen[x][y] = \".\"\n",
    "\n",
    "    for row in screen:\n",
    "        print(\"\".join(row))\n",
    "\n",
    "\n",
    "def process(part: int, context: Context) -> int:\n",
    "    s = execute(context.input)\n",
    "    if part == 1:\n",
    "        for i in range(len(s)):\n",
    "            print(f\"{i} -> {s[i]}\")\n",
    "        return 20 * s[20] + 60 * s[60] + 100 * s[100] + 140 * s[140] + 180 * s[180] + 220 * s[220]\n",
    "    if part == 2:\n",
    "        draw(s)\n",
    "        return PART_TWO_SENTINEL\n",
    "    else:\n",
    "        raise Exception(f\"Invalid part: {part}\")"
   ]
  },
  {
   "cell_type": "markdown",
   "metadata": {},
   "source": [
    "## Part 1\n",
    "Lorem ipsum"
   ]
  },
  {
   "cell_type": "code",
   "execution_count": null,
   "metadata": {},
   "outputs": [],
   "source": [
    "%%ipytest\n",
    "\n",
    "def test_stuff():\n",
    "    strengths = execute(parse_input(\"example2\").input)\n",
    "    assertions = (\n",
    "        (20, 21),\n",
    "        (60, 19),\n",
    "        (100, 18),\n",
    "        (140, 21),\n",
    "        (180, 16),\n",
    "        (220, 18),\n",
    "    )\n",
    "    for cycle, expect in assertions:\n",
    "        if strengths[cycle] != expect:\n",
    "            raise ValueError(f\"For the example, expected cycle {cycle} to be {expect} but was actually {strengths[cycle]}\")\n",
    "\n",
    "def part_one(ctx: Context) -> int:\n",
    "    return process(1, ctx)"
   ]
  },
  {
   "cell_type": "markdown",
   "metadata": {},
   "source": [
    "## Part 1 Testing"
   ]
  },
  {
   "cell_type": "code",
   "execution_count": null,
   "metadata": {},
   "outputs": [],
   "source": [
    "PART_ONE_CASES: dict[str, str | int] = {\n",
    "    \"example2\": 13140,\n",
    "    \"input\": 12740,  # not 14100\n",
    "}\n",
    "PART_ONE_OUTPUTS: dict[str, str | int] = dict()"
   ]
  },
  {
   "cell_type": "code",
   "execution_count": null,
   "metadata": {},
   "outputs": [],
   "source": [
    "%%ipytest --doctest-modules\n",
    "@pytest.mark.parametrize(\"test_file_name, test_expected_output\", PART_ONE_CASES.items())\n",
    "def test_part_one(test_file_name, test_expected_output):\n",
    "    test_actual_output = part_one(parse_input(test_file_name))\n",
    "    PART_ONE_OUTPUTS[test_file_name] = test_actual_output\n",
    "    assert test_actual_output == test_expected_output"
   ]
  },
  {
   "cell_type": "code",
   "execution_count": null,
   "metadata": {},
   "outputs": [],
   "source": [
    "for file_name, actual_output in PART_ONE_OUTPUTS.items():\n",
    "    expected = PART_ONE_CASES[file_name]\n",
    "    actual = actual_output\n",
    "    outcome = (\"SENTINEL\" if actual == expected else \"CANDIDATE\") if expected == PART_ONE_SENTINEL else (\"CORRECT\" if expected == actual else \"INCORRECT\")\n",
    "    print(f\"{file_name:>10}      expected: {expected:>10}      actual: {actual:>10}      outcome: {outcome}\")"
   ]
  },
  {
   "cell_type": "markdown",
   "metadata": {},
   "source": [
    "## Part 2\n",
    "Lorem ipsum"
   ]
  },
  {
   "cell_type": "code",
   "execution_count": null,
   "metadata": {},
   "outputs": [],
   "source": [
    "def part_two(ctx: Context) -> int:\n",
    "    return process(2, ctx)"
   ]
  },
  {
   "cell_type": "markdown",
   "metadata": {},
   "source": [
    "## Part 2 Testing"
   ]
  },
  {
   "cell_type": "code",
   "execution_count": null,
   "metadata": {},
   "outputs": [],
   "source": [
    "PART_TWO_CASES: dict[str, str | int] = {\n",
    "    # ##..##..##..##..##..##..##..##..##..##..\n",
    "    # ###...###...###...###...###...###...###.\n",
    "    # ####....####....####....####....####....\n",
    "    # #####.....#####.....#####.....#####.....\n",
    "    # ######......######......######......####\n",
    "    # #######.......#######.......#######.....\n",
    "    \"example2\": PART_TWO_SENTINEL,  # Nonsense\n",
    "    # ####..###..###...##..###...##...##..####\n",
    "    # #...#.#..#.#..#.#..#.#..#.#..#.#..#.#...\n",
    "    # #...#.###..#..#.#..#.#..#.#..#.#....###.\n",
    "    # ####..#..#.###..####.###..####.#.##.#...\n",
    "    # #..#..#..#.#....#..#.#.#..#..#.#..#.#...\n",
    "    # #...#.###..#....#..#.#..#.#..#..###.#...\n",
    "    \"input\": PART_TWO_SENTINEL,  # RBPARAGF\n",
    "}\n",
    "PART_TWO_OUTPUTS: dict[str, str | int] = dict()"
   ]
  },
  {
   "cell_type": "code",
   "execution_count": null,
   "metadata": {},
   "outputs": [],
   "source": [
    "%%ipytest --doctest-modules -xrP\n",
    "@pytest.mark.parametrize(\"test_file_name, test_expected_output\", PART_TWO_CASES.items())\n",
    "def test_part_two(test_file_name, test_expected_output):\n",
    "    test_actual_output = part_two(parse_input(test_file_name))\n",
    "    PART_TWO_OUTPUTS[test_file_name] = test_actual_output\n",
    "    assert test_actual_output == test_expected_output"
   ]
  },
  {
   "cell_type": "code",
   "execution_count": null,
   "metadata": {},
   "outputs": [],
   "source": [
    "for file_name, actual_output in PART_TWO_OUTPUTS.items():\n",
    "    expected = PART_TWO_CASES[file_name]\n",
    "    actual = actual_output\n",
    "    outcome = (\"SENTINEL\" if actual == expected else \"CANDIDATE\") if expected == PART_TWO_SENTINEL else (\"CORRECT\" if expected == actual else \"INCORRECT\")\n",
    "    print(f\"{file_name:>10}      expected: {expected:>10}      actual: {actual:>10}      outcome: {outcome}\")"
   ]
  }
 ],
 "metadata": {
  "kernelspec": {
   "display_name": "Python 3 (ipykernel)",
   "language": "python",
   "name": "python3"
  },
  "language_info": {
   "codemirror_mode": {
    "name": "ipython",
    "version": 3
   },
   "file_extension": ".py",
   "mimetype": "text/x-python",
   "name": "python",
   "nbconvert_exporter": "python",
   "pygments_lexer": "ipython3",
   "version": "3.10.8"
  }
 },
 "nbformat": 4,
 "nbformat_minor": 1
}
