{
 "cells": [
  {
   "cell_type": "markdown",
   "metadata": {},
   "source": [
    "# [Advent of Code 2022 Day 5](https://adventofcode.com/2022/day/5)\n",
    "when parsing is harder than the actual question (or, alternatively, why I should practice `zip` more)"
   ]
  },
  {
   "cell_type": "markdown",
   "metadata": {},
   "source": [
    "## Initial setup"
   ]
  },
  {
   "cell_type": "code",
   "execution_count": null,
   "metadata": {
    "pycharm": {
     "is_executing": true
    }
   },
   "outputs": [],
   "source": [
    "import ipytest\n",
    "import sys\n",
    "sys.path.append(\"..\")\n",
    "from ansi import *\n",
    "from comp import *\n",
    "ipytest.autoconfig()"
   ]
  },
  {
   "cell_type": "markdown",
   "metadata": {},
   "source": [
    "## Input Parsing\n",
    "yeah as I said, I didn't want to parse the ASCII art. I just straight up typed all the letters into a list of chars... I did parse the move directions tho."
   ]
  },
  {
   "cell_type": "code",
   "execution_count": null,
   "metadata": {},
   "outputs": [],
   "source": [
    "def parse_input(filename):\n",
    "\n",
    "    gen = yield_line(filename)\n",
    "\n",
    "    stack_data = []\n",
    "    moves = []\n",
    "\n",
    "    parse_stacks = True\n",
    "    for line in gen:\n",
    "        if line == \"\":\n",
    "            parse_stacks = False\n",
    "            continue\n",
    "        if parse_stacks:\n",
    "            stack_data.append(line)\n",
    "        else:\n",
    "            moves.append(map(int, parse(r\"move (\\d+) from (\\d+) to (\\d+)\", line)))\n",
    "\n",
    "    return moves"
   ]
  },
  {
   "cell_type": "markdown",
   "metadata": {},
   "source": [
    "## Part 1\n",
    "Simulation question, simulation question! We use the input data and represent the top of the stacks (from the question) as the last element in the list, so we can just use `pop()` and `extend()`  to manipulate the stacks. By calling `pop()` multiple times, we are actually reversing the data that is being `extend()`'d - something I didn't realize until I was several minutes in stalling. As a result, I didn't actually need to call reverse (aka `[::-1]`) myself. I was so confused why the output was being wonky."
   ]
  },
  {
   "cell_type": "code",
   "execution_count": null,
   "metadata": {},
   "outputs": [],
   "source": [
    "def part_one_example(data):\n",
    "    stacks = [\n",
    "        None,\n",
    "        list(\"ZN\"),\n",
    "        list(\"MCD\"),\n",
    "        list(\"P\"),\n",
    "    ]\n",
    "\n",
    "    for amount, from_idx, to_idx in data:\n",
    "        load = []\n",
    "        for _ in range(amount):\n",
    "            load.append(stacks[from_idx].pop())\n",
    "        stacks[to_idx].extend(load)\n",
    "\n",
    "    result = []\n",
    "\n",
    "    for i in range(1, len(stacks)):\n",
    "        result.append(stacks[i][-1])\n",
    "\n",
    "    return \"\".join(result)\n",
    "\n",
    "def part_one(data):\n",
    "    stacks = [\n",
    "        None,\n",
    "        list(\"RSLFQ\"),\n",
    "        list(\"NZQGPT\"),\n",
    "        list(\"SMQB\"),\n",
    "        list(\"TGZJHCBQ\"),\n",
    "        list(\"PHMBNFS\"),\n",
    "        list(\"PCQNSLVG\"),\n",
    "        list(\"WCF\"),\n",
    "        list(\"QHGZWVPM\"),\n",
    "        list(\"GZDLCNR\"),\n",
    "    ]\n",
    "\n",
    "    for amount, from_idx, to_idx in data:\n",
    "        load = []\n",
    "        for _ in range(amount):\n",
    "            load.append(stacks[from_idx].pop())\n",
    "        stacks[to_idx].extend(load)\n",
    "\n",
    "    result = []\n",
    "\n",
    "    for i in range(1, len(stacks)):\n",
    "        result.append(stacks[i][-1])\n",
    "\n",
    "    return \"\".join(result)"
   ]
  },
  {
   "cell_type": "code",
   "execution_count": null,
   "metadata": {},
   "outputs": [],
   "source": [
    "%%ipytest\n",
    "def test_part_one():\n",
    "    assert part_one_example(parse_input(\"example1\")) == \"CMZ\"\n",
    "    assert part_one(parse_input(\"input\")) == \"FZCMJCRHZ\""
   ]
  },
  {
   "cell_type": "markdown",
   "metadata": {},
   "source": [
    "## Part 2\n",
    "Here is when you actually call reverse - at this point you want to return the items in their original order, so we just call `extend()` on the reversed array."
   ]
  },
  {
   "cell_type": "code",
   "execution_count": null,
   "metadata": {},
   "outputs": [],
   "source": [
    "def part_two_example(data):\n",
    "    stacks = [\n",
    "        None,\n",
    "        list(\"ZN\"),\n",
    "        list(\"MCD\"),\n",
    "        list(\"P\"),\n",
    "    ]\n",
    "\n",
    "    for amount, from_idx, to_idx in data:\n",
    "        load = []\n",
    "        for _ in range(amount):\n",
    "            load.append(stacks[from_idx].pop())\n",
    "        stacks[to_idx].extend(load[::-1])\n",
    "\n",
    "    result = []\n",
    "\n",
    "    for i in range(1, len(stacks)):\n",
    "        result.append(stacks[i][-1])\n",
    "\n",
    "    return \"\".join(result)\n",
    "\n",
    "def part_two(data):\n",
    "    stacks = [\n",
    "        None,\n",
    "        list(\"RSLFQ\"),\n",
    "        list(\"NZQGPT\"),\n",
    "        list(\"SMQB\"),\n",
    "        list(\"TGZJHCBQ\"),\n",
    "        list(\"PHMBNFS\"),\n",
    "        list(\"PCQNSLVG\"),\n",
    "        list(\"WCF\"),\n",
    "        list(\"QHGZWVPM\"),\n",
    "        list(\"GZDLCNR\"),\n",
    "    ]\n",
    "\n",
    "    for amount, from_idx, to_idx in data:\n",
    "        load = []\n",
    "        for _ in range(amount):\n",
    "            load.append(stacks[from_idx].pop())\n",
    "        stacks[to_idx].extend(load[::-1])\n",
    "\n",
    "    result = []\n",
    "\n",
    "    for i in range(1, len(stacks)):\n",
    "        result.append(stacks[i][-1])\n",
    "\n",
    "    return \"\".join(result)"
   ]
  },
  {
   "cell_type": "code",
   "execution_count": null,
   "metadata": {},
   "outputs": [],
   "source": [
    "%%ipytest\n",
    "def test_part_two():\n",
    "    assert part_two_example(parse_input(\"example1\")) == \"MCD\"\n",
    "    assert part_two(parse_input(\"input\")) == \"JSDHQMZGF\""
   ]
  }
 ],
 "metadata": {
  "kernelspec": {
   "display_name": "Python 3 (ipykernel)",
   "language": "python",
   "name": "python3"
  },
  "language_info": {
   "codemirror_mode": {
    "name": "ipython",
    "version": 3
   },
   "file_extension": ".py",
   "mimetype": "text/x-python",
   "name": "python",
   "nbconvert_exporter": "python",
   "pygments_lexer": "ipython3",
   "version": "3.10.8"
  }
 },
 "nbformat": 4,
 "nbformat_minor": 1
}
