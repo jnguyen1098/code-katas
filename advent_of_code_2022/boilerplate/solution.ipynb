{
 "cells": [
  {
   "cell_type": "markdown",
   "source": [
    "# [Advent of Code 2022 Day ?]()\n",
    "\n",
    "?"
   ],
   "metadata": {
    "collapsed": false
   },
   "outputs": []
  },
  {
   "cell_type": "markdown",
   "source": [
    "## Initial setup"
   ],
   "metadata": {
    "collapsed": false
   }
  },
  {
   "cell_type": "code",
   "execution_count": null,
   "metadata": {},
   "outputs": [],
   "source": [
    "import ipytest\n",
    "import pytest\n",
    "import sys\n",
    "sys.path.append(\"..\")\n",
    "from ansi import *\n",
    "from comp import *\n",
    "ipytest.autoconfig()\n",
    "PART_ONE_SENTINEL = 0x3f3f3f3f + 1\n",
    "PART_TWO_SENTINEL = 0x3f3f3f3f + 2"
   ]
  },
  {
   "cell_type": "markdown",
   "source": [
    "## Input Parsing"
   ],
   "metadata": {
    "collapsed": false
   }
  },
  {
   "cell_type": "code",
   "execution_count": null,
   "outputs": [],
   "source": [
    "def parse_input(filename: str) -> dict[str, Any]:\n",
    "\n",
    "    gen = yield_line(filename)\n",
    "\n",
    "    context: dict[str, Any] = {\n",
    "        \"input\": [],\n",
    "    }\n",
    "\n",
    "    for line in gen:\n",
    "        context[\"input\"].append(line)\n",
    "\n",
    "    return context"
   ],
   "metadata": {
    "collapsed": false
   }
  },
  {
   "cell_type": "markdown",
   "source": [
    "## Sandbox"
   ],
   "metadata": {
    "collapsed": false
   }
  },
  {
   "cell_type": "code",
   "execution_count": null,
   "outputs": [],
   "source": [
    "def process(part: int, context: dict[str, Any]) -> int:\n",
    "    if part == 1:\n",
    "        return PART_ONE_SENTINEL\n",
    "    if part == 2:\n",
    "        return PART_TWO_SENTINEL\n",
    "    else:\n",
    "        raise Exception(f\"Invalid part: {part}\")"
   ],
   "metadata": {
    "collapsed": false
   }
  },
  {
   "cell_type": "markdown",
   "source": [
    "## Part 1\n",
    "Lorem ipsum"
   ],
   "metadata": {
    "collapsed": false
   }
  },
  {
   "cell_type": "code",
   "execution_count": null,
   "outputs": [],
   "source": [
    "def part_one(context: dict[str, Any]) -> int:\n",
    "    return process(1, context)"
   ],
   "metadata": {
    "collapsed": false
   }
  },
  {
   "cell_type": "markdown",
   "source": [
    "## Part 1 Testing"
   ],
   "metadata": {
    "collapsed": false
   }
  },
  {
   "cell_type": "code",
   "execution_count": null,
   "outputs": [],
   "source": [
    "PART_ONE_CASES: dict[str, str | int] = {\n",
    "    \"example1\": PART_ONE_SENTINEL,\n",
    "    # \"example2\": PART_ONE_SENTINEL,\n",
    "    # \"example3\": PART_ONE_SENTINEL,\n",
    "    # \"example4\": PART_ONE_SENTINEL,\n",
    "    # \"example5\": PART_ONE_SENTINEL,\n",
    "    # \"example6\": PART_ONE_SENTINEL,\n",
    "    # \"example7\": PART_ONE_SENTINEL,\n",
    "    # \"example8\": PART_ONE_SENTINEL,\n",
    "    # \"example9\": PART_ONE_SENTINEL,\n",
    "    \"input\": PART_ONE_SENTINEL,\n",
    "}\n",
    "PART_ONE_OUTPUTS: dict[str, str | int] = dict()"
   ],
   "metadata": {
    "collapsed": false
   }
  },
  {
   "cell_type": "code",
   "execution_count": null,
   "outputs": [],
   "source": [
    "%%ipytest\n",
    "@pytest.mark.parametrize(\"test_file_name, test_expected_output\", PART_ONE_CASES.items())\n",
    "def test_part_one(test_file_name, test_expected_output):\n",
    "    test_actual_output = part_one(parse_input(test_file_name))\n",
    "    PART_ONE_OUTPUTS[test_file_name] = test_actual_output\n",
    "    assert test_actual_output == test_expected_output"
   ],
   "metadata": {
    "collapsed": false
   }
  },
  {
   "cell_type": "code",
   "execution_count": null,
   "outputs": [],
   "source": [
    "for file_name, actual_output in PART_ONE_OUTPUTS.items():\n",
    "    expected = PART_ONE_CASES[file_name]\n",
    "    actual = actual_output\n",
    "    outcome = (\"SENTINEL\" if actual == expected else \"CANDIDATE\") if expected == PART_ONE_SENTINEL else (\"CORRECT\" if expected == actual else \"INCORRECT\")\n",
    "    print(f\"{file_name:>10}      expected: {expected:>10}      actual: {actual:>10}      outcome: {outcome}\")"
   ],
   "metadata": {
    "collapsed": false
   }
  },
  {
   "cell_type": "markdown",
   "source": [
    "## Part 2\n",
    "Lorem ipsum"
   ],
   "metadata": {
    "collapsed": false
   }
  },
  {
   "cell_type": "code",
   "execution_count": null,
   "outputs": [],
   "source": [
    "def part_two(context: dict[str, Any]) -> int:\n",
    "    return process(2, context)"
   ],
   "metadata": {
    "collapsed": false
   }
  },
  {
   "cell_type": "markdown",
   "source": [
    "## Part 2 Testing"
   ],
   "metadata": {
    "collapsed": false
   }
  },
  {
   "cell_type": "code",
   "execution_count": null,
   "outputs": [],
   "source": [
    "PART_TWO_CASES: dict[str, str | int] = {\n",
    "    \"example1\": PART_TWO_SENTINEL,\n",
    "    # \"example2\": PART_TWO_SENTINEL,\n",
    "    # \"example3\": PART_TWO_SENTINEL,\n",
    "    # \"example4\": PART_TWO_SENTINEL,\n",
    "    # \"example5\": PART_TWO_SENTINEL,\n",
    "    # \"example6\": PART_TWO_SENTINEL,\n",
    "    # \"example7\": PART_TWO_SENTINEL,\n",
    "    # \"example8\": PART_TWO_SENTINEL,\n",
    "    # \"example9\": PART_TWO_SENTINEL,\n",
    "    \"input\": PART_TWO_SENTINEL,\n",
    "}\n",
    "PART_TWO_OUTPUTS: dict[str, str | int] = dict()"
   ],
   "metadata": {
    "collapsed": false
   }
  },
  {
   "cell_type": "code",
   "execution_count": null,
   "outputs": [],
   "source": [
    "%%ipytest\n",
    "@pytest.mark.parametrize(\"test_file_name, test_expected_output\", PART_TWO_CASES.items())\n",
    "def test_part_two(test_file_name, test_expected_output):\n",
    "    test_actual_output = part_two(parse_input(test_file_name))\n",
    "    PART_TWO_OUTPUTS[test_file_name] = test_actual_output\n",
    "    assert test_actual_output == test_expected_output"
   ],
   "metadata": {
    "collapsed": false
   }
  },
  {
   "cell_type": "code",
   "execution_count": null,
   "outputs": [],
   "source": [
    "for file_name, actual_output in PART_TWO_OUTPUTS.items():\n",
    "    expected = PART_TWO_CASES[file_name]\n",
    "    actual = actual_output\n",
    "    outcome = (\"SENTINEL\" if actual == expected else \"CANDIDATE\") if expected == PART_TWO_SENTINEL else (\"CORRECT\" if expected == actual else \"INCORRECT\")\n",
    "    print(f\"{file_name:>10}      expected: {expected:>10}      actual: {actual:>10}      outcome: {outcome}\")"
   ],
   "metadata": {
    "collapsed": false
   }
  }
 ],
 "metadata": {
  "kernelspec": {
   "display_name": "Python 3 (ipykernel)",
   "language": "python",
   "name": "python3"
  },
  "language_info": {
   "codemirror_mode": {
    "name": "ipython",
    "version": 3
   },
   "file_extension": ".py",
   "mimetype": "text/x-python",
   "name": "python",
   "nbconvert_exporter": "python",
   "pygments_lexer": "ipython3",
   "version": "3.10.6"
  }
 },
 "nbformat": 4,
 "nbformat_minor": 1
}
