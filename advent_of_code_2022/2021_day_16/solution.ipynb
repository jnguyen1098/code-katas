{
 "cells": [
  {
   "cell_type": "markdown",
   "source": [
    "# [Advent of Code 2022 Day ?]()"
   ],
   "metadata": {
    "collapsed": false
   },
   "outputs": []
  },
  {
   "cell_type": "code",
   "execution_count": 1,
   "metadata": {},
   "outputs": [],
   "source": [
    "from __future__ import annotations\n",
    "import ipytest\n",
    "import pytest\n",
    "import sys\n",
    "sys.path.append(\"..\")\n",
    "from ansi import *\n",
    "from comp import *\n",
    "ipytest.autoconfig()\n",
    "PART_ONE_SENTINEL = 0x3f3f3f3f + 1\n",
    "PART_TWO_SENTINEL = 0x3f3f3f3f + 2\n",
    "run_doctest_for = lambda func: doctest.run_docstring_examples(func, globals())"
   ]
  },
  {
   "cell_type": "markdown",
   "source": [
    "## Test Cases"
   ],
   "metadata": {
    "collapsed": false
   }
  },
  {
   "cell_type": "code",
   "execution_count": 2,
   "outputs": [],
   "source": [
    "PART_ONE_CASES: dict[str, dict[str, str | int]] = {\n",
    "    \"example\": {\n",
    "        \"example1\": 31,\n",
    "    },\n",
    "    \"input\": {\n",
    "        \"input1\": 879,\n",
    "    },\n",
    "}\n",
    "PART_ONE_INPUTS: dict[str, dict[str, str | int]] = {\n",
    "    key: {} for key in PART_ONE_CASES.keys()\n",
    "}\n",
    "PART_ONE_OUTPUTS: dict[str, dict[str, str | int]] = {\n",
    "    key: {} for key in PART_ONE_CASES.keys()\n",
    "}"
   ],
   "metadata": {
    "collapsed": false
   }
  },
  {
   "cell_type": "code",
   "execution_count": 3,
   "outputs": [],
   "source": [
    "PART_TWO_CASES: dict[str, dict[str, str | int]] = {\n",
    "    \"example\": {\n",
    "        \"example2\": 3,\n",
    "    },\n",
    "    \"input\": {\n",
    "        \"input1\": 539051801941,\n",
    "    },\n",
    "}\n",
    "PART_TWO_INPUTS: dict[str, dict[str, str | int]] = {\n",
    "    key: {} for key in PART_TWO_CASES.keys()\n",
    "}\n",
    "PART_TWO_OUTPUTS: dict[str, dict[str, str | int]] = {\n",
    "    key: {} for key in PART_TWO_CASES.keys()\n",
    "}"
   ],
   "metadata": {
    "collapsed": false
   }
  },
  {
   "cell_type": "markdown",
   "source": [
    "## Input Parsing"
   ],
   "metadata": {
    "collapsed": false
   }
  },
  {
   "cell_type": "code",
   "execution_count": 4,
   "outputs": [],
   "source": [
    "class Model(BaseModel):\n",
    "    data: Any\n",
    "\n",
    "def parse_input_from_filename(filename: str) -> Context:\n",
    "    lines = list(yield_line(filename))\n",
    "\n",
    "    ctx = Context()\n",
    "    ctx.input = []\n",
    "\n",
    "    input_lines = ctx.input\n",
    "\n",
    "    for idx, line in enumerate(lines):\n",
    "        input_lines.append(line)\n",
    "\n",
    "    return ctx"
   ],
   "metadata": {
    "collapsed": false
   }
  },
  {
   "cell_type": "code",
   "execution_count": 5,
   "outputs": [
    {
     "name": "stdout",
     "output_type": "stream",
     "text": [
      "\u001B[32m.\u001B[0m\u001B[32m.\u001B[0m\u001B[32m                                                                                           [100%]\u001B[0m\n",
      "============================================= PASSES ==============================================\n",
      "\u001B[32m\u001B[1m_________________________________ test_parsing_examples[example2] _________________________________\u001B[0m\n",
      "-------------------------------------- Captured stderr call ---------------------------------------\n",
      "C200B40A82\n",
      "\u001B[32m\u001B[1m_________________________________ test_parsing_examples[example1] _________________________________\u001B[0m\n",
      "-------------------------------------- Captured stderr call ---------------------------------------\n",
      "A0016C880162017C3686B18A3D4780\n",
      "\u001B[32m\u001B[32m\u001B[1m2 passed\u001B[0m\u001B[32m in 0.02s\u001B[0m\u001B[0m\n"
     ]
    }
   ],
   "source": [
    "%%ipytest -xrPvvvvv\n",
    "@pytest.mark.parametrize(\"test_file_name\", PART_ONE_CASES[\"example\"].keys() | PART_TWO_CASES[\"example\"].keys())\n",
    "def test_parsing_examples(test_file_name):\n",
    "    for entity in parse_input_from_filename(test_file_name).input:\n",
    "        enable_logging()\n",
    "        log(f\"{entity}\")"
   ],
   "metadata": {
    "collapsed": false
   }
  },
  {
   "cell_type": "code",
   "execution_count": 6,
   "outputs": [
    {
     "name": "stdout",
     "output_type": "stream",
     "text": [
      "\u001B[32m.\u001B[0m\u001B[32m                                                                                            [100%]\u001B[0m\n",
      "============================================= PASSES ==============================================\n",
      "\u001B[32m\u001B[1m___________________________________ test_parsing_inputs[input1] ___________________________________\u001B[0m\n",
      "-------------------------------------- Captured stderr call ---------------------------------------\n",
      "A052E04CFD9DC0249694F0A11EA2044E200E9266766AB004A525F86FFCDF4B25DFC401A20043A11C61838600FC678D51B8C0198910EA1200010B3EEA40246C974EF003331006619C26844200D414859049402D9CDA64BDEF3C4E623331FBCCA3E4DFBBFC79E4004DE96FC3B1EC6DE4298D5A1C8F98E45266745B382040191D0034539682F4E5A0B527FEB018029277C88E0039937D8ACCC6256092004165D36586CC013A008625A2D7394A5B1DE16C0E3004A8035200043220C5B838200EC4B8E315A6CEE6F3C3B9FFB8100994200CC59837108401989D056280803F1EA3C41130047003530004323DC3C860200EC4182F1CA7E452C01744A0A4FF6BBAE6A533BFCD1967A26E20124BE1920A4A6A613315511007A4A32BE9AE6B5CAD19E56BA1430053803341007E24C168A6200D46384318A6AAC8401907003EF2F7D70265EFAE04CCAB3801727C9EC94802AF92F493A8012D9EABB48BA3805D1B65756559231917B93A4B4B46009C91F600481254AF67A845BA56610400414E3090055525E849BE8010397439746400BC255EE5362136F72B4A4A7B721004A510A7370CCB37C2BA0010D3038600BE802937A429BD20C90CCC564EC40144E80213E2B3E2F3D9D6DB0803F2B005A731DC6C524A16B5F1C1D98EE006339009AB401AB0803108A12C2A00043A134228AB2DBDA00801EC061B080180057A88016404DA201206A00638014E0049801EC0309800AC20025B20080C600710058A60070003080006A4F566244012C4B204A83CB234C2244120080E6562446669025CD4802DA9A45F004658527FFEC720906008C996700397319DD7710596674004BE6A161283B09C802B0D00463AC9563C2B969F0E080182972E982F9718200D2E637DB16600341292D6D8A7F496800FD490BCDC68B33976A872E008C5F9DFD566490A14\n",
      "\u001B[32m\u001B[32m\u001B[1m1 passed\u001B[0m\u001B[32m in 0.02s\u001B[0m\u001B[0m\n"
     ]
    }
   ],
   "source": [
    "%%ipytest -xrPvvvvv\n",
    "@pytest.mark.parametrize(\"test_file_name\", PART_ONE_CASES[\"input\"].keys() | PART_TWO_CASES[\"input\"].keys())\n",
    "def test_parsing_inputs(test_file_name):\n",
    "    for entity in parse_input_from_filename(test_file_name).input:\n",
    "        enable_logging()\n",
    "        log(f\"{entity}\")"
   ],
   "metadata": {
    "collapsed": false
   }
  },
  {
   "cell_type": "markdown",
   "source": [
    "## Helper Functions"
   ],
   "metadata": {
    "collapsed": false
   }
  },
  {
   "cell_type": "markdown",
   "source": [
    "### Hexchar to Bits"
   ],
   "metadata": {
    "collapsed": false
   }
  },
  {
   "cell_type": "code",
   "execution_count": 7,
   "outputs": [
    {
     "name": "stdout",
     "output_type": "stream",
     "text": [
      "\u001B[32m.\u001B[0m\u001B[32m                                                                                            [100%]\u001B[0m\n",
      "============================================= PASSES ==============================================\n",
      "\u001B[32m\u001B[32m\u001B[1m1 passed\u001B[0m\u001B[32m in 0.02s\u001B[0m\u001B[0m\n"
     ]
    }
   ],
   "source": [
    "%%ipytest -xrPvvvvv\n",
    "\n",
    "def hexchar_to_bits(char: str) -> str:\n",
    "    assert len(char) == 1\n",
    "    return {\n",
    "        \"0\": \"0000\",\n",
    "        \"1\": \"0001\",\n",
    "        \"2\": \"0010\",\n",
    "        \"3\": \"0011\",\n",
    "        \"4\": \"0100\",\n",
    "        \"5\": \"0101\",\n",
    "        \"6\": \"0110\",\n",
    "        \"7\": \"0111\",\n",
    "        \"8\": \"1000\",\n",
    "        \"9\": \"1001\",\n",
    "        \"A\": \"1010\",\n",
    "        \"B\": \"1011\",\n",
    "        \"C\": \"1100\",\n",
    "        \"D\": \"1101\",\n",
    "        \"E\": \"1110\",\n",
    "        \"F\": \"1111\",\n",
    "    }[char]\n",
    "\n",
    "def test_helper_1() -> None:\n",
    "    assert hexchar_to_bits(\"0\") == \"0000\"\n",
    "    assert hexchar_to_bits(\"F\") == \"1111\""
   ],
   "metadata": {
    "collapsed": false
   }
  },
  {
   "cell_type": "markdown",
   "source": [
    "### Hexstring to Bits"
   ],
   "metadata": {
    "collapsed": false
   }
  },
  {
   "cell_type": "code",
   "execution_count": 8,
   "outputs": [
    {
     "name": "stdout",
     "output_type": "stream",
     "text": [
      "\u001B[32m.\u001B[0m\u001B[32m                                                                                            [100%]\u001B[0m\n",
      "============================================= PASSES ==============================================\n",
      "\u001B[32m\u001B[32m\u001B[1m1 passed\u001B[0m\u001B[32m in 0.01s\u001B[0m\u001B[0m\n"
     ]
    }
   ],
   "source": [
    "%%ipytest -xrPvvvvv\n",
    "\n",
    "def hex_to_bits(input: str) -> str:\n",
    "    res = []\n",
    "    for char in input:\n",
    "        res.append(hexchar_to_bits(char))\n",
    "    return \"\".join(res)\n",
    "\n",
    "def test_helper_2() -> None:\n",
    "    assert hex_to_bits(\"D2FE28\") == \"110100101111111000101000\"\n",
    "    assert hex_to_bits(\"38006F45291200\") == \"00111000000000000110111101000101001010010001001000000000\"\n",
    "    assert hex_to_bits(\"EE00D40C823060\") == \"11101110000000001101010000001100100000100011000001100000\""
   ],
   "metadata": {
    "collapsed": false
   }
  },
  {
   "cell_type": "markdown",
   "source": [
    "### Consume String"
   ],
   "metadata": {
    "collapsed": false
   }
  },
  {
   "cell_type": "code",
   "execution_count": 9,
   "outputs": [
    {
     "name": "stdout",
     "output_type": "stream",
     "text": [
      "\u001B[32m.\u001B[0m\u001B[32m                                                                                            [100%]\u001B[0m\n",
      "============================================= PASSES ==============================================\n",
      "\u001B[32m\u001B[32m\u001B[1m1 passed\u001B[0m\u001B[32m in 0.04s\u001B[0m\u001B[0m\n"
     ]
    }
   ],
   "source": [
    "%%ipytest -xrPvvvvv\n",
    "\n",
    "def consume(amount: int, string: str) -> tuple[str, str]:\n",
    "    assert len(string) >= amount, f\"Attempted to consume {amount} chars from string with only length {len(string)}: '{string}'\"\n",
    "    first = string[:amount]\n",
    "    second = string[amount:]\n",
    "    assert string == first + second\n",
    "    return first, second\n",
    "\n",
    "def test_consume() -> None:\n",
    "    assert consume(3, \"hello\") == (\"hel\", \"lo\")\n",
    "    assert consume(5, \"boobs\") == (\"boobs\", \"\")\n",
    "    with pytest.raises(AssertionError):\n",
    "        consume(6, \"hello\")"
   ],
   "metadata": {
    "collapsed": false
   }
  },
  {
   "cell_type": "markdown",
   "source": [
    "### Get Version and ID"
   ],
   "metadata": {
    "collapsed": false
   }
  },
  {
   "cell_type": "code",
   "execution_count": 10,
   "outputs": [
    {
     "name": "stdout",
     "output_type": "stream",
     "text": [
      "\u001B[32m.\u001B[0m\u001B[32m                                                                                            [100%]\u001B[0m\n",
      "============================================= PASSES ==============================================\n",
      "\u001B[32m\u001B[32m\u001B[1m1 passed\u001B[0m\u001B[32m in 0.02s\u001B[0m\u001B[0m\n"
     ]
    }
   ],
   "source": [
    "%%ipytest -xrPvvvvv\n",
    "\n",
    "def get_version_and_id(packet: str) -> tuple[str, str]:\n",
    "    version_string, packet = consume(3, packet)\n",
    "    p_version = int(version_string, 2)\n",
    "    id_string, packet = consume(3, packet)\n",
    "    p_id = int(id_string, 2)\n",
    "\n",
    "    return p_version, p_id\n",
    "\n",
    "def test_get_version_and_id() -> None:\n",
    "    assert get_version_and_id(\"110100101111111000101000\") == (6, 4)"
   ],
   "metadata": {
    "collapsed": false
   }
  },
  {
   "cell_type": "markdown",
   "source": [
    "### Interpret First Packet Type"
   ],
   "metadata": {
    "collapsed": false
   }
  },
  {
   "cell_type": "code",
   "execution_count": 11,
   "outputs": [
    {
     "name": "stdout",
     "output_type": "stream",
     "text": [
      "\n",
      "\u001B[33m\u001B[33mno tests ran\u001B[0m\u001B[33m in 0.01s\u001B[0m\u001B[0m\n"
     ]
    }
   ],
   "source": [
    "%%ipytest -xrPvvvvv\n",
    "\n",
    "class PacketType(Enum):\n",
    "    OPERATOR = 0\n",
    "    LITERAL = 1\n",
    "\n",
    "def get_first_type(data: str) -> PacketType:\n",
    "    pver, pid = get_version_and_id(data)\n",
    "    if pid == 4:\n",
    "        return PacketType.LITERAL\n",
    "    return PacketType.OPERATOR"
   ],
   "metadata": {
    "collapsed": false
   }
  },
  {
   "cell_type": "markdown",
   "source": [
    "### Parse Packet"
   ],
   "metadata": {
    "collapsed": false
   }
  },
  {
   "cell_type": "code",
   "execution_count": 12,
   "outputs": [
    {
     "name": "stdout",
     "output_type": "stream",
     "text": [
      "\n",
      "\u001B[33m\u001B[33mno tests ran\u001B[0m\u001B[33m in 0.01s\u001B[0m\u001B[0m\n"
     ]
    }
   ],
   "source": [
    "%%ipytest -xrPvvvvv\n",
    "\n",
    "def parse_packet(packet: str, level: int = 0) -> Any:\n",
    "\n",
    "    parsed = 0\n",
    "\n",
    "    pver, pid = get_version_and_id(packet)\n",
    "    chunk, packet = consume(6, packet)\n",
    "    parsed += 6\n",
    "\n",
    "    packet_type = \"Literal\" if pid == 4 else \"Operator\"\n",
    "\n",
    "    data = {\n",
    "        \"version\": pver,\n",
    "        \"id\": pid,\n",
    "        \"type\": packet_type,\n",
    "    }\n",
    "\n",
    "    if packet_type == \"Literal\":\n",
    "        vals = []\n",
    "        while True:\n",
    "            chop, packet = consume(5, packet)\n",
    "            parsed += 5\n",
    "            vals.append(chop[1:])\n",
    "            if not chop[0] == \"1\":\n",
    "                break\n",
    "        data[\"decval\"] = int(\"\".join(vals), 2)\n",
    "        data[\"parsed\"] = parsed\n",
    "\n",
    "    elif packet_type == \"Operator\":\n",
    "        data[\"children\"] = []\n",
    "        length_type, packet = consume(1, packet)\n",
    "        parsed += 1\n",
    "\n",
    "        if length_type == \"0\":\n",
    "            total_size_str, packet = consume(15, packet)\n",
    "            total_size = int(total_size_str, 2)\n",
    "            parsed += 15\n",
    "            subparse = 0\n",
    "            while subparse < total_size:\n",
    "                subpacket = parse_packet(packet, level + 1)\n",
    "                chars_parsed = subpacket[\"parsed\"]\n",
    "                subpacket_text, packet = consume(chars_parsed, packet)\n",
    "                subparse += chars_parsed\n",
    "                data[\"children\"].append(subpacket)\n",
    "            parsed += subparse\n",
    "            data[\"parsed\"] = parsed\n",
    "\n",
    "        elif length_type == \"1\":\n",
    "            num_packets_str, packet = consume(11, packet)\n",
    "            num_packets = int(num_packets_str, 2)\n",
    "            parsed += 11\n",
    "            subcount = 0\n",
    "            subparse = 0\n",
    "            while subcount < num_packets:\n",
    "                subpacket = parse_packet(packet, level + 1)\n",
    "                chars_parsed = subpacket[\"parsed\"]\n",
    "                subpacket_text, packet = consume(chars_parsed, packet)\n",
    "                subparse += chars_parsed\n",
    "                subcount += 1\n",
    "                data[\"children\"].append(subpacket)\n",
    "            parsed += subparse\n",
    "            data[\"parsed\"] = parsed\n",
    "\n",
    "    return data"
   ],
   "metadata": {
    "collapsed": false
   }
  },
  {
   "cell_type": "code",
   "execution_count": 13,
   "outputs": [
    {
     "name": "stdout",
     "output_type": "stream",
     "text": [
      "\u001B[32m.\u001B[0m\u001B[32m                                                                                            [100%]\u001B[0m\n",
      "============================================= PASSES ==============================================\n",
      "\u001B[32m\u001B[32m\u001B[1m1 passed\u001B[0m\u001B[32m in 0.01s\u001B[0m\u001B[0m\n"
     ]
    }
   ],
   "source": [
    "%%ipytest -xrPvvvvv\n",
    "\n",
    "def test_helper_5() -> None:\n",
    "    assert hex_to_bits(\"38006F45291200\") == \"00111000000000000110111101000101001010010001001000000000\"\n",
    "    example1 = parse_packet(\"00111000000000000110111101000101001010010001001000000000\")\n",
    "    assert example1[\"children\"][0][\"decval\"] == 10 and example1[\"children\"][1][\"decval\"] == 20"
   ],
   "metadata": {
    "collapsed": false
   }
  },
  {
   "cell_type": "code",
   "execution_count": 14,
   "outputs": [
    {
     "name": "stdout",
     "output_type": "stream",
     "text": [
      "\u001B[32m.\u001B[0m\u001B[32m.\u001B[0m\u001B[32m.\u001B[0m\u001B[32m.\u001B[0m\u001B[32m                                                                                         [100%]\u001B[0m\n",
      "============================================= PASSES ==============================================\n",
      "\u001B[32m\u001B[32m\u001B[1m4 passed\u001B[0m\u001B[32m in 0.03s\u001B[0m\u001B[0m\n"
     ]
    }
   ],
   "source": [
    "%%ipytest -xrPvvvvv\n",
    "\n",
    "def test_parse_afewefaadfsdfasdwefawef() -> None:\n",
    "    example = parse_packet(\"01010000001\")\n",
    "    assert example[\"type\"] == \"Literal\"\n",
    "    assert example[\"decval\"] == 1\n",
    "\n",
    "def test_parse_afewefawefawef() -> None:\n",
    "    example = parse_packet(\"10010000010\")\n",
    "    assert example[\"type\"] == \"Literal\"\n",
    "    assert example[\"decval\"] == 2\n",
    "\n",
    "def test_parse_awefawef() -> None:\n",
    "    example = parse_packet(\"0011000001100000\")\n",
    "    assert example[\"type\"] == \"Literal\"\n",
    "    assert example[\"decval\"] == 3\n",
    "\n",
    "def test_parse_example2() -> None:\n",
    "    assert hex_to_bits(\"EE00D40C823060\") == \"11101110000000001101010000001100100000100011000001100000\"\n",
    "    example = parse_packet(\"11101110000000001101010000001100100000100011000001100000\")\n",
    "    assert example[\"type\"] == \"Operator\"\n",
    "    assert example[\"version\"] == 7\n",
    "    assert example[\"id\"] == 3\n",
    "    assert len(example[\"children\"]) == 3\n",
    "    assert example[\"children\"][0][\"decval\"] == 1\n",
    "    assert example[\"children\"][1][\"decval\"] == 2\n",
    "    assert example[\"children\"][2][\"decval\"] == 3"
   ],
   "metadata": {
    "collapsed": false
   }
  },
  {
   "cell_type": "markdown",
   "source": [
    "### Get Version Sum"
   ],
   "metadata": {
    "collapsed": false
   }
  },
  {
   "cell_type": "code",
   "execution_count": 15,
   "outputs": [
    {
     "name": "stdout",
     "output_type": "stream",
     "text": [
      "\u001B[32m.\u001B[0m\u001B[32m.\u001B[0m\u001B[32m.\u001B[0m\u001B[32m.\u001B[0m\u001B[32m                                                                                         [100%]\u001B[0m\n",
      "============================================= PASSES ==============================================\n",
      "\u001B[32m\u001B[32m\u001B[1m4 passed\u001B[0m\u001B[32m in 0.03s\u001B[0m\u001B[0m\n"
     ]
    }
   ],
   "source": [
    "%%ipytest -xrPvvvvv\n",
    "\n",
    "def get_version_sum_for_hexstring(hexstring: str) -> int:\n",
    "    bits = hex_to_bits(hexstring)\n",
    "    parsed = parse_packet(bits)\n",
    "\n",
    "    final_sum = 0\n",
    "\n",
    "    def traverse(packet) -> None:\n",
    "        nonlocal final_sum\n",
    "        final_sum += packet[\"version\"]\n",
    "        if \"children\" in packet:\n",
    "            for child in packet[\"children\"]:\n",
    "                traverse(child)\n",
    "\n",
    "    traverse(parsed)\n",
    "\n",
    "    return final_sum\n",
    "\n",
    "@pytest.mark.parametrize(\n",
    "    \"string, expected\",\n",
    "    [\n",
    "        (\"8A004A801A8002F478\", 16),\n",
    "        (\"620080001611562C8802118E34\", 12),\n",
    "        (\"C0015000016115A2E0802F182340\", 23),\n",
    "        (\"A0016C880162017C3686B18A3D4780\", 31),\n",
    "    ]\n",
    ")\n",
    "def test_difficult(string: str, expected: int) -> None:\n",
    "    assert get_version_sum_for_hexstring(string) == expected\n"
   ],
   "metadata": {
    "collapsed": false
   }
  },
  {
   "cell_type": "markdown",
   "source": [
    "### Solve Packet"
   ],
   "metadata": {
    "collapsed": false
   }
  },
  {
   "cell_type": "code",
   "execution_count": 16,
   "outputs": [
    {
     "name": "stdout",
     "output_type": "stream",
     "text": [
      "\n",
      "\u001B[33m\u001B[33mno tests ran\u001B[0m\u001B[33m in 0.01s\u001B[0m\u001B[0m\n"
     ]
    }
   ],
   "source": [
    "%%ipytest -xrPvvvvv\n",
    "\n",
    "def solve_packet(packet: dict[str, Any]) -> int:\n",
    "    type_id = packet[\"id\"]\n",
    "\n",
    "    if packet[\"type\"] == \"Literal\":\n",
    "        return packet[\"decval\"]\n",
    "\n",
    "    ans = 0\n",
    "\n",
    "    if type_id == 0:\n",
    "        for child in packet[\"children\"]:\n",
    "            ans += solve_packet(child)\n",
    "    elif type_id == 1:\n",
    "        if not packet[\"children\"]:\n",
    "            return 0  # ???\n",
    "        ans = 1\n",
    "        for child in packet[\"children\"]:\n",
    "            ans *= solve_packet(child)\n",
    "    elif type_id == 2:\n",
    "        return min([solve_packet(child) for child in packet[\"children\"]])\n",
    "    elif type_id == 3:\n",
    "        return max([solve_packet(child) for child in packet[\"children\"]])\n",
    "    elif type_id == 5:\n",
    "        assert len(packet[\"children\"]) == 2, f\"GT packet needs exactly 2 children but encountered {len(packet['children'])} -> {packet['children']}\"\n",
    "        return 1 if solve_packet(packet[\"children\"][0]) > solve_packet(packet[\"children\"][1]) else 0\n",
    "    elif type_id == 6:\n",
    "        assert len(packet[\"children\"]) == 2, f\"LT packet needs exactly 2 children but encountered {len(packet['children'])} -> {packet['children']}\"\n",
    "        return 1 if solve_packet(packet[\"children\"][0]) < solve_packet(packet[\"children\"][1]) else 0\n",
    "    elif type_id == 7:\n",
    "        assert len(packet[\"children\"]) == 2, f\"EQ packet needs exactly 2 children but encountered {len(packet['children'])} -> {packet['children']}\"\n",
    "        return 1 if solve_packet(packet[\"children\"][0]) == solve_packet(packet[\"children\"][1]) else 0\n",
    "    else:\n",
    "        raise ValueError(f\"Invalid {type_id=}\")\n",
    "\n",
    "    return ans"
   ],
   "metadata": {
    "collapsed": false
   }
  },
  {
   "cell_type": "markdown",
   "source": [
    "### Evaluate Packet String"
   ],
   "metadata": {
    "collapsed": false
   }
  },
  {
   "cell_type": "code",
   "execution_count": 17,
   "outputs": [
    {
     "name": "stdout",
     "output_type": "stream",
     "text": [
      "\u001B[32m.\u001B[0m\u001B[32m.\u001B[0m\u001B[32m.\u001B[0m\u001B[32m.\u001B[0m\u001B[32m.\u001B[0m\u001B[32m.\u001B[0m\u001B[32m.\u001B[0m\u001B[32m.\u001B[0m\u001B[32m                                                                                     [100%]\u001B[0m\n",
      "============================================= PASSES ==============================================\n",
      "\u001B[32m\u001B[32m\u001B[1m8 passed\u001B[0m\u001B[32m in 0.04s\u001B[0m\u001B[0m\n"
     ]
    }
   ],
   "source": [
    "%%ipytest -xrPvvvvv\n",
    "\n",
    "def evaluate_packet(data: str) -> int:\n",
    "    bits = hex_to_bits(data)\n",
    "    parsed = parse_packet(bits)\n",
    "\n",
    "    return solve_packet(parsed)\n",
    "\n",
    "@pytest.mark.parametrize(\n",
    "    \"packetstr, expected\",\n",
    "    [\n",
    "        (\"C200B40A82\", 3),\n",
    "        (\"04005AC33890\", 54),\n",
    "        (\"880086C3E88112\", 7),\n",
    "        (\"CE00C43D881120\", 9),\n",
    "        (\"D8005AC2A8F0\", 1),\n",
    "        (\"F600BC2D8F\", 0),\n",
    "        (\"9C005AC2F8F0\", 0),\n",
    "        (\"9C0141080250320F1802104A08\", 1),\n",
    "    ]\n",
    ")\n",
    "def test_evaluate_packet(packetstr: str, expected: int) -> None:\n",
    "    assert evaluate_packet(packetstr) == expected"
   ],
   "metadata": {
    "collapsed": false
   }
  },
  {
   "cell_type": "markdown",
   "source": [],
   "metadata": {
    "collapsed": false
   }
  },
  {
   "cell_type": "markdown",
   "source": [
    "## Main Function"
   ],
   "metadata": {
    "collapsed": false
   }
  },
  {
   "cell_type": "code",
   "execution_count": 18,
   "outputs": [],
   "source": [
    "def solve(part: int, filename: str) -> int:\n",
    "    input = parse_input_from_filename(filename).input\n",
    "    if part == 1:\n",
    "        return get_version_sum_for_hexstring(input[0])\n",
    "    if part == 2:\n",
    "        return evaluate_packet(input[0])\n",
    "    else:\n",
    "        raise Exception(f\"Invalid part: {part}\")"
   ],
   "metadata": {
    "collapsed": false
   }
  },
  {
   "cell_type": "markdown",
   "source": [
    "### Part 1"
   ],
   "metadata": {
    "collapsed": false
   }
  },
  {
   "cell_type": "code",
   "execution_count": 19,
   "outputs": [
    {
     "name": "stdout",
     "output_type": "stream",
     "text": [
      "\u001B[32m.\u001B[0m\u001B[32m.\u001B[0m\u001B[32m                                                                                           [100%]\u001B[0m\n",
      "============================================= PASSES ==============================================\n",
      "\u001B[32m\u001B[32m\u001B[1m2 passed\u001B[0m\u001B[32m in 0.02s\u001B[0m\u001B[0m\n"
     ]
    }
   ],
   "source": [
    "%%ipytest -xrPvvvvv\n",
    "@pytest.mark.parametrize(\"test_file_name, test_expected_output\", PART_ONE_CASES[\"example\"].items())\n",
    "def test_part_one_examples(test_file_name, test_expected_output):\n",
    "    test_actual_output = solve(1, test_file_name)\n",
    "    PART_ONE_OUTPUTS[\"example\"][test_file_name] = test_actual_output\n",
    "    failure_message = \"Did you forget to calibrate the example test case?\" if (\n",
    "        test_expected_output == PART_ONE_SENTINEL\n",
    "    ) else f\"Failed example test case: expected {test_expected_output} but got {test_actual_output}\"\n",
    "    assert test_actual_output == test_expected_output, failure_message\n",
    "\n",
    "@pytest.mark.parametrize(\"test_file_name, test_expected_output\", PART_ONE_CASES[\"input\"].items())\n",
    "def test_part_one_inputs(test_file_name, test_expected_output):\n",
    "    test_actual_output = solve(1, test_file_name)\n",
    "    PART_ONE_OUTPUTS[\"input\"][test_file_name] = test_actual_output\n",
    "    failure_message = f\"Candidate answer {test_actual_output} found\" if (\n",
    "        test_expected_output == PART_ONE_SENTINEL\n",
    "    ) else f\"Failed input test case: expected {test_expected_output} but got {test_actual_output}\"\n",
    "    assert test_actual_output == test_expected_output, failure_message"
   ],
   "metadata": {
    "collapsed": false
   }
  },
  {
   "cell_type": "markdown",
   "source": [
    "### Part 2"
   ],
   "metadata": {
    "collapsed": false
   }
  },
  {
   "cell_type": "code",
   "execution_count": 20,
   "outputs": [
    {
     "name": "stdout",
     "output_type": "stream",
     "text": [
      "\u001B[32m.\u001B[0m\u001B[32m.\u001B[0m\u001B[32m                                                                                           [100%]\u001B[0m\n",
      "============================================= PASSES ==============================================\n",
      "\u001B[32m\u001B[32m\u001B[1m2 passed\u001B[0m\u001B[32m in 0.02s\u001B[0m\u001B[0m\n"
     ]
    }
   ],
   "source": [
    "%%ipytest -xrPvvvvv\n",
    "@pytest.mark.parametrize(\"test_file_name, test_expected_output\", PART_TWO_CASES[\"example\"].items())\n",
    "def test_part_two_examples(test_file_name, test_expected_output):\n",
    "    test_actual_output = solve(2, test_file_name)\n",
    "    PART_TWO_OUTPUTS[\"example\"][test_file_name] = test_actual_output\n",
    "    failure_message = \"Did you forget to calibrate the example test case?\" if (\n",
    "        test_expected_output == PART_TWO_SENTINEL\n",
    "    ) else f\"Failed example test case: expected {test_expected_output} but got {test_actual_output}\"\n",
    "    assert test_actual_output == test_expected_output, failure_message\n",
    "\n",
    "@pytest.mark.parametrize(\"test_file_name, test_expected_output\", PART_TWO_CASES[\"input\"].items())\n",
    "def test_part_two_inputs(test_file_name, test_expected_output):\n",
    "    test_actual_output = solve(2, test_file_name)\n",
    "    PART_TWO_OUTPUTS[\"input\"][test_file_name] = test_actual_output\n",
    "    failure_message = f\"Candidate answer {test_actual_output} found\" if (\n",
    "        test_expected_output == PART_TWO_SENTINEL\n",
    "    ) else f\"Failed input test case: expected {test_expected_output} but got {test_actual_output}\"\n",
    "    assert test_actual_output == test_expected_output, failure_message"
   ],
   "metadata": {
    "collapsed": false
   }
  },
  {
   "cell_type": "markdown",
   "source": [
    "dadada"
   ],
   "metadata": {
    "collapsed": false
   }
  }
 ],
 "metadata": {
  "kernelspec": {
   "display_name": "Python 3 (ipykernel)",
   "language": "python",
   "name": "python3"
  },
  "language_info": {
   "codemirror_mode": {
    "name": "ipython",
    "version": 3
   },
   "file_extension": ".py",
   "mimetype": "text/x-python",
   "name": "python",
   "nbconvert_exporter": "python",
   "pygments_lexer": "ipython3",
   "version": "3.10.6"
  }
 },
 "nbformat": 4,
 "nbformat_minor": 1
}
