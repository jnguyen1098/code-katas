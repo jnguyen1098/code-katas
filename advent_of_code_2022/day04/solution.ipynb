{
 "cells": [
  {
   "cell_type": "markdown",
   "source": [
    "# [Advent of Code 2022 Day 4](https://adventofcode.com/2022/day/4)\n",
    "\n",
    "Nice lesson in intervals."
   ],
   "metadata": {
    "collapsed": false
   },
   "outputs": []
  },
  {
   "cell_type": "markdown",
   "source": [
    "## Initial setup"
   ],
   "metadata": {
    "collapsed": false
   }
  },
  {
   "cell_type": "code",
   "execution_count": 1,
   "metadata": {},
   "outputs": [],
   "source": [
    "import ipytest\n",
    "import sys\n",
    "sys.path.append(\"..\")\n",
    "from ansi import *\n",
    "from comp import *\n",
    "ipytest.autoconfig()"
   ]
  },
  {
   "cell_type": "markdown",
   "source": [
    "## Input Parsing\n",
    "Noticed that the ranges could have two digits, so I just did a generalized regex to capture two groups of numbers delimited by comma, themselves delimited by hyphen."
   ],
   "metadata": {
    "collapsed": false
   }
  },
  {
   "cell_type": "code",
   "execution_count": 2,
   "outputs": [],
   "source": [
    "def parse_input(filename):\n",
    "\n",
    "    gen = yield_line(filename)\n",
    "\n",
    "    result = []\n",
    "\n",
    "    for line in gen:\n",
    "        result.append(map(int, parse(r\"(\\d+)-(\\d+),(\\d+)-(\\d+)\", line)))\n",
    "\n",
    "    return result"
   ],
   "metadata": {
    "collapsed": false
   }
  },
  {
   "cell_type": "markdown",
   "source": [
    "## Part 1\n",
    "I knew I could've done some fancy conditionals to codify either interval being inside each other, but I chose the lazier, safer method of just doubling the method call to enforce symmetry (this is because `contained` only checks if the first operand usurps the second, but not the other way around)."
   ],
   "metadata": {
    "collapsed": false
   }
  },
  {
   "cell_type": "code",
   "execution_count": 3,
   "outputs": [],
   "source": [
    "def contained(int1, int2):\n",
    "    x1, y1 = int1\n",
    "    x2, y2 = int2\n",
    "    return x1 <= x2 and y1 >= y2\n",
    "\n",
    "def part_one(data):\n",
    "    count = 0\n",
    "    for l1, r1, l2, r2 in data:\n",
    "        if contained((l1, r1), (l2, r2)) or contained((l2, r2), (l1 ,r1)):\n",
    "            count += 1\n",
    "    return count"
   ],
   "metadata": {
    "collapsed": false
   }
  },
  {
   "cell_type": "code",
   "execution_count": 4,
   "outputs": [
    {
     "name": "stdout",
     "output_type": "stream",
     "text": [
      "\u001B[32m.\u001B[0m\u001B[32m                                                                                            [100%]\u001B[0m\n",
      "\u001B[32m\u001B[32m\u001B[1m1 passed\u001B[0m\u001B[32m in 0.02s\u001B[0m\u001B[0m\n"
     ]
    }
   ],
   "source": [
    "%%ipytest\n",
    "def test_part_one():\n",
    "    assert part_one(parse_input(\"example1\")) == 2\n",
    "    assert part_one(parse_input(\"input\")) == 450"
   ],
   "metadata": {
    "collapsed": false
   }
  },
  {
   "cell_type": "markdown",
   "source": [
    "## Part 2\n",
    "We want to find whether or not there exists any intersection between the effective range of two intervals. So we see to it that. To codify this, I used the [criss-cross approach](https://leetcode.com/problems/interval-list-intersections/solutions/647482/Python-Two-Pointer-Approach-+-Thinking-Process-Diagrams/) used commonly in theoretical CS/mathematical discussions.\n",
    "\n",
    "![](https://assets.leetcode.com/users/arkaung/image_1590249888.png)"
   ],
   "metadata": {
    "collapsed": false
   }
  },
  {
   "cell_type": "code",
   "execution_count": 5,
   "outputs": [],
   "source": [
    "def contained2(int1, int2):\n",
    "    x1, y1 = int1\n",
    "    x2, y2 = int2\n",
    "    return x1 <= y2 and y1 >= x2\n",
    "\n",
    "def part_two(data):\n",
    "    count = 0\n",
    "    for l1, r1, l2, r2 in data:\n",
    "        if contained2((l1, r1), (l2, r2)) or contained((l2, r2), (l1 ,r1)):\n",
    "            count += 1\n",
    "    return count"
   ],
   "metadata": {
    "collapsed": false
   }
  },
  {
   "cell_type": "code",
   "execution_count": 6,
   "outputs": [
    {
     "name": "stdout",
     "output_type": "stream",
     "text": [
      "\u001B[32m.\u001B[0m\u001B[32m                                                                                            [100%]\u001B[0m\n",
      "\u001B[32m\u001B[32m\u001B[1m1 passed\u001B[0m\u001B[32m in 0.01s\u001B[0m\u001B[0m\n"
     ]
    }
   ],
   "source": [
    "%%ipytest\n",
    "def test_part_two():\n",
    "    assert part_two(parse_input(\"example1\")) == 4\n",
    "    assert part_two(parse_input(\"input\")) == 837"
   ],
   "metadata": {
    "collapsed": false
   }
  }
 ],
 "metadata": {
  "kernelspec": {
   "display_name": "Python 3 (ipykernel)",
   "language": "python",
   "name": "python3"
  },
  "language_info": {
   "codemirror_mode": {
    "name": "ipython",
    "version": 3
   },
   "file_extension": ".py",
   "mimetype": "text/x-python",
   "name": "python",
   "nbconvert_exporter": "python",
   "pygments_lexer": "ipython3",
   "version": "3.10.6"
  }
 },
 "nbformat": 4,
 "nbformat_minor": 1
}
