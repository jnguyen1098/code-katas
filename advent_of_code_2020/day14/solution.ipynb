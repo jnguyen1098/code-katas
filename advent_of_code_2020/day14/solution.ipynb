{
 "cells": [
  {
   "cell_type": "markdown",
   "source": [
    "# [Advent of Code 2020 Day 14](https://adventofcode.com/2020/day/14)\n",
    "\n",
    "This looks cracked. More low-level computer stuff."
   ],
   "metadata": {
    "collapsed": false
   },
   "outputs": []
  },
  {
   "cell_type": "markdown",
   "source": [
    "## Initial setup"
   ],
   "metadata": {
    "collapsed": false
   }
  },
  {
   "cell_type": "code",
   "execution_count": null,
   "metadata": {
    "pycharm": {
     "is_executing": true
    }
   },
   "outputs": [],
   "source": [
    "import ipytest\n",
    "import sys\n",
    "sys.path.append(\"..\")\n",
    "from ansi import *\n",
    "from comp import *\n",
    "ipytest.autoconfig()"
   ]
  },
  {
   "cell_type": "markdown",
   "source": [
    "## Input Parsing"
   ],
   "metadata": {
    "collapsed": false
   }
  },
  {
   "cell_type": "code",
   "execution_count": null,
   "outputs": [],
   "source": [
    "def parse_input(filename: str) -> list[tuple[str, str, str] | tuple[str, str]]:\n",
    "\n",
    "    gen = yield_line(filename)\n",
    "    instructions = []\n",
    "\n",
    "    for line in gen:\n",
    "        print(f\"parsing '{line}'\")\n",
    "        if line.startswith(\"mem\"):\n",
    "            print(\"this starts with mem, going to parse it like that\")\n",
    "            address, value = parse(r\"mem\\[(\\d+)\\] = (\\d+)\", line)\n",
    "            instructions.append((\"mem\", address, value))\n",
    "        elif line.startswith(\"mask\"):\n",
    "            print(\"this starts with mask, going to parse it like that\")\n",
    "            mask = parse(r\"mask = (.*)\", line)[0]\n",
    "            print(f\"received {mask}\")\n",
    "            instructions.append((\"mask\", mask))\n",
    "\n",
    "    return instructions"
   ],
   "metadata": {
    "collapsed": false
   }
  },
  {
   "cell_type": "markdown",
   "source": [
    "## Part 1\n",
    "Let's go the straightforward approach, because how else would you do it? First I'm going to make a mask class."
   ],
   "metadata": {
    "collapsed": false
   }
  },
  {
   "cell_type": "code",
   "execution_count": null,
   "outputs": [],
   "source": [
    "class Mask:\n",
    "    def __init__(self, mask: str):\n",
    "        assert len(mask) == 36\n",
    "        self.mask: list[str] = list(mask)\n",
    "    def apply(self, other):\n",
    "        assert len(other) == 36\n",
    "        for idx, char in enumerate(other):\n",
    "            if char == \"X\":\n",
    "                continue\n",
    "            self.mask[idx] = char\n",
    "    def __repr__(self):\n",
    "        return \"\".join(self.mask)"
   ],
   "metadata": {
    "collapsed": false
   }
  },
  {
   "cell_type": "code",
   "execution_count": null,
   "outputs": [],
   "source": [
    "%%ipytest\n",
    "def test_mask_creation():\n",
    "    assert Mask(\"000000000000000000000000000000001011\").mask == list(\"000000000000000000000000000000001011\")\n",
    "\n",
    "def test_mask_apply_11_73():\n",
    "    mask = Mask(\"000000000000000000000000000000001011\")\n",
    "    mask.apply(\"XXXXXXXXXXXXXXXXXXXXXXXXXXXXX1XXXX0X\")\n",
    "    assert str(mask) == \"000000000000000000000000000001001001\"\n",
    "\n",
    "def test_mask_apply_101_101():\n",
    "    mask = Mask(\"000000000000000000000000000001100101\")\n",
    "    mask.apply(\"XXXXXXXXXXXXXXXXXXXXXXXXXXXXX1XXXX0X\")\n",
    "    assert str(mask) == \"000000000000000000000000000001100101\"\n",
    "\n",
    "def test_mask_apply_0_64():\n",
    "    mask = Mask(\"000000000000000000000000000000000000\")\n",
    "    mask.apply(\"XXXXXXXXXXXXXXXXXXXXXXXXXXXXX1XXXX0X\")\n",
    "    assert str(mask) == \"000000000000000000000000000001000000\""
   ],
   "metadata": {
    "collapsed": false
   }
  },
  {
   "cell_type": "markdown",
   "source": [
    "OK, now a helper method to convert int to 36-bit bitmask."
   ],
   "metadata": {
    "collapsed": false
   }
  },
  {
   "cell_type": "code",
   "execution_count": null,
   "outputs": [],
   "source": [
    "def int_to_mask(num: int) -> str:\n",
    "    tmp = bin(num)[2:]\n",
    "    return (\"0\" * (36 - len(tmp))) + tmp"
   ],
   "metadata": {
    "collapsed": false
   }
  },
  {
   "cell_type": "code",
   "execution_count": null,
   "outputs": [],
   "source": [
    "%%ipytest\n",
    "def test_int_to_mask():\n",
    "    assert int_to_mask(11) == \"000000000000000000000000000000001011\"\n",
    "    assert int_to_mask(73) == \"000000000000000000000000000001001001\"\n",
    "    assert int_to_mask(101) == \"000000000000000000000000000001100101\"\n",
    "    assert int_to_mask(0) == \"000000000000000000000000000000000000\"\n",
    "    assert int_to_mask(64) == \"000000000000000000000000000001000000\""
   ],
   "metadata": {
    "collapsed": false
   }
  },
  {
   "cell_type": "code",
   "execution_count": null,
   "outputs": [],
   "source": [
    "def part_one(data: list[tuple[str, str, str] | tuple[str, str]]) -> int:\n",
    "    memory = {}\n",
    "    mask = None\n",
    "\n",
    "    for item in data:\n",
    "        if item[0] == \"mem\":\n",
    "            assert mask is not None\n",
    "            address, value = item[1], item[2]\n",
    "            memory[address] = Mask(int_to_mask(int(value)))\n",
    "            memory[address].apply(mask)\n",
    "        elif item[0] == \"mask\":\n",
    "            mask = item[1]\n",
    "        else:\n",
    "            raise Exception(f\"Invalid command {item[0]}\")\n",
    "\n",
    "    return sum([int(str(item), 2) for item in memory.values()])"
   ],
   "metadata": {
    "collapsed": false
   }
  },
  {
   "cell_type": "code",
   "execution_count": null,
   "outputs": [],
   "source": [
    "%%ipytest\n",
    "def test_part_one():\n",
    "    assert part_one(parse_input(\"example1\")) == 165\n",
    "    assert part_one(parse_input(\"input\")) == 11926135976176"
   ],
   "metadata": {
    "collapsed": false
   }
  },
  {
   "cell_type": "markdown",
   "source": [
    "## Part 2\n",
    "Lorem ipsum"
   ],
   "metadata": {
    "collapsed": false
   }
  },
  {
   "cell_type": "code",
   "execution_count": null,
   "outputs": [],
   "source": [
    "def part_two(data: Any) -> int | str:\n",
    "    return 0x3f3f3f3f + 2"
   ],
   "metadata": {
    "collapsed": false
   }
  },
  {
   "cell_type": "code",
   "execution_count": null,
   "outputs": [],
   "source": [
    "%%ipytest\n",
    "def test_part_two():\n",
    "    assert part_two(parse_input(\"example1\")) == 0x3f3f3f3f + 2\n",
    "    assert part_two(parse_input(\"input\")) == 0x3f3f3f3f + 2"
   ],
   "metadata": {
    "collapsed": false
   }
  }
 ],
 "metadata": {
  "kernelspec": {
   "display_name": "Python 3 (ipykernel)",
   "language": "python",
   "name": "python3"
  },
  "language_info": {
   "codemirror_mode": {
    "name": "ipython",
    "version": 3
   },
   "file_extension": ".py",
   "mimetype": "text/x-python",
   "name": "python",
   "nbconvert_exporter": "python",
   "pygments_lexer": "ipython3",
   "version": "3.10.6"
  }
 },
 "nbformat": 4,
 "nbformat_minor": 1
}
