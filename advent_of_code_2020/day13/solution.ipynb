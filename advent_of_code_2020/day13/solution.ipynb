{
 "cells": [
  {
   "cell_type": "markdown",
   "source": [
    "# [Advent of Code 2020 Day 13](https://adventofcode.com/2020/day/13)\n",
    "\n",
    "More simulation perhaps? The `x`s scare me though. I am going to guess part 2 will involve simulating with bus lines would be optimal vs. part 1."
   ],
   "metadata": {
    "collapsed": false
   },
   "outputs": []
  },
  {
   "cell_type": "markdown",
   "source": [
    "## Initial setup"
   ],
   "metadata": {
    "collapsed": false
   }
  },
  {
   "cell_type": "code",
   "execution_count": 20,
   "metadata": {},
   "outputs": [],
   "source": [
    "import ipytest\n",
    "import sys\n",
    "sys.path.append(\"..\")\n",
    "from ansi import *\n",
    "from comp import *\n",
    "ipytest.autoconfig()"
   ]
  },
  {
   "cell_type": "markdown",
   "source": [
    "## Input Parsing"
   ],
   "metadata": {
    "collapsed": false
   }
  },
  {
   "cell_type": "code",
   "execution_count": 21,
   "outputs": [],
   "source": [
    "def parse_input(filename: str) -> Any:\n",
    "\n",
    "    gen = yield_line(filename)\n",
    "\n",
    "    earliest_time = int(next(gen))\n",
    "    ids = next(gen).split(\",\")\n",
    "\n",
    "    return earliest_time, ids"
   ],
   "metadata": {
    "collapsed": false
   }
  },
  {
   "cell_type": "markdown",
   "source": [
    "## Part 1\n",
    "Just a basic little brute-force algorithm... this surely won't come back to bite me in the ass... hehe..."
   ],
   "metadata": {
    "collapsed": false
   }
  },
  {
   "cell_type": "code",
   "execution_count": 22,
   "outputs": [],
   "source": [
    "def part_one(data: Any) -> int | str:\n",
    "    earliest_time, ids = data\n",
    "    best_time = math.inf\n",
    "    best_bus = math.inf\n",
    "    for bus_id in ids:\n",
    "        if bus_id == \"x\":\n",
    "            continue\n",
    "        bus = int(bus_id)\n",
    "        curr_time = 0\n",
    "        while curr_time < earliest_time:\n",
    "            curr_time += bus\n",
    "        if curr_time < best_time:\n",
    "            best_time = curr_time\n",
    "            best_bus = bus\n",
    "    return (best_time - earliest_time) * best_bus"
   ],
   "metadata": {
    "collapsed": false
   }
  },
  {
   "cell_type": "code",
   "execution_count": 23,
   "outputs": [
    {
     "name": "stdout",
     "output_type": "stream",
     "text": [
      "\u001B[32m.\u001B[0m\u001B[32m                                                                                            [100%]\u001B[0m\n",
      "\u001B[32m\u001B[32m\u001B[1m1 passed\u001B[0m\u001B[32m in 0.02s\u001B[0m\u001B[0m\n"
     ]
    }
   ],
   "source": [
    "%%ipytest\n",
    "def test_part_one():\n",
    "    assert part_one(parse_input(\"example1\")) == 295\n",
    "    assert part_one(parse_input(\"input\")) == 138"
   ],
   "metadata": {
    "collapsed": false
   }
  },
  {
   "cell_type": "markdown",
   "source": [
    "## Part 2\n",
    "I feel like there's some cool modular arithmetic solution to this... but idk. Maybe Chinese Remainder Theorem if anything."
   ],
   "metadata": {
    "collapsed": false
   }
  },
  {
   "cell_type": "code",
   "execution_count": 24,
   "outputs": [],
   "source": [
    "def part_two_preliminary(data: Any) -> int | str:\n",
    "    ids = data[1]  # we no longer need the first parameter\n",
    "\n",
    "    t = 0\n",
    "    displacement = {}\n",
    "\n",
    "    for bus_id in ids:\n",
    "        if bus_id == \"x\":\n",
    "            # Blank branch because either way we want to increment\n",
    "            pass\n",
    "        else:\n",
    "            displacement[int(bus_id)] = t\n",
    "        t += 1\n",
    "\n",
    "    timing = {key: 0 for key in sorted(displacement.keys())}\n",
    "    numeric_ids = [int(num) for num in ids if num.isdecimal()]\n",
    "\n",
    "    iterations = 0\n",
    "    while True and iterations < 100:\n",
    "        iterations += 1\n",
    "        last_timestamp = timing[numeric_ids[0]]\n",
    "        print(timing)\n",
    "        solved = True\n",
    "        for i in range(1, len(numeric_ids)):\n",
    "            if timing[numeric_ids[i]] - last_timestamp != displacement[numeric_ids[i]]:\n",
    "                solved = False\n",
    "                break\n",
    "        if solved:\n",
    "            return timing[numeric_ids[0]]\n",
    "        for bus_id in timing.keys():\n",
    "            timing[bus_id] += bus_id"
   ],
   "metadata": {
    "collapsed": false
   }
  },
  {
   "cell_type": "code",
   "execution_count": 25,
   "outputs": [
    {
     "name": "stdout",
     "output_type": "stream",
     "text": [
      "\u001B[31mF\u001B[0m\u001B[31m                                                                                            [100%]\u001B[0m\n",
      "============================================ FAILURES =============================================\n",
      "\u001B[31m\u001B[1m____________________________________ test_part_two_preliminary ____________________________________\u001B[0m\n",
      "\n",
      "    \u001B[94mdef\u001B[39;49;00m \u001B[92mtest_part_two_preliminary\u001B[39;49;00m():\n",
      ">       \u001B[94massert\u001B[39;49;00m part_two_preliminary(parse_input(\u001B[33m\"\u001B[39;49;00m\u001B[33mexample1\u001B[39;49;00m\u001B[33m\"\u001B[39;49;00m)) == \u001B[94m1068781\u001B[39;49;00m\n",
      "\u001B[1m\u001B[31mE       AssertionError: assert None == 1068781\u001B[0m\n",
      "\u001B[1m\u001B[31mE        +  where None = part_two_preliminary((939, ['7', '13', 'x', 'x', '59', 'x', ...]))\u001B[0m\n",
      "\u001B[1m\u001B[31mE        +    where (939, ['7', '13', 'x', 'x', '59', 'x', ...]) = parse_input('example1')\u001B[0m\n",
      "\n",
      "\u001B[1m\u001B[31mC:\\Users\\Jason\\AppData\\Local\\Temp\\ipykernel_44504\\3683703070.py\u001B[0m:2: AssertionError\n",
      "-------------------------------------- Captured stdout call ---------------------------------------\n",
      "{7: 0, 13: 0, 19: 0, 31: 0, 59: 0}\n",
      "{7: 7, 13: 13, 19: 19, 31: 31, 59: 59}\n",
      "{7: 14, 13: 26, 19: 38, 31: 62, 59: 118}\n",
      "{7: 21, 13: 39, 19: 57, 31: 93, 59: 177}\n",
      "{7: 28, 13: 52, 19: 76, 31: 124, 59: 236}\n",
      "{7: 35, 13: 65, 19: 95, 31: 155, 59: 295}\n",
      "{7: 42, 13: 78, 19: 114, 31: 186, 59: 354}\n",
      "{7: 49, 13: 91, 19: 133, 31: 217, 59: 413}\n",
      "{7: 56, 13: 104, 19: 152, 31: 248, 59: 472}\n",
      "{7: 63, 13: 117, 19: 171, 31: 279, 59: 531}\n",
      "{7: 70, 13: 130, 19: 190, 31: 310, 59: 590}\n",
      "{7: 77, 13: 143, 19: 209, 31: 341, 59: 649}\n",
      "{7: 84, 13: 156, 19: 228, 31: 372, 59: 708}\n",
      "{7: 91, 13: 169, 19: 247, 31: 403, 59: 767}\n",
      "{7: 98, 13: 182, 19: 266, 31: 434, 59: 826}\n",
      "{7: 105, 13: 195, 19: 285, 31: 465, 59: 885}\n",
      "{7: 112, 13: 208, 19: 304, 31: 496, 59: 944}\n",
      "{7: 119, 13: 221, 19: 323, 31: 527, 59: 1003}\n",
      "{7: 126, 13: 234, 19: 342, 31: 558, 59: 1062}\n",
      "{7: 133, 13: 247, 19: 361, 31: 589, 59: 1121}\n",
      "{7: 140, 13: 260, 19: 380, 31: 620, 59: 1180}\n",
      "{7: 147, 13: 273, 19: 399, 31: 651, 59: 1239}\n",
      "{7: 154, 13: 286, 19: 418, 31: 682, 59: 1298}\n",
      "{7: 161, 13: 299, 19: 437, 31: 713, 59: 1357}\n",
      "{7: 168, 13: 312, 19: 456, 31: 744, 59: 1416}\n",
      "{7: 175, 13: 325, 19: 475, 31: 775, 59: 1475}\n",
      "{7: 182, 13: 338, 19: 494, 31: 806, 59: 1534}\n",
      "{7: 189, 13: 351, 19: 513, 31: 837, 59: 1593}\n",
      "{7: 196, 13: 364, 19: 532, 31: 868, 59: 1652}\n",
      "{7: 203, 13: 377, 19: 551, 31: 899, 59: 1711}\n",
      "{7: 210, 13: 390, 19: 570, 31: 930, 59: 1770}\n",
      "{7: 217, 13: 403, 19: 589, 31: 961, 59: 1829}\n",
      "{7: 224, 13: 416, 19: 608, 31: 992, 59: 1888}\n",
      "{7: 231, 13: 429, 19: 627, 31: 1023, 59: 1947}\n",
      "{7: 238, 13: 442, 19: 646, 31: 1054, 59: 2006}\n",
      "{7: 245, 13: 455, 19: 665, 31: 1085, 59: 2065}\n",
      "{7: 252, 13: 468, 19: 684, 31: 1116, 59: 2124}\n",
      "{7: 259, 13: 481, 19: 703, 31: 1147, 59: 2183}\n",
      "{7: 266, 13: 494, 19: 722, 31: 1178, 59: 2242}\n",
      "{7: 273, 13: 507, 19: 741, 31: 1209, 59: 2301}\n",
      "{7: 280, 13: 520, 19: 760, 31: 1240, 59: 2360}\n",
      "{7: 287, 13: 533, 19: 779, 31: 1271, 59: 2419}\n",
      "{7: 294, 13: 546, 19: 798, 31: 1302, 59: 2478}\n",
      "{7: 301, 13: 559, 19: 817, 31: 1333, 59: 2537}\n",
      "{7: 308, 13: 572, 19: 836, 31: 1364, 59: 2596}\n",
      "{7: 315, 13: 585, 19: 855, 31: 1395, 59: 2655}\n",
      "{7: 322, 13: 598, 19: 874, 31: 1426, 59: 2714}\n",
      "{7: 329, 13: 611, 19: 893, 31: 1457, 59: 2773}\n",
      "{7: 336, 13: 624, 19: 912, 31: 1488, 59: 2832}\n",
      "{7: 343, 13: 637, 19: 931, 31: 1519, 59: 2891}\n",
      "{7: 350, 13: 650, 19: 950, 31: 1550, 59: 2950}\n",
      "{7: 357, 13: 663, 19: 969, 31: 1581, 59: 3009}\n",
      "{7: 364, 13: 676, 19: 988, 31: 1612, 59: 3068}\n",
      "{7: 371, 13: 689, 19: 1007, 31: 1643, 59: 3127}\n",
      "{7: 378, 13: 702, 19: 1026, 31: 1674, 59: 3186}\n",
      "{7: 385, 13: 715, 19: 1045, 31: 1705, 59: 3245}\n",
      "{7: 392, 13: 728, 19: 1064, 31: 1736, 59: 3304}\n",
      "{7: 399, 13: 741, 19: 1083, 31: 1767, 59: 3363}\n",
      "{7: 406, 13: 754, 19: 1102, 31: 1798, 59: 3422}\n",
      "{7: 413, 13: 767, 19: 1121, 31: 1829, 59: 3481}\n",
      "{7: 420, 13: 780, 19: 1140, 31: 1860, 59: 3540}\n",
      "{7: 427, 13: 793, 19: 1159, 31: 1891, 59: 3599}\n",
      "{7: 434, 13: 806, 19: 1178, 31: 1922, 59: 3658}\n",
      "{7: 441, 13: 819, 19: 1197, 31: 1953, 59: 3717}\n",
      "{7: 448, 13: 832, 19: 1216, 31: 1984, 59: 3776}\n",
      "{7: 455, 13: 845, 19: 1235, 31: 2015, 59: 3835}\n",
      "{7: 462, 13: 858, 19: 1254, 31: 2046, 59: 3894}\n",
      "{7: 469, 13: 871, 19: 1273, 31: 2077, 59: 3953}\n",
      "{7: 476, 13: 884, 19: 1292, 31: 2108, 59: 4012}\n",
      "{7: 483, 13: 897, 19: 1311, 31: 2139, 59: 4071}\n",
      "{7: 490, 13: 910, 19: 1330, 31: 2170, 59: 4130}\n",
      "{7: 497, 13: 923, 19: 1349, 31: 2201, 59: 4189}\n",
      "{7: 504, 13: 936, 19: 1368, 31: 2232, 59: 4248}\n",
      "{7: 511, 13: 949, 19: 1387, 31: 2263, 59: 4307}\n",
      "{7: 518, 13: 962, 19: 1406, 31: 2294, 59: 4366}\n",
      "{7: 525, 13: 975, 19: 1425, 31: 2325, 59: 4425}\n",
      "{7: 532, 13: 988, 19: 1444, 31: 2356, 59: 4484}\n",
      "{7: 539, 13: 1001, 19: 1463, 31: 2387, 59: 4543}\n",
      "{7: 546, 13: 1014, 19: 1482, 31: 2418, 59: 4602}\n",
      "{7: 553, 13: 1027, 19: 1501, 31: 2449, 59: 4661}\n",
      "{7: 560, 13: 1040, 19: 1520, 31: 2480, 59: 4720}\n",
      "{7: 567, 13: 1053, 19: 1539, 31: 2511, 59: 4779}\n",
      "{7: 574, 13: 1066, 19: 1558, 31: 2542, 59: 4838}\n",
      "{7: 581, 13: 1079, 19: 1577, 31: 2573, 59: 4897}\n",
      "{7: 588, 13: 1092, 19: 1596, 31: 2604, 59: 4956}\n",
      "{7: 595, 13: 1105, 19: 1615, 31: 2635, 59: 5015}\n",
      "{7: 602, 13: 1118, 19: 1634, 31: 2666, 59: 5074}\n",
      "{7: 609, 13: 1131, 19: 1653, 31: 2697, 59: 5133}\n",
      "{7: 616, 13: 1144, 19: 1672, 31: 2728, 59: 5192}\n",
      "{7: 623, 13: 1157, 19: 1691, 31: 2759, 59: 5251}\n",
      "{7: 630, 13: 1170, 19: 1710, 31: 2790, 59: 5310}\n",
      "{7: 637, 13: 1183, 19: 1729, 31: 2821, 59: 5369}\n",
      "{7: 644, 13: 1196, 19: 1748, 31: 2852, 59: 5428}\n",
      "{7: 651, 13: 1209, 19: 1767, 31: 2883, 59: 5487}\n",
      "{7: 658, 13: 1222, 19: 1786, 31: 2914, 59: 5546}\n",
      "{7: 665, 13: 1235, 19: 1805, 31: 2945, 59: 5605}\n",
      "{7: 672, 13: 1248, 19: 1824, 31: 2976, 59: 5664}\n",
      "{7: 679, 13: 1261, 19: 1843, 31: 3007, 59: 5723}\n",
      "{7: 686, 13: 1274, 19: 1862, 31: 3038, 59: 5782}\n",
      "{7: 693, 13: 1287, 19: 1881, 31: 3069, 59: 5841}\n",
      "===================================== short test summary info =====================================\n",
      "FAILED tmpdy8ow_ct.py::test_part_two_preliminary - AssertionError: assert None == 1068781\n",
      "\u001B[31m\u001B[31m\u001B[1m1 failed\u001B[0m\u001B[31m in 0.01s\u001B[0m\u001B[0m\n"
     ]
    }
   ],
   "source": [
    "%%ipytest\n",
    "def test_part_two_preliminary():\n",
    "    assert part_two_preliminary(parse_input(\"example1\")) == 1068781\n",
    "    #assert part_two_preliminary(parse_input(\"input\")) == 0x3f3f3f3f + 2"
   ],
   "metadata": {
    "collapsed": false
   }
  },
  {
   "cell_type": "markdown",
   "source": [
    "Yeah, this isn't going anywhere. I'm going to have to rethink this... first, I think I'm going to make a function that determines if a certain bus can stop at a certain timestamp.\n",
    "\n",
    "How about this: find the largest bus ID (in the example, it's 59). Because it's the largest, we know that it will be the weakest link when it comes to \"aligning\" at a certain time (a bus ID, 2, in another case, would satisfy every other timestamp - but 59 is an extremely fickle number and would only satisfy every 59 timestamps). Then, at every step of the highest bus ID, we check whether every other bus can exist at their offsets. This would involve \"reshaping\" the displacement array as follows.\n",
    "\n",
    "At first, we see the following displacements:\n",
    "- Bus 7 would depart at some arbitrary timestamp `t`\n",
    "- Bus 13 departs at some timestamp `t + 1`\n",
    "- Bus 59 would depart at some timestamp `t + 4` (because there are two `x`s between 13 and 59 that have no restrictions)\n",
    "- Bus 31 would depart at some timestamp `t + 6` (because there is a single `x` before 31)\n",
    "- Bus 19 would depart at some timestamp `t + 7`\n",
    "\n",
    "Once we determine bus ID 59 to be the desired bus to \"jump\", we would re-center the displacement array as:\n",
    "- Bus 7 would depart at some arbitrary timestamp `t - 4`\n",
    "- Bus 13 would depart at some timestamp `t - 3`\n",
    "- Bus 59 would depart at some timestamp `t`\n",
    "- Bus 31 would depart at some timestamp `t + 2`\n",
    "- Bus 19 would depart at some timestamp `t + 3`\n",
    "\n",
    "Starting off at timestamp `t`, we check the modified displacement array. So, we check:\n",
    "- For bus 7, whether `t - 4 % 7 == 0`\n",
    "- For bus 13, whether `t - 3 % 13 == 0`\n",
    "- ...\n",
    "- For bus 19, whether `t + 3 % 19 == 0`\n",
    "\n",
    "Then if it returns true for all of them, then we return the answer. Otherwise, we continually add 59 to `t`, because we know that's the weakest link.\n",
    "\n",
    "This is still somewhat brute force, but it'll definitely get my head in the right mindset if I need to apply Chinese Remainder Theorem after. Let's make the function!"
   ],
   "metadata": {
    "collapsed": false
   }
  },
  {
   "cell_type": "code",
   "execution_count": 26,
   "outputs": [],
   "source": [
    "def normalize_displacement(displacement: dict[int, int]) -> dict[int, int]:\n",
    "    \"\"\"\n",
    "    Takes a displacement array and returns the biggest bus ID as well as a dictionary that's normalized w.r.t. the biggest bus ID.\n",
    "    :param displacement: dictionary containing displacements for bus IDs. Bus ID b is keyed to an integer value d, such that bus b must depart at timestamp t + d\n",
    "    :return: a tuple containing the maximum element, and the normalized displacement dictionary\n",
    "    \"\"\"\n",
    "    new_displacement = {key: value for key, value in displacement.items()}\n",
    "    largest_bus_id = max(new_displacement.keys())\n",
    "    largest_bus_id_original_displacement = new_displacement[largest_bus_id]\n",
    "\n",
    "    for key in new_displacement.keys():\n",
    "        new_displacement[key] -= largest_bus_id_original_displacement\n",
    "\n",
    "    return new_displacement"
   ],
   "metadata": {
    "collapsed": false
   }
  },
  {
   "cell_type": "code",
   "execution_count": 27,
   "outputs": [
    {
     "name": "stdout",
     "output_type": "stream",
     "text": [
      "\u001B[32m.\u001B[0m\u001B[32m                                                                                            [100%]\u001B[0m\n",
      "\u001B[32m\u001B[32m\u001B[1m1 passed\u001B[0m\u001B[32m in 0.01s\u001B[0m\u001B[0m\n"
     ]
    }
   ],
   "source": [
    "%%ipytest\n",
    "def test_normalize_displacement():\n",
    "    assert normalize_displacement({7: 0, 13: 1, 59: 4, 31: 6, 19: 7}) == {7: -4, 13: -3, 59: 0, 31: 2, 19: 3}"
   ],
   "metadata": {
    "collapsed": false
   }
  },
  {
   "cell_type": "markdown",
   "source": [
    "Now to make the actual function."
   ],
   "metadata": {
    "collapsed": false
   }
  },
  {
   "cell_type": "code",
   "execution_count": 28,
   "outputs": [],
   "source": [
    "def part_two_modular(data: Any) -> int | str:\n",
    "    ids: list[int | str] = data[1]  # we no longer need the first parameter\n",
    "\n",
    "    t: int = 0\n",
    "    displacement: dict[int, int] = {}\n",
    "\n",
    "    for bus_id in ids:\n",
    "        if bus_id == \"x\":\n",
    "            # Blank branch because either way we want to increment\n",
    "            pass\n",
    "        else:\n",
    "            displacement[int(bus_id)] = t\n",
    "        t += 1\n",
    "\n",
    "    smallest_id: int = min(displacement.keys())\n",
    "    largest_id: int = max(displacement.keys())\n",
    "\n",
    "    normalized_displacement: dict[int, int] = normalize_displacement(displacement)\n",
    "\n",
    "    numeric_ids: list[int] = sorted([int(num) for num in ids if num.isdecimal()])\n",
    "\n",
    "    t = 0\n",
    "\n",
    "    while True:\n",
    "        solved = True\n",
    "        for bus_id in numeric_ids:\n",
    "            if (t + normalized_displacement[bus_id]) % bus_id != 0:\n",
    "                solved = False\n",
    "                break\n",
    "        if solved:\n",
    "            return t + normalized_displacement[smallest_id]\n",
    "        t += largest_id"
   ],
   "metadata": {
    "collapsed": false
   }
  },
  {
   "cell_type": "code",
   "execution_count": 29,
   "outputs": [
    {
     "name": "stdout",
     "output_type": "stream",
     "text": [
      "\u001B[32m.\u001B[0m\u001B[32m                                                                                            [100%]\u001B[0m\n",
      "\u001B[32m\u001B[32m\u001B[1m1 passed\u001B[0m\u001B[32m in 0.01s\u001B[0m\u001B[0m\n"
     ]
    }
   ],
   "source": [
    "%%ipytest\n",
    "def test_part_two_modular():\n",
    "    assert part_two_modular(parse_input(\"example1\")) == 1068781\n",
    "    # assert part_two_modular(parse_input(\"input\")) == 0x3f3f3f3f + 2"
   ],
   "metadata": {
    "collapsed": false
   }
  },
  {
   "cell_type": "markdown",
   "source": [
    "Alas... it was as I expected. I was able to solve the example case, but I knew for a fact that I'd TLE for the actual input. I mean, for such a small input, 1068781 is a huge result."
   ],
   "metadata": {
    "collapsed": false
   }
  },
  {
   "cell_type": "markdown",
   "source": [
    "### The Chinese Remainder Theorem\n",
    "Those who have taken CIS\\*4520 Introduction to Cryptography at the University of Guelph will know this well. :)\n",
    "\n",
    "It states, according to Wikipedia:\n",
    "> If one knows the remainders of the Euclidean division of an integer $n$ by several integers, then one can determine, _uniquely_, the remainder of the division of $n$ by the product of these integers, under the condition that the divisors are _pairwise co-prime_ (i.e., no two divisors share a common factor other than 1).\n",
    "\n",
    "> The Chinese Remainder Theorem is widely used for computing with large integers, as it allows **replacing a computation for which one knows a bound on the size of the result by several similar computations on small integers**\n",
    "\n",
    "Nice! Thanks Obimbo.\n",
    "\n",
    "An example of this problem is the linear system:\n",
    "$x \\equiv 3\\ (mod\\ 5)$\n",
    "$x \\equiv 1\\ (mod\\ 7)$\n",
    "$x \\equiv 6\\ (mod\\ 8)$\n",
    "\n",
    "Here we are looking for, respectively, the value of 3 in the system of integers modulo 5 (in this system we map an arbitrary integer $n$ into the system of integers modulo 5 by applying the mod operation), the value of 1 in the system of integers mod 7, and the value of 6 in the system of integers mod 8, mapped from a single value $x$.\n",
    "\n",
    "For this example in particular, the answer is 78, because:\n",
    "$78\\ mod\\ 5 \\equiv 3$\n",
    "$78\\ mod\\ 7 \\equiv 7$\n",
    "$78\\ mod\\ 6 \\equiv 8$\n",
    "\n",
    "The answer 78 is given in the system of integers modulo $(5*7*8)$ or $280$.\n",
    "\n",
    "Looking back at our example:\n",
    "- Bus 7 would depart at some arbitrary timestamp `t`\n",
    "- Bus 13 departs at some timestamp `t + 1`\n",
    "- Bus 59 would depart at some timestamp `t + 4` (because there are two `x`s between 13 and 59 that have no restrictions)\n",
    "- Bus 31 would depart at some timestamp `t + 6` (because there is a single `x` before 31)\n",
    "- Bus 19 would depart at some timestamp `t + 7`\n",
    "\n",
    "We can actually model this in the form of the Chinese Remainder Theorem:\n",
    "$t \\equiv 0\\ (mod\\ 7)$\n",
    "$t \\equiv 1\\ (mod\\ 13)$\n",
    "$t \\equiv 4\\ (mod\\ 59)$\n",
    "$t \\equiv 6\\ (mod\\ 31)$\n",
    "$t \\equiv 7\\ (mod\\ 19)$\n",
    "because we don't actually care about the value of $t$ - we care about the displacements; in other words - the remainder! And each bus exists in the system of integers modulo its ID; so we are looking for timestamp $t$ for bus 7 such that it is value 0 in the system of integers modulo 7; and this $t$ must also be the value 1 in the system of integers modulo 13 for bus 13, etc... and the answer is $1068788\\ (mod\\ 3162341)$.\n",
    "\n",
    "...it all makes sense now. But how do we codify this?\n",
    "\n",
    "(...this is the part where I watch Neso Academy and hope things work out...)\n",
    "\n",
    "OK, I don't understand why it works, but I understand the algorithm from [here](https://www.math.cmu.edu/~mradclif/teaching/127S19/Notes/ChineseRemainderTheorem.pdf). Time to bullshit a function copying it. First I'll make a function that implements the modular multiplicative inverse (in a brute-force manner, just so I can wrap my mind around this whole CRT thing)."
   ],
   "metadata": {
    "collapsed": false
   }
  },
  {
   "cell_type": "code",
   "execution_count": 30,
   "outputs": [],
   "source": [
    "def mod_inverse(value: int, modulo: int) -> int:\n",
    "    attempt: int = value\n",
    "    times: int = 1\n",
    "    while attempt % modulo != 1:\n",
    "        times += 1\n",
    "        attempt += value\n",
    "    return times"
   ],
   "metadata": {
    "collapsed": false
   }
  },
  {
   "cell_type": "code",
   "execution_count": 31,
   "outputs": [
    {
     "name": "stdout",
     "output_type": "stream",
     "text": [
      "\u001B[32m.\u001B[0m\u001B[32m                                                                                            [100%]\u001B[0m\n",
      "\u001B[32m\u001B[32m\u001B[1m1 passed\u001B[0m\u001B[32m in 0.01s\u001B[0m\u001B[0m\n"
     ]
    }
   ],
   "source": [
    "%%ipytest\n",
    "def test_mod_inverse():\n",
    "    assert mod_inverse(77, 5) == 3\n",
    "    assert mod_inverse(55, 7) == 6\n",
    "    assert mod_inverse(35, 11) == 6"
   ],
   "metadata": {
    "collapsed": false
   }
  },
  {
   "cell_type": "code",
   "execution_count": 32,
   "outputs": [],
   "source": [
    "def crt(rules: list[tuple[int, int]]) -> int:\n",
    "    \"\"\"\n",
    "    Takes multiple rules for i 1..n of the form (a_i, b_i) such that each rule forms:\n",
    "      x = a_1 (mod b_1)\n",
    "      x = a_2 (mod b_2)\n",
    "      ...\n",
    "      x = a_n (mod b_n)\n",
    "    :param rules: an array of rules of the form (a, b) for CRT\n",
    "    :return: the answer to CRT, modulo (b_1 * b_2 * ... * b_n)\n",
    "    \"\"\"\n",
    "    answer_mod: int = 1\n",
    "    for value, modulo in rules:\n",
    "        answer_mod *= modulo\n",
    "\n",
    "    bezouts: list[int] = []\n",
    "    for value, modulo in rules:\n",
    "        bezouts.append(answer_mod // modulo)\n",
    "\n",
    "    inverses: list[int] = []\n",
    "    for i in range(len(rules)):\n",
    "        inverses.append(mod_inverse(bezouts[i], rules[i][1]))\n",
    "\n",
    "    answer = 0\n",
    "\n",
    "    for i in range(len(rules)):\n",
    "        answer += inverses[i] * rules[i][0] * bezouts[i]\n",
    "\n",
    "    return answer % answer_mod"
   ],
   "metadata": {
    "collapsed": false
   }
  },
  {
   "cell_type": "code",
   "execution_count": 33,
   "outputs": [
    {
     "name": "stdout",
     "output_type": "stream",
     "text": [
      "\u001B[31mF\u001B[0m\u001B[31m                                                                                            [100%]\u001B[0m\n",
      "============================================ FAILURES =============================================\n",
      "\u001B[31m\u001B[1m____________________________________________ test_crt _____________________________________________\u001B[0m\n",
      "\n",
      "    \u001B[94mdef\u001B[39;49;00m \u001B[92mtest_crt\u001B[39;49;00m():\n",
      "        \u001B[94massert\u001B[39;49;00m crt(\n",
      "            [\n",
      "                (\u001B[94m2\u001B[39;49;00m, \u001B[94m5\u001B[39;49;00m),\n",
      "                (\u001B[94m3\u001B[39;49;00m, \u001B[94m7\u001B[39;49;00m),\n",
      "                (\u001B[94m10\u001B[39;49;00m, \u001B[94m11\u001B[39;49;00m),\n",
      "            ]\n",
      "        ) == \u001B[94m87\u001B[39;49;00m \u001B[90m# (mod 385)\u001B[39;49;00m\n",
      "        \u001B[94massert\u001B[39;49;00m crt(\n",
      "            [\n",
      "                (\u001B[94m2\u001B[39;49;00m, \u001B[94m5\u001B[39;49;00m),\n",
      "                (\u001B[94m3\u001B[39;49;00m, \u001B[94m7\u001B[39;49;00m),\n",
      "            ]\n",
      "        ) == \u001B[94m17\u001B[39;49;00m \u001B[90m# (mod 35)\u001B[39;49;00m\n",
      ">       \u001B[94massert\u001B[39;49;00m crt(\n",
      "            [\n",
      "                (\u001B[94m0\u001B[39;49;00m, \u001B[94m7\u001B[39;49;00m),\n",
      "                (\u001B[94m1\u001B[39;49;00m, \u001B[94m13\u001B[39;49;00m),\n",
      "                (\u001B[94m4\u001B[39;49;00m, \u001B[94m59\u001B[39;49;00m),\n",
      "                (\u001B[94m6\u001B[39;49;00m, \u001B[94m31\u001B[39;49;00m),\n",
      "                (\u001B[94m7\u001B[39;49;00m, \u001B[94m19\u001B[39;49;00m),\n",
      "            ]\n",
      "        ) == \u001B[94m1068788\u001B[39;49;00m \u001B[90m# (mod 3162341)\u001B[39;49;00m\n",
      "\u001B[1m\u001B[31mE       assert 2093560 == 1068788\u001B[0m\n",
      "\u001B[1m\u001B[31mE        +  where 2093560 = crt([(0, 7), (1, 13), (4, 59), (6, 31), (7, 19)])\u001B[0m\n",
      "\n",
      "\u001B[1m\u001B[31mC:\\Users\\Jason\\AppData\\Local\\Temp\\ipykernel_44504\\2175785668.py\u001B[0m:15: AssertionError\n",
      "===================================== short test summary info =====================================\n",
      "FAILED tmp0_o3p9we.py::test_crt - assert 2093560 == 1068788\n",
      "\u001B[31m\u001B[31m\u001B[1m1 failed\u001B[0m\u001B[31m in 0.01s\u001B[0m\u001B[0m\n"
     ]
    }
   ],
   "source": [
    "%%ipytest\n",
    "def test_crt():\n",
    "    assert crt(\n",
    "        [\n",
    "            (2, 5),\n",
    "            (3, 7),\n",
    "            (10, 11),\n",
    "        ]\n",
    "    ) == 87 # (mod 385)\n",
    "    assert crt(\n",
    "        [\n",
    "            (2, 5),\n",
    "            (3, 7),\n",
    "        ]\n",
    "    ) == 17 # (mod 35)\n",
    "    assert crt(\n",
    "        [\n",
    "            (0, 7),\n",
    "            (1, 13),\n",
    "            (4, 59),\n",
    "            (6, 31),\n",
    "            (7, 19),\n",
    "        ]\n",
    "    ) == 1068788 # (mod 3162341)"
   ],
   "metadata": {
    "collapsed": false
   }
  },
  {
   "cell_type": "markdown",
   "source": [
    "Hmm... that's strange. The CRT examples work, but when I use the AoC example input it completely flops. My answer was $2093560$ when AoC expected $1068788$. Let's see why:\n",
    "$2093560\\ mod\\ 7 = 0$\n",
    "$2093560\\ mod\\ 13 = 1$\n",
    "$2093560\\ mod\\ 59 = 4$\n",
    "$2093560\\ mod\\ 31 = 6$\n",
    "$2093560\\ mod\\ 19 = 7$\n",
    "now let's look at AoC's answer:\n",
    "$1068788\\ mod\\ 7 = 0$\n",
    "$1068788\\ mod\\ 13 = 6$\n",
    "$1068788\\ mod\\ 59 = 3$\n",
    "$1068788\\ mod\\ 31 = 1$\n",
    "$1068788\\ mod\\ 19 = 0$\n",
    "unfortunately I can't find any immediate pattern... except!\n",
    "$1068788 + 0\\ mod\\ 7 = 0$\n",
    "$1068788 + 1\\ mod\\ 13 = 0$\n",
    "$1068788 + 4\\ mod\\ 59 = 0$\n",
    "$1068788 + 6\\ mod\\ 31 = 0$\n",
    "$1068788 + 7\\ mod\\ 19 = 0$\n",
    "it appears I forgot to displace the numbers from their respective starts properly. But how do I do this?\n",
    "\n",
    "...wait I'm an idiot...the function is correct (I verified the output 2093560 online in a CRT calculator, and it's correct)...I was misinterpreting the results.\n",
    "\n",
    "You see, the numbers go backwards. I was trying to add to get the modulo to return 0, when in reality I should have been subtracting.\n",
    "$(2093560 - 0)\\ mod\\ 7 = 0$\n",
    "$(2093560 - 1)\\ mod\\ 13 = 0$\n",
    "$(2093560 - 4)\\ mod\\ 59 = 0$\n",
    "$(2093560 - 6)\\ mod\\ 31 = 0$\n",
    "$(2093560 - 7)\\ mod\\ 19 = 0$\n",
    "\n",
    "This means the answer to the AoC is not actually CRT, but the subtraction of it from the modulus. The answer is modulo $31623414$, and $3162341-2093560=1068781$ which is the answer all along."
   ],
   "metadata": {
    "collapsed": false
   }
  },
  {
   "cell_type": "code",
   "execution_count": 34,
   "outputs": [],
   "source": [
    "def crt_but_built_different(rules: list[tuple[int, int]]) -> int:\n",
    "    \"\"\"\n",
    "    Takes multiple rules for i 1..n of the form (a_i, b_i) such that each rule forms:\n",
    "      x = a_1 (mod b_1)\n",
    "      x = a_2 (mod b_2)\n",
    "      ...\n",
    "      x = a_n (mod b_n)\n",
    "    :param rules: an array of rules of the form (a, b) for CRT\n",
    "    :return: the answer to CRT, modulo (b_1 * b_2 * ... * b_n)\n",
    "    \"\"\"\n",
    "    answer_mod: int = 1\n",
    "    for value, modulo in rules:\n",
    "        answer_mod *= modulo\n",
    "\n",
    "    bezouts: list[int] = []\n",
    "    for value, modulo in rules:\n",
    "        bezouts.append(answer_mod // modulo)\n",
    "\n",
    "    inverses: list[int] = []\n",
    "    for i in range(len(rules)):\n",
    "        inverses.append(mod_inverse(bezouts[i], rules[i][1]))\n",
    "\n",
    "    answer = 0\n",
    "\n",
    "    for i in range(len(rules)):\n",
    "        answer += inverses[i] * rules[i][0] * bezouts[i]\n",
    "\n",
    "    return answer_mod - (answer % answer_mod)"
   ],
   "metadata": {
    "collapsed": false
   }
  },
  {
   "cell_type": "code",
   "execution_count": 35,
   "outputs": [
    {
     "name": "stdout",
     "output_type": "stream",
     "text": [
      "\u001B[32m.\u001B[0m\u001B[32m                                                                                            [100%]\u001B[0m\n",
      "\u001B[32m\u001B[32m\u001B[1m1 passed\u001B[0m\u001B[32m in 0.01s\u001B[0m\u001B[0m\n"
     ]
    }
   ],
   "source": [
    "%%ipytest\n",
    "def test_crt_but_built_different():\n",
    "    assert crt_but_built_different(\n",
    "        [\n",
    "            (0, 7),\n",
    "            (1, 13),\n",
    "            (4, 59),\n",
    "            (6, 31),\n",
    "            (7, 19),\n",
    "        ]\n",
    "    ) == 1068781 # (mod 3162341)"
   ],
   "metadata": {
    "collapsed": false
   }
  },
  {
   "cell_type": "code",
   "execution_count": 36,
   "outputs": [],
   "source": [
    "def part_two_but_built_different(data: Any) -> int | str:\n",
    "    ids: list[int | str] = data[1]  # we no longer need the first parameter\n",
    "\n",
    "    t: int = 0\n",
    "    displacement: dict[int, int] = {}\n",
    "\n",
    "    for bus_id in ids:\n",
    "        if bus_id == \"x\":\n",
    "            # Blank branch because either way we want to increment\n",
    "            pass\n",
    "        else:\n",
    "            displacement[int(bus_id)] = t\n",
    "        t += 1\n",
    "\n",
    "    rules = [(modulo, value) for value, modulo in displacement.items()]\n",
    "\n",
    "    return crt_but_built_different(rules)"
   ],
   "metadata": {
    "collapsed": false
   }
  },
  {
   "cell_type": "markdown",
   "source": [
    "OK, I'm feeling pretty confident about this. Luckily the page also gives 5 other examples. Let's see if that works:"
   ],
   "metadata": {
    "collapsed": false
   }
  },
  {
   "cell_type": "code",
   "execution_count": 37,
   "outputs": [
    {
     "name": "stdout",
     "output_type": "stream",
     "text": [
      "\u001B[32m.\u001B[0m\u001B[32m                                                                                            [100%]\u001B[0m\n",
      "\u001B[32m\u001B[32m\u001B[1m1 passed\u001B[0m\u001B[32m in 0.01s\u001B[0m\u001B[0m\n"
     ]
    }
   ],
   "source": [
    "%%ipytest\n",
    "def test_part_two_but_built_different():\n",
    "    assert part_two_but_built_different(parse_input(\"example1\")) == 1068781\n",
    "    assert part_two_but_built_different((None, \"17,x,13,19\".split(\",\"))) == 3417\n",
    "    assert part_two_but_built_different((None, \"67,7,59,61\".split(\",\"))) == 754018\n",
    "    assert part_two_but_built_different((None, \"67,x,7,59,61\".split(\",\"))) == 779210\n",
    "    assert part_two_but_built_different((None, \"67,7,x,59,61\".split(\",\"))) == 1261476\n",
    "    assert part_two_but_built_different((None, \"1789,37,47,1889\".split(\",\"))) == 1202161486"
   ],
   "metadata": {
    "collapsed": false
   }
  },
  {
   "cell_type": "markdown",
   "source": [
    "Hooooooooh boy I'm excited. I think this might be it."
   ],
   "metadata": {
    "collapsed": false
   }
  },
  {
   "cell_type": "code",
   "execution_count": 38,
   "outputs": [
    {
     "name": "stdout",
     "output_type": "stream",
     "text": [
      "\u001B[32m.\u001B[0m\u001B[32m                                                                                            [100%]\u001B[0m\n",
      "\u001B[32m\u001B[32m\u001B[1m1 passed\u001B[0m\u001B[32m in 0.00s\u001B[0m\u001B[0m\n"
     ]
    }
   ],
   "source": [
    "%%ipytest\n",
    "def test_the_ultimate_input():\n",
    "    assert part_two_but_built_different(parse_input(\"input\")) == 226845233210288"
   ],
   "metadata": {
    "collapsed": false
   }
  },
  {
   "cell_type": "markdown",
   "source": [
    "LFG!!!!! WOOOOOOO\n",
    "\n",
    "It appears I made the same mistake as `danvk` [on GitHub](https://github.com/danvk/aoc2020):\n",
    "\n",
    "> but the solution was 1068781. I noticed that this was close to the difference of those two numbers, so I tried it… and 3162341 - 2093560 = 1068781! So I tried this on the big problem and it worked.\n",
    ">\n",
    "> Looking back at this, I had the congruences messed up. If you want bus 19 to show up one timestamp after bus 7, then you need n + 1 = 0 (mod 19), not n = 1 (mod 19). That explains why I had the answer exactly backwards! My solution did work, I was just solving the wrong problem. In retrospect, writing more tests on small inputs would have helped me find this.\n",
    ">\n",
    "> There are very efficient ways to calculate the multiplicative inverse of a number mod a prime, but my brute force solution worked fine in practice.\n",
    ">\n",
    "> Apparently this problem is just the Chinese Remainder Theorem. One other wrinkle that tripped me up: because of the way the problem is constructed, sometimes the residue was larger than the prime. So you have to do some addition / modulus in the problem setup, too."
   ],
   "metadata": {
    "collapsed": false
   }
  }
 ],
 "metadata": {
  "kernelspec": {
   "display_name": "Python 3 (ipykernel)",
   "language": "python",
   "name": "python3"
  },
  "language_info": {
   "codemirror_mode": {
    "name": "ipython",
    "version": 3
   },
   "file_extension": ".py",
   "mimetype": "text/x-python",
   "name": "python",
   "nbconvert_exporter": "python",
   "pygments_lexer": "ipython3",
   "version": "3.10.6"
  }
 },
 "nbformat": 4,
 "nbformat_minor": 1
}
