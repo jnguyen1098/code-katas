{
 "cells": [
  {
   "cell_type": "markdown",
   "source": [
    "# [Advent of Code 2020 Day 13](https://adventofcode.com/2020/day/13)\n",
    "\n",
    "More simulation perhaps? The `x`s scare me though. I am going to guess part 2 will involve simulating with bus lines would be optimal vs. part 1."
   ],
   "metadata": {
    "collapsed": false
   },
   "outputs": []
  },
  {
   "cell_type": "markdown",
   "source": [
    "## Initial setup"
   ],
   "metadata": {
    "collapsed": false
   }
  },
  {
   "cell_type": "code",
   "execution_count": 79,
   "metadata": {},
   "outputs": [],
   "source": [
    "import ipytest\n",
    "import sys\n",
    "sys.path.append(\"..\")\n",
    "from ansi import *\n",
    "from comp import *\n",
    "ipytest.autoconfig()"
   ]
  },
  {
   "cell_type": "markdown",
   "source": [
    "## Input Parsing"
   ],
   "metadata": {
    "collapsed": false
   }
  },
  {
   "cell_type": "code",
   "execution_count": 80,
   "outputs": [],
   "source": [
    "def parse_input(filename: str) -> Any:\n",
    "\n",
    "    gen = yield_line(filename)\n",
    "\n",
    "    earliest_time = int(next(gen))\n",
    "    ids = next(gen).split(\",\")\n",
    "\n",
    "    return earliest_time, ids"
   ],
   "metadata": {
    "collapsed": false
   }
  },
  {
   "cell_type": "markdown",
   "source": [
    "## Part 1\n",
    "Lorem ipsum"
   ],
   "metadata": {
    "collapsed": false
   }
  },
  {
   "cell_type": "code",
   "execution_count": 81,
   "outputs": [],
   "source": [
    "def part_one(data: Any) -> int | str:\n",
    "    earliest_time, ids = data\n",
    "    best_time = math.inf\n",
    "    best_bus = math.inf\n",
    "    for bus_id in ids:\n",
    "        if bus_id == \"x\":\n",
    "            continue\n",
    "        bus = int(bus_id)\n",
    "        curr_time = 0\n",
    "        while curr_time < earliest_time:\n",
    "            curr_time += bus\n",
    "        if curr_time < best_time:\n",
    "            best_time = curr_time\n",
    "            best_bus = bus\n",
    "    return (best_time - earliest_time) * best_bus"
   ],
   "metadata": {
    "collapsed": false
   }
  },
  {
   "cell_type": "code",
   "execution_count": 82,
   "outputs": [
    {
     "name": "stdout",
     "output_type": "stream",
     "text": [
      "\u001B[32m.\u001B[0m\u001B[32m                                                                                            [100%]\u001B[0m\n",
      "\u001B[32m\u001B[32m\u001B[1m1 passed\u001B[0m\u001B[32m in 0.02s\u001B[0m\u001B[0m\n"
     ]
    }
   ],
   "source": [
    "%%ipytest\n",
    "def test_part_one():\n",
    "    assert part_one(parse_input(\"example1\")) == 295\n",
    "    assert part_one(parse_input(\"input\")) == 138"
   ],
   "metadata": {
    "collapsed": false
   }
  },
  {
   "cell_type": "markdown",
   "source": [
    "## Part 2\n",
    "Lorem ipsum"
   ],
   "metadata": {
    "collapsed": false
   }
  },
  {
   "cell_type": "code",
   "execution_count": 83,
   "outputs": [],
   "source": [
    "def part_two(data: Any) -> int | str:\n",
    "    return 0x3f3f3f3f + 2"
   ],
   "metadata": {
    "collapsed": false
   }
  },
  {
   "cell_type": "code",
   "execution_count": 84,
   "outputs": [
    {
     "name": "stdout",
     "output_type": "stream",
     "text": [
      "\u001B[32m.\u001B[0m\u001B[32m                                                                                            [100%]\u001B[0m\n",
      "\u001B[32m\u001B[32m\u001B[1m1 passed\u001B[0m\u001B[32m in 0.01s\u001B[0m\u001B[0m\n"
     ]
    }
   ],
   "source": [
    "%%ipytest\n",
    "def test_part_two():\n",
    "    assert part_two(parse_input(\"example1\")) == 0x3f3f3f3f + 2\n",
    "    assert part_two(parse_input(\"input\")) == 0x3f3f3f3f + 2"
   ],
   "metadata": {
    "collapsed": false
   }
  }
 ],
 "metadata": {
  "kernelspec": {
   "display_name": "Python 3 (ipykernel)",
   "language": "python",
   "name": "python3"
  },
  "language_info": {
   "codemirror_mode": {
    "name": "ipython",
    "version": 3
   },
   "file_extension": ".py",
   "mimetype": "text/x-python",
   "name": "python",
   "nbconvert_exporter": "python",
   "pygments_lexer": "ipython3",
   "version": "3.10.6"
  }
 },
 "nbformat": 4,
 "nbformat_minor": 1
}
