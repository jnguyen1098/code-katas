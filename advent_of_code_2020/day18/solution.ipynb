{
 "cells": [
  {
   "cell_type": "markdown",
   "source": [
    "# [Advent of Code 2020 Day 18](https://adventofcode.com/2020/day/18)\n",
    "\n",
    "It appears all the times I dodged the 'Basic Calculator' LeetCode questions have come back to haunt me."
   ],
   "metadata": {
    "collapsed": false
   },
   "outputs": []
  },
  {
   "cell_type": "markdown",
   "source": [
    "## Initial setup"
   ],
   "metadata": {
    "collapsed": false
   }
  },
  {
   "cell_type": "code",
   "execution_count": 79,
   "metadata": {},
   "outputs": [],
   "source": [
    "import ipytest\n",
    "import sys\n",
    "sys.path.append(\"..\")\n",
    "from ansi import *\n",
    "from comp import *\n",
    "ipytest.autoconfig()"
   ]
  },
  {
   "cell_type": "markdown",
   "source": [
    "## Input Parsing"
   ],
   "metadata": {
    "collapsed": false
   }
  },
  {
   "cell_type": "code",
   "execution_count": 80,
   "outputs": [],
   "source": [
    "def parse_input(filename: str) -> Any:\n",
    "\n",
    "    gen = yield_line(filename)\n",
    "\n",
    "    result = []\n",
    "\n",
    "    for line in gen:\n",
    "        result.append(line)\n",
    "\n",
    "    return result"
   ],
   "metadata": {
    "collapsed": false
   }
  },
  {
   "cell_type": "markdown",
   "source": [
    "## Part 1\n",
    "First I'm going to make a function that tokenizes an equation, then a function that, given a left bracket, finds the closing right bracket."
   ],
   "metadata": {
    "collapsed": false
   }
  },
  {
   "cell_type": "code",
   "execution_count": 81,
   "outputs": [],
   "source": [
    "def tokenize(equation: str) -> list[str]:\n",
    "    tokens = []\n",
    "    idx = 0\n",
    "    equation = \"\".join(equation.split())\n",
    "    while idx < len(equation):\n",
    "        if equation[idx] in \"*/+-()\":\n",
    "            tokens.append(equation[idx])\n",
    "            idx += 1\n",
    "        elif equation[idx].isdigit():\n",
    "            number = [equation[idx]]\n",
    "            idx += 1\n",
    "            while idx < len(equation) and equation[idx].isdigit():\n",
    "                number.append(equation[idx])\n",
    "                idx += 1\n",
    "            tokens.append(\"\".join(number))\n",
    "        else:\n",
    "            raise Exception(f\"couldn't identify token '{equation[idx]}'\")\n",
    "    return tokens"
   ],
   "metadata": {
    "collapsed": false
   }
  },
  {
   "cell_type": "code",
   "execution_count": 82,
   "outputs": [
    {
     "name": "stdout",
     "output_type": "stream",
     "text": [
      "\u001B[32m.\u001B[0m\u001B[32m                                                                                            [100%]\u001B[0m\n",
      "\u001B[32m\u001B[32m\u001B[1m1 passed\u001B[0m\u001B[32m in 0.01s\u001B[0m\u001B[0m\n"
     ]
    }
   ],
   "source": [
    "%%ipytest\n",
    "def test_tokenize():\n",
    "    assert tokenize(\"1 + 2\") == [\"1\", \"+\", \"2\"]\n",
    "    assert tokenize(\"   1    +    2   \") == [\"1\", \"+\", \"2\"]\n",
    "    assert tokenize(\"((2 + 4 * 9) * (6 + 93 * 8 + 6) + 6) + 2 + 4 * 2\") == [\"(\", \"(\", \"2\", \"+\", \"4\", \"*\", \"9\", \")\", \"*\", \"(\", \"6\", \"+\", \"93\", \"*\", \"8\", \"+\", \"6\", \")\", \"+\", \"6\", \")\", \"+\", \"2\", \"+\", \"4\", \"*\", \"2\"]"
   ],
   "metadata": {
    "collapsed": false
   }
  },
  {
   "cell_type": "markdown",
   "source": [],
   "metadata": {
    "collapsed": false
   }
  },
  {
   "cell_type": "code",
   "execution_count": 83,
   "outputs": [],
   "source": [
    "def find_closing_bracket(equation: str | list[str], l: int) -> int:\n",
    "    assert equation[l] == \"(\", f\"{equation=} at index {l} is not a left bracket, but '{equation[l]}'\"\n",
    "    bal = 1\n",
    "    for i in range(l + 1, len(equation)):\n",
    "        bal += 1 if equation[i] == \"(\" else -1 if equation[i] == \")\" else 0\n",
    "        if bal == 0:\n",
    "            return i\n",
    "    else:\n",
    "        raise Exception(f\"Could not find closing bracket for index {l} on {equation=}\")"
   ],
   "metadata": {
    "collapsed": false
   }
  },
  {
   "cell_type": "code",
   "execution_count": 84,
   "outputs": [
    {
     "name": "stdout",
     "output_type": "stream",
     "text": [
      "\u001B[32m.\u001B[0m\u001B[32m                                                                                            [100%]\u001B[0m\n",
      "\u001B[32m\u001B[32m\u001B[1m1 passed\u001B[0m\u001B[32m in 0.01s\u001B[0m\u001B[0m\n"
     ]
    }
   ],
   "source": [
    "%%ipytest\n",
    "def test_find_closing_bracket():\n",
    "    assert find_closing_bracket(\"1 + 2 * (1 + 2)\", 8) == 14\n",
    "    assert find_closing_bracket([\"(\", \"(\", \"2\", \"+\", \"4\", \"*\", \"9\", \")\", \"*\", \"(\", \"6\", \"+\", \"9\", \"*\", \"84444\", \"+\", \"6\", \")\", \"+\", \"6\", \")\", \"+\", \"2\", \"+\", \"4\", \"*\", \"2\"], 0) == 20"
   ],
   "metadata": {
    "collapsed": false
   }
  },
  {
   "cell_type": "code",
   "execution_count": 85,
   "outputs": [],
   "source": [
    "def solve_equation(equation: list[str]) -> int:\n",
    "    return 0"
   ],
   "metadata": {
    "collapsed": false
   }
  },
  {
   "cell_type": "code",
   "execution_count": 86,
   "outputs": [
    {
     "name": "stdout",
     "output_type": "stream",
     "text": [
      "\u001B[31mF\u001B[0m\u001B[31m                                                                                            [100%]\u001B[0m\n",
      "============================================ FAILURES =============================================\n",
      "\u001B[31m\u001B[1m_______________________________________ test_solve_equation _______________________________________\u001B[0m\n",
      "\n",
      "    \u001B[94mdef\u001B[39;49;00m \u001B[92mtest_solve_equation\u001B[39;49;00m():\n",
      ">       \u001B[94massert\u001B[39;49;00m solve_equation([\u001B[33m\"\u001B[39;49;00m\u001B[33m3\u001B[39;49;00m\u001B[33m\"\u001B[39;49;00m]) == \u001B[94m3\u001B[39;49;00m\n",
      "\u001B[1m\u001B[31mE       AssertionError: assert 0 == 3\u001B[0m\n",
      "\u001B[1m\u001B[31mE        +  where 0 = solve_equation(['3'])\u001B[0m\n",
      "\n",
      "\u001B[1m\u001B[31mC:\\Users\\Jason\\AppData\\Local\\Temp\\ipykernel_33632\\1258174609.py\u001B[0m:2: AssertionError\n",
      "===================================== short test summary info =====================================\n",
      "FAILED tmpehpj1smm.py::test_solve_equation - AssertionError: assert 0 == 3\n",
      "\u001B[31m\u001B[31m\u001B[1m1 failed\u001B[0m\u001B[31m in 0.01s\u001B[0m\u001B[0m\n"
     ]
    }
   ],
   "source": [
    "%%ipytest\n",
    "def test_solve_equation():\n",
    "    assert solve_equation([\"3\"]) == 3\n",
    "    assert solve_equation([\"3\", \"+\", \"4\"]) == 7"
   ],
   "metadata": {
    "collapsed": false
   }
  },
  {
   "cell_type": "markdown",
   "source": [],
   "metadata": {
    "collapsed": false
   }
  },
  {
   "cell_type": "code",
   "execution_count": 87,
   "outputs": [],
   "source": [
    "def part_one(data: Any) -> int | str:\n",
    "    return 0x3f3f3f3f + 1"
   ],
   "metadata": {
    "collapsed": false
   }
  },
  {
   "cell_type": "code",
   "execution_count": 88,
   "outputs": [
    {
     "name": "stdout",
     "output_type": "stream",
     "text": [
      "\u001B[32m.\u001B[0m\u001B[32m                                                                                            [100%]\u001B[0m\n",
      "\u001B[32m\u001B[32m\u001B[1m1 passed\u001B[0m\u001B[32m in 0.01s\u001B[0m\u001B[0m\n"
     ]
    }
   ],
   "source": [
    "%%ipytest\n",
    "def test_part_one():\n",
    "    assert part_one(parse_input(\"example1\")) == 0x3f3f3f3f + 1\n",
    "    assert part_one(parse_input(\"input\")) == 0x3f3f3f3f + 1"
   ],
   "metadata": {
    "collapsed": false
   }
  },
  {
   "cell_type": "markdown",
   "source": [
    "## Part 2\n",
    "Lorem ipsum"
   ],
   "metadata": {
    "collapsed": false
   }
  },
  {
   "cell_type": "code",
   "execution_count": 89,
   "outputs": [],
   "source": [
    "def part_two(data: Any) -> int | str:\n",
    "    return 0x3f3f3f3f + 2"
   ],
   "metadata": {
    "collapsed": false
   }
  },
  {
   "cell_type": "code",
   "execution_count": 90,
   "outputs": [
    {
     "name": "stdout",
     "output_type": "stream",
     "text": [
      "\u001B[32m.\u001B[0m\u001B[32m                                                                                            [100%]\u001B[0m\n",
      "\u001B[32m\u001B[32m\u001B[1m1 passed\u001B[0m\u001B[32m in 0.01s\u001B[0m\u001B[0m\n"
     ]
    }
   ],
   "source": [
    "%%ipytest\n",
    "def test_part_two():\n",
    "    assert part_two(parse_input(\"example1\")) == 0x3f3f3f3f + 2\n",
    "    assert part_two(parse_input(\"input\")) == 0x3f3f3f3f + 2"
   ],
   "metadata": {
    "collapsed": false
   }
  }
 ],
 "metadata": {
  "kernelspec": {
   "display_name": "Python 3 (ipykernel)",
   "language": "python",
   "name": "python3"
  },
  "language_info": {
   "codemirror_mode": {
    "name": "ipython",
    "version": 3
   },
   "file_extension": ".py",
   "mimetype": "text/x-python",
   "name": "python",
   "nbconvert_exporter": "python",
   "pygments_lexer": "ipython3",
   "version": "3.10.6"
  }
 },
 "nbformat": 4,
 "nbformat_minor": 1
}
