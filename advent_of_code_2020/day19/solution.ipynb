{
 "cells": [
  {
   "cell_type": "markdown",
   "source": [
    "# [Advent of Code 2020 Day 19](https://adventofcode.com/2020/day/19)\n",
    "\n",
    "Chomsky would be proud..."
   ],
   "metadata": {
    "collapsed": false
   },
   "outputs": []
  },
  {
   "cell_type": "markdown",
   "source": [
    "## Initial setup\n",
    "Going to create several classes just for the sake of parsing...\n",
    "\n",
    "Each class will have a match method that will return a list of offsets. This is because a rule may match multiple scenarios.\n",
    "\n",
    "For example, a rule that matches `\"aaa\" | \"a\"` will have potentially two offsets: 3, and 1. For a string `\"a\"` it will return `[1]` but for string `\"aaa\"` it will return `[1, 3]` because both the left and right hand rule pass. This is important because some passing offsets will pass later rules in the sequence. An example of this is:\n",
    "\n",
    "```\n",
    "A -> B C\n",
    "B -> \"a\" | \"aaa\"\n",
    "C -> \"b\"\n",
    "```\n",
    "\n",
    "Assuming this grammar has the start symbol `A` this will accept `\"aaab\"` but if we use short-circuit logic and immediately return the first instance of `B` accepting, which would return an offset of 1, the `C` production rule will fail because we didn't acknowledge the fact that `B` also passes on its second rule, consuming an offset of 3, and actually passing `C`.\n",
    "\n",
    "I will implement the classes' offset outputting as follows:\n",
    "- Terminal rules will either return an empty array (to signify failure), or an array of 1 integer. This is because terminal rules can only match 1 thing.\n",
    "- Non-terminal rules will use a backtracker to accumulate as many intermediate offsets and brute-forcing those in order to generate the offsets given by the last rule. This is inefficient but it works.\n",
    "- Union rules will consist of two non-terminal rules. The match for both non-terminal rules will be called, and the resulting offset arrays from both calls combined. Again, inefficient, but works."
   ],
   "metadata": {
    "collapsed": false
   }
  },
  {
   "cell_type": "code",
   "execution_count": 1,
   "metadata": {},
   "outputs": [],
   "source": [
    "import ipytest\n",
    "import sys\n",
    "sys.path.append(\"..\")\n",
    "from ansi import *\n",
    "from comp import *\n",
    "ipytest.autoconfig()"
   ]
  },
  {
   "cell_type": "code",
   "execution_count": 2,
   "outputs": [],
   "source": [
    "from abc import ABC, abstractmethod\n",
    "\n",
    "class Grammar:\n",
    "    def __init__(self):\n",
    "        self.database: dict[int, Rule] = {}\n",
    "        self.raw_rules: list[str] = []\n",
    "        self.inputs: list[str] = []\n",
    "\n",
    "    def add_input(self, data: str):\n",
    "        self.inputs.append(data)\n",
    "\n",
    "    def add_rule(self, data: str):\n",
    "        assert (groups := parse(r\"^(\\d+): (.*)$\", data)) is not None, f\"Could not parse {data}\"\n",
    "        assert int(groups[0]) not in self.database, f\"Attempted to add rule number {groups[0]} with {data=} into database even though rule number already exists\"\n",
    "        self.raw_rules.append(data)\n",
    "        self.database[int(groups[0])] = Rule.from_string(groups[1], self.database)\n",
    "\n",
    "    def match(self, other: str) -> bool:\n",
    "        for offset in self.database[0].match(other):\n",
    "            if offset == len(other):\n",
    "                return True\n",
    "        return False\n",
    "\n",
    "class Rule(ABC):\n",
    "\n",
    "    @abstractmethod\n",
    "    def __init__(self, data: str, database: dict[int, \"Rule\"]) -> None:\n",
    "        raise NotImplementedError\n",
    "\n",
    "    @abstractmethod\n",
    "    def match(self, other: str) -> list[int]:\n",
    "        raise NotImplementedError\n",
    "\n",
    "    @staticmethod\n",
    "    def from_string(data: str, database: dict[int, \"Rule\"]) -> \"Rule\":\n",
    "        try:\n",
    "            return TerminalRule(data, database)\n",
    "        except AssertionError:\n",
    "            pass\n",
    "        try:\n",
    "            return NonTerminalRule(data, database)\n",
    "        except AssertionError:\n",
    "            pass\n",
    "        try:\n",
    "            return UnionRule(data, database)\n",
    "        except AssertionError:\n",
    "            pass\n",
    "        raise ValueError(f\"Could not find any rule to match for {data}\")\n",
    "\n",
    "class TerminalRule(Rule):\n",
    "\n",
    "    def __init__(self, data: str, database: dict[int, Rule]):\n",
    "        assert (groups := parse(r\"^\\\"([a-z]+)\\\"$\", data)) is not None, f\"Couldn't parse {data} for TerminalRule\"\n",
    "        assert len(groups) == 1, f\"Groups for TerminalRule {data} should be 1 but got {len(groups)} => {groups}\"\n",
    "        self.database = database\n",
    "        self.terminal = groups[0]\n",
    "\n",
    "    def match(self, other: str) -> list[int]:\n",
    "        if other.startswith(self.terminal) or other == self.terminal:\n",
    "            return [len(self.terminal)]\n",
    "        return []\n",
    "\n",
    "class NonTerminalRule(Rule):\n",
    "\n",
    "    def __init__(self, data: str, database: dict[int, Rule]):\n",
    "        assert (groups := parse(r\"^((?:\\d+ ?)+)$\", data)), f\"Couldn't parse {data} for NonTerminalRule\"\n",
    "        assert len(groups) == 1, f\"Groups for NonTerminalRule {data} should be 1 but got {len(groups)} => {groups}\"\n",
    "        self.database = database\n",
    "        self.rules = list(map(int, groups[0].split()))\n",
    "\n",
    "    @staticmethod\n",
    "    def backtrack(database: dict[int, Rule], rules: list[int], idx: int, other: str, curr_offset: int, matched_offsets: list[int]) -> None:\n",
    "\n",
    "        if idx >= len(rules):\n",
    "            matched_offsets.append(curr_offset)\n",
    "            return\n",
    "\n",
    "        rule = database[rules[idx]]\n",
    "\n",
    "        if (munches := rule.match(other)) is None:\n",
    "            return\n",
    "\n",
    "        for offset in munches:\n",
    "            NonTerminalRule.backtrack(database, rules, idx + 1, other[offset:], curr_offset + offset, matched_offsets)\n",
    "\n",
    "    def match(self, other: str) -> list[int]:\n",
    "        offsets: list[int] = []\n",
    "        NonTerminalRule.backtrack(self.database, self.rules, 0, other, 0, offsets)\n",
    "        return offsets\n",
    "\n",
    "class UnionRule(Rule):\n",
    "\n",
    "    def __init__(self, data: str, database: dict[int, Rule]):\n",
    "        assert (groups := parse(r\"^((?:\\d+ ?)+) \\| ((?:\\d+ ?)+)$\", data)), f\"Couldn't parse {data} for UnionRule\"\n",
    "        assert len(groups) == 2, f\"Groups for UnionRule {data} should be 2 but got {len(groups)} => {groups}\"\n",
    "        self.database = database\n",
    "        self.choice_1 = NonTerminalRule(groups[0], self.database)\n",
    "        self.choice_2 = NonTerminalRule(groups[1], self.database)\n",
    "\n",
    "    def match(self, other: str) -> list[int]:\n",
    "        return self.choice_1.match(other) + self.choice_2.match(other)"
   ],
   "metadata": {
    "collapsed": false
   }
  },
  {
   "cell_type": "markdown",
   "source": [
    "## Input Parsing"
   ],
   "metadata": {
    "collapsed": false
   }
  },
  {
   "cell_type": "code",
   "execution_count": 3,
   "outputs": [],
   "source": [
    "def parse_input(filename: str) -> Any:\n",
    "\n",
    "    gen = yield_line(filename)\n",
    "\n",
    "    grammar = Grammar()\n",
    "\n",
    "    for line in gen:\n",
    "        if line == \"\":\n",
    "            break\n",
    "        grammar.add_rule(line)\n",
    "\n",
    "    for line in gen:\n",
    "        grammar.add_input(line)\n",
    "\n",
    "    return grammar"
   ],
   "metadata": {
    "collapsed": false
   }
  },
  {
   "cell_type": "markdown",
   "source": [
    "Some tests for the classes I made..."
   ],
   "metadata": {
    "collapsed": false
   }
  },
  {
   "cell_type": "code",
   "execution_count": 4,
   "outputs": [
    {
     "name": "stdout",
     "output_type": "stream",
     "text": [
      "\u001B[32m.\u001B[0m\u001B[32m.\u001B[0m\u001B[32m.\u001B[0m\u001B[32m.\u001B[0m\u001B[32m.\u001B[0m\u001B[32m                                                                                        [100%]\u001B[0m\n",
      "\u001B[32m\u001B[32m\u001B[1m5 passed\u001B[0m\u001B[32m in 0.01s\u001B[0m\u001B[0m\n"
     ]
    }
   ],
   "source": [
    "%%ipytest\n",
    "\n",
    "grammar: Grammar = parse_input(\"example1\")\n",
    "\n",
    "def test_rule_instantiation():\n",
    "    assert isinstance(grammar.database[0], NonTerminalRule)\n",
    "    assert isinstance(grammar.database[1], UnionRule)\n",
    "    assert isinstance(grammar.database[2], UnionRule)\n",
    "    assert isinstance(grammar.database[3], UnionRule)\n",
    "    assert isinstance(grammar.database[4], TerminalRule)\n",
    "    assert isinstance(grammar.database[5], TerminalRule)\n",
    "\n",
    "def test_grammar_terminals():\n",
    "    assert grammar.database[4].match(\"a\")\n",
    "    assert grammar.database[5].match(\"b\")\n",
    "\n",
    "def test_grammar_union_rule_simple():\n",
    "    assert grammar.database[3].match(\"ab\")\n",
    "    assert grammar.database[3].match(\"ba\")\n",
    "    assert not grammar.database[3].match(\"qq\")\n",
    "    assert not grammar.database[3].match(\"aa\")\n",
    "    assert not grammar.database[3].match(\"bb\")\n",
    "\n",
    "def test_grammar_start_rule_match():\n",
    "    assert grammar.database[0].match(\"ababbb\")\n",
    "    assert grammar.database[0].match(\"abbbab\")\n",
    "\n",
    "def test_grammar_start_rule_no_match():\n",
    "    assert not grammar.database[0].match(\"bababa\")\n",
    "    assert not grammar.database[0].match(\"aaabbb\")\n",
    "    assert grammar.database[0].match(\"aaaabbb\") == [6]  # the low-level match functions only return offsets; it is up to the Grammar class to determine that leftover letters = Fail"
   ],
   "metadata": {
    "collapsed": false
   }
  },
  {
   "cell_type": "markdown",
   "source": [
    "## Part 1\n",
    "Here goes nothing..."
   ],
   "metadata": {
    "collapsed": false
   }
  },
  {
   "cell_type": "code",
   "execution_count": 5,
   "outputs": [],
   "source": [
    "def part_one(grammar: Grammar) -> int | str:\n",
    "    match_count: int = 0\n",
    "    for input_line in grammar.inputs:\n",
    "        if grammar.match(input_line):\n",
    "            match_count += 1\n",
    "    return match_count"
   ],
   "metadata": {
    "collapsed": false
   }
  },
  {
   "cell_type": "code",
   "execution_count": 6,
   "outputs": [
    {
     "name": "stdout",
     "output_type": "stream",
     "text": [
      "\u001B[32m.\u001B[0m\u001B[32m                                                                                            [100%]\u001B[0m\n",
      "\u001B[32m\u001B[32m\u001B[1m1 passed\u001B[0m\u001B[32m in 0.05s\u001B[0m\u001B[0m\n"
     ]
    }
   ],
   "source": [
    "%%ipytest\n",
    "def test_part_one():\n",
    "    assert part_one(parse_input(\"example1\")) == 2\n",
    "    assert part_one(parse_input(\"input\")) == 126"
   ],
   "metadata": {
    "collapsed": false
   }
  },
  {
   "cell_type": "markdown",
   "source": [
    "## Part 2\n",
    "Let's see how much of an infinite loop my part 1 will cause if I run it for part 2..."
   ],
   "metadata": {
    "collapsed": false
   }
  },
  {
   "cell_type": "code",
   "execution_count": 7,
   "outputs": [],
   "source": [
    "def part_two(grammar: Grammar) -> int | str:\n",
    "    match_count: int = 0\n",
    "    for input_line in grammar.inputs:\n",
    "        if grammar.match(input_line):\n",
    "            match_count += 1\n",
    "    return match_count"
   ],
   "metadata": {
    "collapsed": false
   }
  },
  {
   "cell_type": "code",
   "execution_count": null,
   "outputs": [],
   "source": [
    "%%ipytest\n",
    "def test_part_two():\n",
    "    assert part_two(parse_input(\"example2\")) == 12\n",
    "    assert part_two(parse_input(\"input2\")) == 282"
   ],
   "metadata": {
    "collapsed": false,
    "pycharm": {
     "is_executing": true
    }
   }
  },
  {
   "cell_type": "markdown",
   "source": [
    "wait what...? my part 1 works for part 2? lol thank you cis3150"
   ],
   "metadata": {
    "collapsed": false
   }
  }
 ],
 "metadata": {
  "kernelspec": {
   "display_name": "Python 3 (ipykernel)",
   "language": "python",
   "name": "python3"
  },
  "language_info": {
   "codemirror_mode": {
    "name": "ipython",
    "version": 3
   },
   "file_extension": ".py",
   "mimetype": "text/x-python",
   "name": "python",
   "nbconvert_exporter": "python",
   "pygments_lexer": "ipython3",
   "version": "3.10.6"
  }
 },
 "nbformat": 4,
 "nbformat_minor": 1
}
