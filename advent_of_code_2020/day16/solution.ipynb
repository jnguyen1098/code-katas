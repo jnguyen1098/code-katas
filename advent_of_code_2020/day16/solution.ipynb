{
 "cells": [
  {
   "cell_type": "markdown",
   "source": [
    "# [Advent of Code 2020 Day 16](https://adventofcode.com/2020/day/16)\n",
    "\n",
    "Deep diving into CSPs."
   ],
   "metadata": {
    "collapsed": false
   },
   "outputs": []
  },
  {
   "cell_type": "markdown",
   "source": [
    "## Initial setup"
   ],
   "metadata": {
    "collapsed": false
   }
  },
  {
   "cell_type": "code",
   "execution_count": null,
   "metadata": {},
   "outputs": [],
   "source": [
    "import ipytest\n",
    "import sys\n",
    "sys.path.append(\"..\")\n",
    "from ansi import *\n",
    "from comp import *\n",
    "ipytest.autoconfig()"
   ]
  },
  {
   "cell_type": "markdown",
   "source": [
    "## Input Parsing"
   ],
   "metadata": {
    "collapsed": false
   }
  },
  {
   "cell_type": "code",
   "execution_count": null,
   "outputs": [],
   "source": [
    "def parse_input(filename: str) -> tuple[tuple[str, str, str, str, str], tuple[int, ...], tuple[tuple[int, ...], ...]]:\n",
    "\n",
    "    gen = yield_line(filename)\n",
    "\n",
    "    rules = []\n",
    "\n",
    "    while (next_line := next(gen)) != \"\":\n",
    "        rules.append(parse(f\"(.+): (\\d+)\\-(\\d+)\\ or (\\d+)\\-(\\d+)\", next_line))\n",
    "\n",
    "    assert next(gen).startswith(\"your ticket:\")\n",
    "\n",
    "    your_ticket = intsep(next(gen), \",\")\n",
    "\n",
    "    assert next(gen) == \"\"\n",
    "    assert next(gen).startswith(\"nearby tickets:\")\n",
    "\n",
    "    other_tickets = []\n",
    "\n",
    "    for line in gen:\n",
    "        other_tickets.append(tuple(intsep(line, \",\")))\n",
    "\n",
    "    return tuple(rules), tuple(your_ticket), tuple(other_tickets)"
   ],
   "metadata": {
    "collapsed": false
   }
  },
  {
   "cell_type": "markdown",
   "source": [
    "## Part 1\n",
    "This seems like one of those codebreaker-type problems requiring a lot of logic (and probably set theory). I'm going to start off by making rule validation functions."
   ],
   "metadata": {
    "collapsed": false
   }
  },
  {
   "cell_type": "markdown",
   "source": [
    "### Rule Class\n",
    "yum OOP"
   ],
   "metadata": {
    "collapsed": false
   }
  },
  {
   "cell_type": "code",
   "execution_count": null,
   "outputs": [],
   "source": [
    "class Rule:\n",
    "\n",
    "    def __init__(self, name: str, min_a: int, max_a: int, min_b: int, max_b: int):\n",
    "        assert min_a < max_b, f\"Ranges must be left-to-right - args: {name=} {min_a=} {max_a=} {min_b=} {max_b=}\"\n",
    "        assert min_a <= max_a, f\"First range must be left-to-right - args: {name=} {min_a=} {max_a=} {min_b=} {max_b=}\"\n",
    "        assert min_b <= max_b, f\"Second range must be left-to-right - args: {name=} {min_a=} {max_a=} {min_b=} {max_b=}\"\n",
    "        # assert max_a < min_b, f\"There must be no overlap - args : {name=} {min_a=} {max_a=} {min_b=} {max_b=}\"\n",
    "        self.name: str = name\n",
    "        self.bound_a: tuple[int, int] = (min_a, max_a)\n",
    "        self.bound_b: tuple[int, int] = (min_b, max_b)\n",
    "        self.cardinality = (max_a - min_a + 1) + (max_b - min_b + 1) if max_a < min_b else max_b - min_a + 1\n",
    "\n",
    "    def validate(self, value: int):\n",
    "        return self.bound_a[0] <= value <= self.bound_a[1] or self.bound_b[0] <= value <= self.bound_b[1]\n",
    "\n",
    "    def __str__(self):\n",
    "        return f\"{self.name}: {self.bound_a[0]}-{self.bound_a[1]} or {self.bound_b[0]}-{self.bound_b[1]}\"\n",
    "\n",
    "    def __repr__(self):\n",
    "        return str(self)"
   ],
   "metadata": {
    "collapsed": false
   }
  },
  {
   "cell_type": "code",
   "execution_count": null,
   "outputs": [],
   "source": [
    "%%ipytest\n",
    "def test_rule_class_class():\n",
    "    class_rule: Rule = Rule(\"class\", 0, 1, 4, 19)\n",
    "    assert class_rule.cardinality == 18\n",
    "    for illegal in [-1, 2, 3]:\n",
    "        assert not class_rule.validate(illegal)\n",
    "    for legal in [0, 1, 4, 19, 11]:\n",
    "        assert class_rule.validate(legal)\n",
    "\n",
    "def test_rule_class_overlapping_abut():\n",
    "    overlapping_rule: Rule = Rule(\"overlapping\", 0, 5, 5, 20)\n",
    "    assert overlapping_rule.cardinality == 21\n",
    "    for illegal in [-1, -100, 21, 200]:\n",
    "        assert not overlapping_rule.validate(illegal)\n",
    "    for legal in [0, 20, 10, 5, 3, 4, 6, 2, 4]:\n",
    "        assert overlapping_rule.validate(legal)\n",
    "\n",
    "def test_rule_class_overlapping_past():\n",
    "    overlapping_rule: Rule = Rule(\"overlapping\", 0, 5, 3, 20)\n",
    "    assert overlapping_rule.cardinality == 21\n",
    "    for illegal in [-1, -100, 21, 200]:\n",
    "        assert not overlapping_rule.validate(illegal)\n",
    "    for legal in [0, 20, 10, 5, 3, 4, 6, 2, 4]:\n",
    "        assert overlapping_rule.validate(legal)"
   ],
   "metadata": {
    "collapsed": false
   }
  },
  {
   "cell_type": "markdown",
   "source": [
    "### Now to make filtering functions"
   ],
   "metadata": {
    "collapsed": false
   }
  },
  {
   "cell_type": "code",
   "execution_count": null,
   "outputs": [],
   "source": [
    "def value_passes_any_rule(rules: list[Rule], candidate_value: int):\n",
    "    for rule in rules:\n",
    "        if rule.validate(candidate_value):\n",
    "            return True\n",
    "    return False\n",
    "\n",
    "def get_first_unsatisfiable_value_on_ticket(rules: list[Rule], ticket: list[int]) -> int | None:\n",
    "    for num in ticket:\n",
    "        if not value_passes_any_rule(rules, num):\n",
    "            return num\n",
    "    return None"
   ],
   "metadata": {
    "collapsed": false
   }
  },
  {
   "cell_type": "markdown",
   "source": [
    "Too lazy to test."
   ],
   "metadata": {
    "collapsed": false
   }
  },
  {
   "cell_type": "code",
   "execution_count": null,
   "outputs": [],
   "source": [
    "def part_one(data: Any) -> int | str:\n",
    "    rules_input, your_ticket, other_tickets = data\n",
    "\n",
    "    rules = []\n",
    "\n",
    "    for name, l1, l2, r1, r2 in rules_input:\n",
    "        rules.append(Rule(name, int(l1), int(l2), int(r1), int(r2)))\n",
    "\n",
    "    result = 0\n",
    "\n",
    "    for ticket in other_tickets:\n",
    "        if (unsatisfiable_value := get_first_unsatisfiable_value_on_ticket(rules, ticket)) is not None:\n",
    "            result += unsatisfiable_value\n",
    "\n",
    "    return result"
   ],
   "metadata": {
    "collapsed": false
   }
  },
  {
   "cell_type": "code",
   "execution_count": null,
   "outputs": [],
   "source": [
    "%%ipytest\n",
    "def test_part_one():\n",
    "    assert part_one(parse_input(\"example1\")) == 71\n",
    "    assert part_one(parse_input(\"input\")) == 27850"
   ],
   "metadata": {
    "collapsed": false
   }
  },
  {
   "cell_type": "markdown",
   "source": [
    "## Part 2\n",
    "OK, so this is where the logic comes in... this looks like a substitution cipher type problem on LeetCode (think \"isomorphic strings\" with a one-to-one mapping between symbols).\n",
    "\n",
    "The question, in true CSP fashion, asks for an assignment of which field goes where. The hashing function used by this question (aka to determine the correct answer), assuming the ordering is correct, is to take every field that starts with \"departure\" and multiply them together. Therefore, I will probably solve the CSP problem first, then create the response converter."
   ],
   "metadata": {
    "collapsed": false
   }
  },
  {
   "cell_type": "markdown",
   "source": [
    "### Transform-and-Conquer\n",
    "One important thing to notice is that we can make some optimizations based off the fact that columns are static (i.e., if ticket #1 column 1 is \"height\", then every other ticket's column 1 is \"height\" too).\n",
    "\n",
    "#### Hashing\n",
    "The thing stopping us from doing a pure interval reduction is the fact that rules have two intervals, unfortunately. But I think we can still use interval reduction as a means of smoke testing, similar to how hashing works:\n",
    "- Take every column and reduce it to an interval based on the min and max value\n",
    "  - For example, the column `[4, 5, 9, 1, 15, 14, 13]` would be of the interval `[1, 15]`\n",
    "- Use this interval as a hash for the column\n",
    "  - For the column above, we can be certain for a fact that it will fail the rule `height: 0-1 or 3-4`\n",
    "  - However, for the same column, we can't make an immediate deduction on the rule `height: 0-1 or 14-15` because even though the column matches the interval, this property is **necessary, but not sufficient**. Therefore, we would have to continue to manually test it. We would find that the column does fail, because the value 4 isn't allowed.\n",
    "    - You will see this \"smoke test\" line of logic in the pumping lemma, Miller-Rabin's primality testing, and using degree sequence to screen out isomorphism between graphs\n",
    "\n",
    "#### Proof by Contradiction\n",
    "This is a form of transform-and-conquer known as \"problem reduction\" (see Levitin, A.'s algorithm book for more info.) where you solve a problem using an equivalent problem (for example, in high school you use problem reduction when finding known extrema of polynomials by instead solving for its derivative - you are solving for min/max by instead solving for 0).\n",
    "\n",
    "We can do the same here. Take a look at this statement:\n",
    "$$\\textrm{Every number in column $c$ satisfies rule $r$'s two intervals} \\Rightarrow \\textrm{$c$ satisfies $r$}$$\n",
    "\n",
    "However, by taking the contrapositive, we can form an equally-consistent statement:\n",
    "$$\\textrm{There exists a single number $n$ in column $c$ that does not satisfy rule $r$'s two intervals} \\Rightarrow \\textrm{$c$ does not satisfy $r$}$$\n",
    "\n",
    "It doesn't matter if the function checks if a column satisfies a rule or not - if I want the other, I can just invert it! So long as these functions are consistent and complete. This is actually how Python implements some relational operators (for example, if you override \"equals\", you don't have to override \"not equals\" because you can just invert the \"equals\" override):\n",
    "> By default, `__ne__()` delegates to `__eq__()` and inverts the result unless it is `NotImplemented`. There are no other implied relationships among the comparison operators, for example, the truth of (`x<y` or `x==y`) does not imply `x<=y`.\n",
    "\n",
    "This means, instead of checking if a large number of integers fit within a given rule, we can instead look at a rule's disallowed integers and see if they exist within a given column. Looking at the full test input we see:\n",
    "```\n",
    "departure location: 47-691 or 713-954\n",
    "departure station: 44-776 or 799-969\n",
    "departure platform: 37-603 or 627-953\n",
    "departure track: 41-240 or 259-955\n",
    "departure date: 42-370 or 383-961\n",
    "departure time: 50-117 or 136-962\n",
    "arrival location: 33-86 or 104-973\n",
    "arrival station: 29-339 or 347-962\n",
    "arrival platform: 46-644 or 659-970\n",
    "arrival track: 31-584 or 604-960\n",
    "class: 42-107 or 115-971\n",
    "duration: 31-753 or 770-972\n",
    "price: 40-515 or 525-957\n",
    "route: 31-453 or 465-971\n",
    "row: 46-845 or 868-965\n",
    "seat: 45-475 or 489-960\n",
    "train: 34-317 or 323-968\n",
    "type: 47-150 or 159-969\n",
    "wagon: 45-261 or 279-955\n",
    "zone: 33-879 or 891-952\n",
    "```\n",
    "\n",
    "This is particularly a good idea because we don't actually have to check numbers below the left bound's min or the right bound's max because we already precomputed each column's range before reaching this step. This means a column with the range `[5, 952]` will never actually be checked against rules like `zone: 33-879 or 891-952` because the 5 in the range automatically eliminates itself (as the absolute minimum for rule `zone` is 33).\n",
    "\n",
    "Columns `[33, 880, 952]` and `[33, 34, 952]` both have the same range `[33, 952]`, and would move forward to validation. However, rather than checking every number in each column to see if it fits with the rule, we can just check the rejection range for the rule, which in this case is 880 through 890 - we only have to check 10 numbers, and if we represent each column as a hashset, we can check each potential rejections' existences in $\\mathcal{O}(1)$ amortized time. First, let's create the column cruncher function."
   ],
   "metadata": {
    "collapsed": false
   }
  },
  {
   "cell_type": "code",
   "execution_count": null,
   "outputs": [],
   "source": [
    "class Column:\n",
    "\n",
    "    INFINITY = 0x3f3f3f3f\n",
    "\n",
    "    def __init__(self) -> None:\n",
    "        \"\"\"\n",
    "        Initialize the Column.\n",
    "        \"\"\"\n",
    "        self.sum: int = 0\n",
    "        self.set: set[int] = set()\n",
    "        self.min: int = Column.INFINITY\n",
    "        self.max: int = -Column.INFINITY\n",
    "\n",
    "    def __iadd__(self, other: int) -> \"Column\":\n",
    "        \"\"\"\n",
    "        Add an integer to the column's bookkeeping:\n",
    "            - Add to total sum\n",
    "            - Add to set for O(1) membership checking\n",
    "            - Update max and min\n",
    "        :param other: the integer to add to the column\n",
    "        :return the current instance\n",
    "        \"\"\"\n",
    "        # assert other not in self.set, \"Debug - are there duplicates?\" # EDIT yes there are\n",
    "        self.sum += other\n",
    "        self.set.add(other)\n",
    "        self.min = min(self.min, other)\n",
    "        self.max = max(self.max, other)\n",
    "        return self\n",
    "\n",
    "    def dump(self) -> tuple[int, set[int], int, int]:\n",
    "        \"\"\"\n",
    "        Dumps the four fields of the column into array (for easy testing)\n",
    "        :return: a tuple representing the data of the class\n",
    "        \"\"\"\n",
    "        return self.sum, self.set, self.min, self.max\n",
    "\n",
    "    def __str__(self) -> str:\n",
    "        return f\"Column(sum={self.sum}, set={self.set}, min={self.min}, max={self.max})\"\n",
    "\n",
    "    def __repr__(self) -> str:\n",
    "        return str(self)"
   ],
   "metadata": {
    "collapsed": false
   }
  },
  {
   "cell_type": "code",
   "execution_count": null,
   "outputs": [],
   "source": [
    "%%ipytest\n",
    "def test_column_class_simple():\n",
    "    column = Column()\n",
    "    assert column.dump() == (0, set(), Column.INFINITY, -Column.INFINITY)\n",
    "    test_steps = [\n",
    "        (0, 0, {0}, 0, 0),\n",
    "        (5, 5, {0, 5}, 0, 5),\n",
    "        (-10, -5, {0, 5, -10}, -10, 5),\n",
    "        (6, 1, {0, 5, -10, 6}, -10, 6),\n",
    "    ]\n",
    "    for next_input, expected_sum, expected_set, expected_min, expected_max in test_steps:\n",
    "        column += next_input\n",
    "        assert column.dump() == (expected_sum, expected_set, expected_min, expected_max)\n",
    "\n",
    "def test_column_class_sum():\n",
    "    column = Column()\n",
    "    nums = [235,447,575,80,384,832,799,806,529,624,144,398,176,583,199,169,914,222,828,314]\n",
    "    for num in nums:\n",
    "        column += num\n",
    "    assert column.sum == sum(nums)"
   ],
   "metadata": {
    "collapsed": false
   }
  },
  {
   "cell_type": "markdown",
   "source": [
    "### CSPs, assignments, consistency, oh my!\n",
    "In simple terms, a constraint satisfaction problem consists of a set of variables; each variable has a domain of values it can take on. The CSP has a series of constraints that the variables must follow. The aim of solving a CSP involves creating some assignment of values in each variable's domain such that all the constraints are followed.\n",
    "\n",
    "For example, if you are looking for four unique integers that add up to 10, then you have four variables, $integer_1$, $integer_2$, $integer_3$, and $integer_4$; the domain of each of these variables is $\\{0, 1, 2, 3, 4, 5, 6, 7, 8, 9\\}$, and the constraints of the problem are that:\n",
    "- $integer_1 + integer_2 + integer_3 + integer_4 = 10$\n",
    "- $ALLDIFF(integer_1, integer_2, integer_3, integer_4)$\n",
    "where $ALLDIFF$ (or $alldiff$ or $alldifferent$) refers to the constraint that all integers must be distinct.\n",
    "\n",
    "One assignment to this CSP that solves it is $\\{1, 2, 3, 4\\}$.\n",
    "\n",
    "This seems like a very boring explanation, but this is the iceberg to a very big part of AI. Most LeetCode problems are either CSP or search problems. CSPs form the first step beyond atomic states in Norvig's AI data representation models (search, for an example, has to do with atomic states); CSPs are part of the \"factored\" representation where we view states as vectors of different variables.\n",
    "\n",
    "Most CSP solvers do something called \"backtracking search\" where you incrementally build up a candidate solution. How a CSP solver performs this varies. Massively. We will see in a bit."
   ],
   "metadata": {
    "collapsed": false
   }
  },
  {
   "cell_type": "markdown",
   "source": [
    "### Solution Verification Wrapper\n",
    "If our generic backtracker is going to return a list of integers, one for each column, each integer representing which field/rule, then we want to only check certain indices. In the original problem, only the fields that start with \"departure\". This means if we look at our test input:\n",
    "```\n",
    "departure location: 47-691 or 713-954\n",
    "departure station: 44-776 or 799-969\n",
    "departure platform: 37-603 or 627-953\n",
    "departure track: 41-240 or 259-955\n",
    "departure date: 42-370 or 383-961\n",
    "departure time: 50-117 or 136-962\n",
    "arrival location: 33-86 or 104-973\n",
    "arrival station: 29-339 or 347-962\n",
    "arrival platform: 46-644 or 659-970\n",
    "arrival track: 31-584 or 604-960\n",
    "class: 42-107 or 115-971\n",
    "duration: 31-753 or 770-972\n",
    "price: 40-515 or 525-957\n",
    "route: 31-453 or 465-971\n",
    "row: 46-845 or 868-965\n",
    "seat: 45-475 or 489-960\n",
    "train: 34-317 or 323-968\n",
    "type: 47-150 or 159-969\n",
    "wagon: 45-261 or 279-955\n",
    "zone: 33-879 or 891-952\n",
    "```\n",
    "this corresponds to indices `[0, 1, 2, 3, 4, 5]`. CSPs rarely have only one result, so just checking the elements one-by-one would be a very fragile way of testing it. Let's make something more robust."
   ],
   "metadata": {
    "collapsed": false
   }
  },
  {
   "cell_type": "code",
   "execution_count": null,
   "outputs": [],
   "source": [
    "def digest_ticket_using_indices(ticket: tuple[int, ...], assignment: tuple[int, ...], desired_rules: tuple[int, ...]) -> int:\n",
    "    \"\"\"\n",
    "    Takes a ticket consisting of a bunch of integers and an array of indices, then returns a digest consisting of every position in ticket in indices multiplied together.\n",
    "    :param ticket: a list of integers representing the numbers taken on a ticket\n",
    "    :param assignment: a list of integers signifying which rule is assigned to each index of the ticket\n",
    "    :param desired_rules: a list of n integers, n <= len(ticket), representing what parts of the ticket should be multiplied together to form the digest\n",
    "    :return: an integer digest\n",
    "    \"\"\"\n",
    "\n",
    "    assert len(ticket) == len(assignment), f\"The number of entries on a ticket should be equal to the number of assignments. {ticket=} {assignment=}\"\n",
    "    assert set(assignment) >= set(desired_rules), \"Desired rules {desired_rules} must contain only rules tht exist in the assignment {assignment}\"\n",
    "    assert len(set(ticket)) == len(ticket), \"Ticket {ticket} must not have duplicate numbers\"\n",
    "\n",
    "    locations: dict[int, int] = {}\n",
    "\n",
    "    for idx, rule_num in enumerate(assignment):\n",
    "        locations[rule_num] = idx\n",
    "\n",
    "    result: int = 1\n",
    "\n",
    "    for rule_index in desired_rules:\n",
    "        result *= ticket[locations[rule_index]]\n",
    "\n",
    "    return result"
   ],
   "metadata": {
    "collapsed": false
   }
  },
  {
   "cell_type": "code",
   "execution_count": null,
   "outputs": [],
   "source": [
    "%%ipytest\n",
    "def test_digest_ticket_using_indices():\n",
    "\n",
    "    assert digest_ticket_using_indices(\n",
    "        (191, 139, 59, 79, 149, 83, 67, 73, 167, 181, 173, 61, 53, 137, 71, 163, 179, 193, 107, 197),\n",
    "        (16, 8, 3, 4, 10, 9, 18, 5, 19, 12, 1, 2, 15, 0, 13, 17, 7, 11,  6, 14),\n",
    "        (0, 1, 2, 3, 4, 5)\n",
    "    ) == 491924517533\n",
    "\n",
    "    assert digest_ticket_using_indices(\n",
    "        (191, 139, 59, 79, 149, 83, 67, 73, 167, 181, 173, 61, 53, 137, 71, 163, 179, 193, 107, 197),\n",
    "        (16, 8, 3, 4, 10, 9, 18, 5,  6, 12, 1, 2, 15, 0, 13, 17, 7, 11, 19, 14),\n",
    "        (0, 1, 2, 3, 4, 5)\n",
    "    ) == 491924517533\n",
    "\n",
    "    assert digest_ticket_using_indices(\n",
    "        (191, 139, 59, 79, 149, 83, 67, 73, 167, 181, 173, 61, 53, 137, 71, 163, 179, 193, 107, 197),\n",
    "        (16, 8, 3, 4, 10, 9, 18, 5, 13, 12, 1, 2, 15, 0, 19, 17, 7, 11,  6, 14),\n",
    "        (0, 1, 2, 3, 4, 5)\n",
    "    ) == 491924517533"
   ],
   "metadata": {
    "collapsed": false
   }
  },
  {
   "cell_type": "markdown",
   "source": [
    "### Brute Force\n",
    "Yep, you already know it. I love brute force algorithms so much... though I wouldn't say this is the most naive brute force algorithm, which would be to literally generate all $n!$ permutations. Rather, at every step, it chooses every consistent assignment for the next immediate variable (represented by the variable `idx`). Most of the cose is setting stuff up and pre-computation, but the actual computation time lies squarely in the `csp_backtrack` function which actually branches out from the possible assignments.\n",
    "\n",
    "Essentially, the skeleton of a CSP backtracker is this:\n",
    "\n",
    "__function__ SolveCSP(_assignment_);<br/>\n",
    "    _assignment_ $\\leftarrow$ an incomplete CSP assignment<br/>\n",
    "    <br/>\n",
    "    **if** _assignment is complete_ **then**<br/>\n",
    "        **return** _assignment_<br/>\n",
    "    **end if**<br/>\n",
    "    <br/>\n",
    "    _variable_ $\\leftarrow$ GetNextUnassignedVariable(_assignment_)<br/>\n",
    "    **for each** _value_ $\\in$ GetValues(_variable_) **do**<br/>\n",
    "        _assignment_ $\\leftarrow$ AssignValue(_variable_, _value_)<br/>\n",
    "        **if** SolveCSP(_assignment_) $\\ne$ _FAILURE_ **then**<br/>\n",
    "            **return** _assignment_<br/>\n",
    "        **end if**<br/>\n",
    "        _assignment_ $\\leftarrow$ UnassignValue(_variable_, _value_)<br/>\n",
    "    **end for**<br/>\n",
    "    <br/>\n",
    "    **return** _FAILURE_<br/>"
   ],
   "metadata": {
    "collapsed": false
   }
  },
  {
   "cell_type": "code",
   "execution_count": null,
   "outputs": [],
   "source": [
    "def infer_fields_based_on_ticket_values_brute_force(rule_tuples: tuple[tuple[str, str, str, str, str]], your_ticket: tuple[int, ...], other_tickets: tuple[tuple[int, ...]]) -> tuple[int, ...]:\n",
    "    \"\"\"\n",
    "    Takes a bunch of rules, each containing two non-overlapping, allowed intervals, and several tickets, removes the unsatisfiable ones, and then attempts to infer which field is which\n",
    "    :param rule_tuples: tuple of tuples, each representing a rule; contains a name, then four integers; each pair of two integers represents an interval\n",
    "    :param your_ticket: your ticket; not used specifically in this function, but is treated as any other ticket for the sake of logical deduction\n",
    "    :param other_tickets: the other tickets, each containing a number of integers potentially satisfiable w.r.t. the rule tuples\n",
    "    :return: a tuple consisting of n integers, n being the number of columns, with each integer i representing an assignment of the i'th rule\n",
    "    \"\"\"\n",
    "\n",
    "    # More guardrails\n",
    "    assert len(set([len(ticket) for ticket in other_tickets])) == 1, \"Tickets must all have the same amount of columns\"\n",
    "    assert len(your_ticket) == len(other_tickets[0]), \"Your ticket must have the same number of columns as the others too\"\n",
    "    assert len(rule_tuples) == len(your_ticket), \"There must be an equal number of rules to columns\"\n",
    "\n",
    "    # Number of columns and number of rules\n",
    "    n: int = len(your_ticket)\n",
    "\n",
    "    # Initialize rules using the data in the tuple\n",
    "    rules: list[Rule] = [Rule(name, int(mn_1), int(mx_1), int(mn_2), int(mx_2)) for name, mn_1, mx_1, mn_2, mx_2 in rule_tuples]\n",
    "\n",
    "    # Initialize columns to 0\n",
    "    columns: list[Column] = [Column() for _ in range(n)]\n",
    "\n",
    "    # Gather your ticket with the others for filtering\n",
    "    all_tickets_unclean: tuple[tuple[int, ...], ...] = (*other_tickets, your_ticket)\n",
    "\n",
    "    # Filter the tickets\n",
    "    all_tickets: list[tuple[int, ...], ...] = [ticket for ticket in all_tickets_unclean if get_first_unsatisfiable_value_on_ticket(rules, ticket) is None]\n",
    "\n",
    "    # Populate columns\n",
    "    for ticket in all_tickets:\n",
    "        for col_idx, col_val in enumerate(ticket):\n",
    "            columns[col_idx] += col_val\n",
    "\n",
    "    # Checking if the assignment of rule to column is consistent\n",
    "    @lru_cache(None)\n",
    "    def consistent_assignment(column: Column, rule: Rule) -> bool:\n",
    "\n",
    "        # If there exists a single value outside the external boundaries return false\n",
    "        if column.min < rule.bound_a[0] or column.max > rule.bound_b[1]:\n",
    "            return False\n",
    "\n",
    "        # If the column is completely contained within one of the rules' intervals return true\n",
    "        if (column.min >= rule.bound_a[0] and column.max <= rule.bound_a[1]) or (column.min >= rule.bound_b[0] and column.max <= rule.bound_b[1]):\n",
    "            return True\n",
    "\n",
    "        # If the column is completely contained within the rule's danger zone\n",
    "        if column.min > rule.bound_a[1] and column.max < rule.bound_b[0]:\n",
    "            return False\n",
    "\n",
    "        # Check if the rejection numbers are present in the column\n",
    "        rejection_interval_min, rejection_interval_max = rule.bound_a[1] + 1, rule.bound_b[0] - 1\n",
    "        for potential_rejection in range(rejection_interval_min, rejection_interval_max + 1):\n",
    "            if potential_rejection in column.set:\n",
    "                return False\n",
    "\n",
    "        # Guilty until proven innocent\n",
    "        return True\n",
    "\n",
    "    @lru_cache(None)\n",
    "    def get_column_agreeable_ranking(column_idx: int):\n",
    "        count = 0\n",
    "        for rule_idx in range(n):\n",
    "            if consistent_assignment(columns[column_idx], rules[rule_idx]):\n",
    "                count += 1\n",
    "        return count\n",
    "\n",
    "    # Build up a candidate solution\n",
    "    def csp_backtrack(columns_left: list[int], rules_left: set[int], curr_assignment: list[int]) -> bool:\n",
    "\n",
    "        if len(columns_left) == 0:\n",
    "            return True\n",
    "\n",
    "        column_idx: int = columns_left.pop()\n",
    "\n",
    "        for rule_idx in rules_left:\n",
    "            if consistent_assignment(columns[column_idx], rules[rule_idx]):\n",
    "                curr_assignment[column_idx] = rule_idx\n",
    "                rules_left.remove(rule_idx)\n",
    "                if csp_backtrack(columns_left, rules_left, curr_assignment):\n",
    "                    return True\n",
    "                rules_left.add(rule_idx)\n",
    "                curr_assignment[column_idx] = -1\n",
    "\n",
    "        columns_left.append(column_idx)\n",
    "\n",
    "        return False\n",
    "\n",
    "    new_assignment = [-1] * n\n",
    "    columns_left = sorted(list(range(n)), key=lambda column_idx: get_column_agreeable_ranking(column_idx), reverse=True)\n",
    "    rules_left = set(range(n))\n",
    "\n",
    "    assert csp_backtrack(columns_left, rules_left, new_assignment), \"Function should always find a valid solution\"\n",
    "\n",
    "    for i in range(len(new_assignment)):\n",
    "        assert consistent_assignment(columns[i], rules[new_assignment[i]]), f\"column_idx {i} not consistent with rule_idx {new_assignment[i]}\"\n",
    "\n",
    "    print(f\"Returning valid assignment {new_assignment}\")\n",
    "\n",
    "    return tuple(new_assignment)"
   ],
   "metadata": {
    "collapsed": false
   }
  },
  {
   "cell_type": "code",
   "execution_count": null,
   "outputs": [],
   "source": [
    "%%ipytest -x\n",
    "import pytest\n",
    "\n",
    "def test_bruteforce_csp_example():\n",
    "    example_input = parse_input(\"example2\")\n",
    "    rules_input: tuple[tuple[str, str, str, str, str]] = example_input[0]\n",
    "    your_ticket: tuple[int, ...] = example_input[1]\n",
    "    other_tickets: tuple[tuple[int, ...], ...] = example_input[2]\n",
    "\n",
    "    ticket_assignment: tuple[int, ...] = infer_fields_based_on_ticket_values_brute_force(rules_input, your_ticket, other_tickets)\n",
    "\n",
    "    assert digest_ticket_using_indices(your_ticket, ticket_assignment, (1, 0)) == 132\n",
    "    assert digest_ticket_using_indices(your_ticket, ticket_assignment, (1, 2)) == 143\n",
    "    assert digest_ticket_using_indices(your_ticket, ticket_assignment, (0, 2)) == 156\n",
    "    assert digest_ticket_using_indices(your_ticket, ticket_assignment, (0, 1)) == 132\n",
    "    assert digest_ticket_using_indices(your_ticket, ticket_assignment, (2, 1)) == 143\n",
    "    assert digest_ticket_using_indices(your_ticket, ticket_assignment, (2, 0)) == 156\n",
    "\n",
    "@pytest.mark.parametrize(\"filename, result\", [\n",
    "    (\"input\", 491924517533), (\"input2\", 239727793813), (\"input3\", 3902565915559), (\"input4\", 1382443095281), (\"input5\", 279139880759), (\"input6\", 1515506256421), (\"input7\", 517827547723)\n",
    "])\n",
    "def test_bruteforce_csp_big(filename, result):\n",
    "    print(f\"{filename=} expecting {result}\")\n",
    "    example_input = parse_input(filename)\n",
    "    rules_input: tuple[tuple[str, str, str, str, str]] = example_input[0]\n",
    "    your_ticket: tuple[int, ...] = example_input[1]\n",
    "    other_tickets: tuple[tuple[int, ...], ...] = example_input[2]\n",
    "    ticket_assignment: tuple[int, ...] = infer_fields_based_on_ticket_values_brute_force(rules_input, your_ticket, other_tickets)\n",
    "    assert digest_ticket_using_indices(your_ticket, ticket_assignment, (0, 1, 2, 3, 4, 5)) == result"
   ],
   "metadata": {
    "collapsed": false
   }
  },
  {
   "cell_type": "markdown",
   "source": [
    "It takes about 15 minutes to solve it on my beefy PC. I'm surprised it worked, honestly. But there are a lot of optimizations to make. I had the right idea with making a non-trivial \"consistency\" function, but I feel like we can go further than that."
   ],
   "metadata": {
    "collapsed": false
   }
  }
 ],
 "metadata": {
  "kernelspec": {
   "display_name": "Python 3 (ipykernel)",
   "language": "python",
   "name": "python3"
  },
  "language_info": {
   "codemirror_mode": {
    "name": "ipython",
    "version": 3
   },
   "file_extension": ".py",
   "mimetype": "text/x-python",
   "name": "python",
   "nbconvert_exporter": "python",
   "pygments_lexer": "ipython3",
   "version": "3.10.6"
  }
 },
 "nbformat": 4,
 "nbformat_minor": 1
}
