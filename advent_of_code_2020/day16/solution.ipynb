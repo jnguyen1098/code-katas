{
 "cells": [
  {
   "cell_type": "markdown",
   "source": [
    "# [Advent of Code 2020 Day ?]()\n",
    "\n",
    "?"
   ],
   "metadata": {
    "collapsed": false
   },
   "outputs": []
  },
  {
   "cell_type": "markdown",
   "source": [
    "## Initial setup"
   ],
   "metadata": {
    "collapsed": false
   }
  },
  {
   "cell_type": "code",
   "execution_count": 55,
   "metadata": {},
   "outputs": [],
   "source": [
    "import ipytest\n",
    "import sys\n",
    "sys.path.append(\"..\")\n",
    "from ansi import *\n",
    "from comp import *\n",
    "ipytest.autoconfig()"
   ]
  },
  {
   "cell_type": "markdown",
   "source": [
    "## Input Parsing"
   ],
   "metadata": {
    "collapsed": false
   }
  },
  {
   "cell_type": "code",
   "execution_count": 56,
   "outputs": [],
   "source": [
    "def parse_input(filename: str) -> Any:\n",
    "\n",
    "    gen = yield_line(filename)\n",
    "\n",
    "    result = []\n",
    "    rules = []\n",
    "\n",
    "    while (next_line := next(gen)) != \"\":\n",
    "        rules.append(parse(f\"(.+): (\\d+)\\-(\\d+)\\ or (\\d+)\\-(\\d+)\", next_line))\n",
    "\n",
    "    assert next(gen).startswith(\"your ticket:\")\n",
    "\n",
    "    your_ticket = intsep(next(gen), \",\")\n",
    "\n",
    "    assert next(gen) == \"\"\n",
    "    assert next(gen).startswith(\"nearby tickets:\")\n",
    "\n",
    "    other_tickets = []\n",
    "\n",
    "    for line in gen:\n",
    "        other_tickets.append(intsep(line, \",\"))\n",
    "\n",
    "    return rules, your_ticket, other_tickets"
   ],
   "metadata": {
    "collapsed": false
   }
  },
  {
   "cell_type": "markdown",
   "source": [
    "## Part 1\n",
    "Lorem ipsum"
   ],
   "metadata": {
    "collapsed": false
   }
  },
  {
   "cell_type": "code",
   "execution_count": 57,
   "outputs": [],
   "source": [
    "def part_one(data: Any) -> int | str:\n",
    "    rules, your_ticket, other_tickets = data\n",
    "\n",
    "    def validate_rule(idx: int, value: int):\n",
    "        name, min_a, max_a, min_b, max_b = rules[idx]\n",
    "        return int(min_a) <= int(value) <= int(max_a) or int(min_b) <= int(value) <= int(max_b)\n",
    "\n",
    "    def validate_rules(value: int):\n",
    "        for i in range(len(rules)):\n",
    "            if validate_rule(i, value):\n",
    "                return True\n",
    "        return False\n",
    "\n",
    "    result = 0\n",
    "\n",
    "    for ticket in other_tickets:\n",
    "        for idx, value in enumerate(ticket):\n",
    "            if not validate_rules(value):\n",
    "                result += value\n",
    "\n",
    "    return result"
   ],
   "metadata": {
    "collapsed": false
   }
  },
  {
   "cell_type": "code",
   "execution_count": 58,
   "outputs": [
    {
     "name": "stdout",
     "output_type": "stream",
     "text": [
      "\u001B[32m.\u001B[0m\u001B[32m                                                                                            [100%]\u001B[0m\n",
      "\u001B[32m\u001B[32m\u001B[1m1 passed\u001B[0m\u001B[32m in 0.01s\u001B[0m\u001B[0m\n"
     ]
    }
   ],
   "source": [
    "%%ipytest\n",
    "def test_part_one():\n",
    "    assert part_one(parse_input(\"example1\")) == 71\n",
    "    assert part_one(parse_input(\"input\")) == 27850"
   ],
   "metadata": {
    "collapsed": false
   }
  },
  {
   "cell_type": "markdown",
   "source": [
    "## Part 2\n",
    "Lorem ipsum"
   ],
   "metadata": {
    "collapsed": false
   }
  },
  {
   "cell_type": "code",
   "execution_count": 59,
   "outputs": [],
   "source": [
    "def part_two(data: Any) -> int | str:\n",
    "    return 0x3f3f3f3f + 2"
   ],
   "metadata": {
    "collapsed": false
   }
  },
  {
   "cell_type": "code",
   "execution_count": 60,
   "outputs": [
    {
     "name": "stdout",
     "output_type": "stream",
     "text": [
      "\u001B[32m.\u001B[0m\u001B[32m                                                                                            [100%]\u001B[0m\n",
      "\u001B[32m\u001B[32m\u001B[1m1 passed\u001B[0m\u001B[32m in 0.01s\u001B[0m\u001B[0m\n"
     ]
    }
   ],
   "source": [
    "%%ipytest\n",
    "def test_part_two():\n",
    "    assert part_two(parse_input(\"example1\")) == 0x3f3f3f3f + 2\n",
    "    assert part_two(parse_input(\"input\")) == 0x3f3f3f3f + 2"
   ],
   "metadata": {
    "collapsed": false
   }
  }
 ],
 "metadata": {
  "kernelspec": {
   "display_name": "Python 3 (ipykernel)",
   "language": "python",
   "name": "python3"
  },
  "language_info": {
   "codemirror_mode": {
    "name": "ipython",
    "version": 3
   },
   "file_extension": ".py",
   "mimetype": "text/x-python",
   "name": "python",
   "nbconvert_exporter": "python",
   "pygments_lexer": "ipython3",
   "version": "3.10.6"
  }
 },
 "nbformat": 4,
 "nbformat_minor": 1
}
