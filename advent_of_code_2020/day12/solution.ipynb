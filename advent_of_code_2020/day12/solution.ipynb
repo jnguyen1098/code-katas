{
 "cells": [
  {
   "cell_type": "markdown",
   "source": [
    "# [Advent of Code 2020 Day 12](https://adventofcode.com/2020/day/12#part2)\n",
    "\n",
    "Oh boy, directional questions. I always have a bittersweet relationship with these because they're so hard to visualize (despite being... visual), but they're so satisfying once you actually get it."
   ],
   "metadata": {
    "collapsed": false
   },
   "outputs": []
  },
  {
   "cell_type": "markdown",
   "source": [
    "## Initial setup"
   ],
   "metadata": {
    "collapsed": false
   }
  },
  {
   "cell_type": "code",
   "execution_count": 1,
   "metadata": {},
   "outputs": [],
   "source": [
    "import ipytest\n",
    "import sys\n",
    "sys.path.append(\"..\")\n",
    "from ansi import *\n",
    "from comp import *\n",
    "ipytest.autoconfig()"
   ]
  },
  {
   "cell_type": "markdown",
   "source": [
    "## Input Parsing"
   ],
   "metadata": {
    "collapsed": false
   }
  },
  {
   "cell_type": "code",
   "execution_count": 2,
   "outputs": [],
   "source": [
    "def parse_input(filename: str) -> Any:\n",
    "\n",
    "    gen = yield_line(filename)\n",
    "\n",
    "    result = []\n",
    "\n",
    "    for line in gen:\n",
    "        result.append(parse(r\"([NSEWLRF])(.*)\", line))\n",
    "\n",
    "    result = [(direction, int(magnitude)) for direction, magnitude in result]\n",
    "\n",
    "    return result"
   ],
   "metadata": {
    "collapsed": false
   }
  },
  {
   "cell_type": "markdown",
   "source": [
    "## Part 1\n",
    "Just doing things the straightforward way. Though with some other quirks:\n",
    "- Modular arithmetic so I can branchlessly handle turning\n",
    "- Coordinates used to store direction and magnitude"
   ],
   "metadata": {
    "collapsed": false
   }
  },
  {
   "cell_type": "code",
   "execution_count": 3,
   "outputs": [],
   "source": [
    "def part_one(data: list[tuple[str, int]]) -> int | str:\n",
    "\n",
    "    directions = (\n",
    "        (0, 1), (1, 0), (0, -1), (-1, 0)\n",
    "    )\n",
    "\n",
    "    east, south, west, north = directions\n",
    "\n",
    "    absolute_direction = {\n",
    "        \"N\": north, \"S\": south, \"E\": east, \"W\": west,\n",
    "    }\n",
    "\n",
    "    dir_index = 0\n",
    "    x, y = 0, 0\n",
    "\n",
    "    def turn(degrees: int) -> None:\n",
    "        nonlocal dir_index\n",
    "        assert degrees in [90, 180, 270, 360]\n",
    "        dir_index = (dir_index + (degrees // 90)) % 4\n",
    "\n",
    "    for direction, magnitude in data:\n",
    "        if direction in \"NSEW\":\n",
    "            dx, dy = absolute_direction[direction]\n",
    "            for _ in range(magnitude):\n",
    "                x += dx\n",
    "                y += dy\n",
    "        elif direction == \"L\":\n",
    "            turn(360 - magnitude)\n",
    "        elif direction == \"R\":\n",
    "            turn(magnitude)\n",
    "        elif direction == \"F\":\n",
    "            dx, dy = directions[dir_index]\n",
    "            for _ in range(magnitude):\n",
    "                x += dx\n",
    "                y += dy\n",
    "        else:\n",
    "            raise Exception(f\"Invalid direction {direction}\")\n",
    "\n",
    "    return abs(x) + abs(y)"
   ],
   "metadata": {
    "collapsed": false
   }
  },
  {
   "cell_type": "code",
   "execution_count": 4,
   "outputs": [
    {
     "name": "stdout",
     "output_type": "stream",
     "text": [
      "\u001B[32m.\u001B[0m\u001B[32m                                                                                            [100%]\u001B[0m\n",
      "\u001B[32m\u001B[32m\u001B[1m1 passed\u001B[0m\u001B[32m in 0.01s\u001B[0m\u001B[0m\n"
     ]
    }
   ],
   "source": [
    "%%ipytest\n",
    "def test_part_one():\n",
    "    assert part_one([(\"F\", 10)]) == 10\n",
    "    assert part_one([(\"F\", 10), (\"N\", 3)]) == 13\n",
    "    assert part_one([(\"F\", 10), (\"N\", 3), (\"F\", 7)]) == 20\n",
    "    assert part_one([(\"F\", 10), (\"N\", 3), (\"F\", 7), (\"R\", 90)]) == 20\n",
    "    assert part_one([(\"F\", 10), (\"N\", 3), (\"F\", 7), (\"R\", 90), (\"F\", 11)]) == 25\n",
    "    assert part_one(parse_input(\"example1\")) == 25\n",
    "    assert part_one(parse_input(\"input\")) == 2270"
   ],
   "metadata": {
    "collapsed": false
   }
  },
  {
   "cell_type": "markdown",
   "source": [
    "## Part 2\n",
    "Had to whip out my Desmos for this. The only differences were:\n",
    "  - Waypoint exists as a custom directional bearing; fortunately I've been using this method of displacement since part one, so it was a trivial change\n",
    "  - \"F\" had to be changed"
   ],
   "metadata": {
    "collapsed": false
   }
  },
  {
   "cell_type": "code",
   "execution_count": 5,
   "outputs": [],
   "source": [
    "def part_two(data: list[tuple[str, int]]) -> int | str:\n",
    "\n",
    "    directions = (\n",
    "        (0, 1), (1, 0), (0, -1), (-1, 0)\n",
    "    )\n",
    "\n",
    "    east, south, west, north = directions\n",
    "\n",
    "    absolute_direction = {\n",
    "        \"N\": north, \"S\": south, \"E\": east, \"W\": west,\n",
    "    }\n",
    "\n",
    "    x, y = 0, 0\n",
    "    waypoint_x, waypoint_y = -1, 10\n",
    "\n",
    "    def turn(degrees: int) -> None:\n",
    "        nonlocal waypoint_x, waypoint_y\n",
    "        assert degrees in [90, 180, 270, 360]\n",
    "        for _ in range(degrees // 90):\n",
    "            waypoint_x, waypoint_y = waypoint_y, -waypoint_x\n",
    "\n",
    "    for direction, magnitude in data:\n",
    "        if direction in \"NSEW\":\n",
    "            dx, dy = absolute_direction[direction]\n",
    "            for _ in range(magnitude):\n",
    "                waypoint_x += dx\n",
    "                waypoint_y += dy\n",
    "        elif direction == \"L\":\n",
    "            turn(360 - magnitude)\n",
    "        elif direction == \"R\":\n",
    "            turn(magnitude)\n",
    "        elif direction == \"F\":\n",
    "            dx, dy = waypoint_x, waypoint_y\n",
    "            for _ in range(magnitude):\n",
    "                x += dx\n",
    "                y += dy\n",
    "        else:\n",
    "            raise Exception(f\"Invalid direction {direction}\")\n",
    "\n",
    "    return abs(x) + abs(y)"
   ],
   "metadata": {
    "collapsed": false
   }
  },
  {
   "cell_type": "code",
   "execution_count": 6,
   "outputs": [
    {
     "name": "stdout",
     "output_type": "stream",
     "text": [
      "\u001B[32m.\u001B[0m\u001B[32m                                                                                            [100%]\u001B[0m\n",
      "\u001B[32m\u001B[32m\u001B[1m1 passed\u001B[0m\u001B[32m in 0.01s\u001B[0m\u001B[0m\n"
     ]
    }
   ],
   "source": [
    "%%ipytest\n",
    "def test_part_two():\n",
    "    assert part_two(parse_input(\"example1\")) == 286\n",
    "    assert part_two(parse_input(\"input\")) == 138669"
   ],
   "metadata": {
    "collapsed": false
   }
  }
 ],
 "metadata": {
  "kernelspec": {
   "display_name": "Python 3 (ipykernel)",
   "language": "python",
   "name": "python3"
  },
  "language_info": {
   "codemirror_mode": {
    "name": "ipython",
    "version": 3
   },
   "file_extension": ".py",
   "mimetype": "text/x-python",
   "name": "python",
   "nbconvert_exporter": "python",
   "pygments_lexer": "ipython3",
   "version": "3.10.6"
  }
 },
 "nbformat": 4,
 "nbformat_minor": 1
}
