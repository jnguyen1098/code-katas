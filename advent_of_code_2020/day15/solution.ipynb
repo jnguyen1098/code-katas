{
 "cells": [
  {
   "cell_type": "markdown",
   "source": [
    "# [Advent of Code 2020 Day 15](https://adventofcode.com/2020/day/15)\n",
    "\n",
    "Now this looks like one of those fun logic game questions you see on LeetCode solved either using DP or some insane deductive math."
   ],
   "metadata": {
    "collapsed": false
   },
   "outputs": []
  },
  {
   "cell_type": "markdown",
   "source": [
    "## Initial setup"
   ],
   "metadata": {
    "collapsed": false
   }
  },
  {
   "cell_type": "code",
   "execution_count": 106,
   "metadata": {},
   "outputs": [],
   "source": [
    "import ipytest\n",
    "import sys\n",
    "sys.path.append(\"..\")\n",
    "from ansi import *\n",
    "from comp import *\n",
    "ipytest.autoconfig()"
   ]
  },
  {
   "cell_type": "markdown",
   "source": [
    "## Input Parsing\n",
    "The inputs are small enough to send directly."
   ],
   "metadata": {
    "collapsed": false
   }
  },
  {
   "cell_type": "markdown",
   "source": [
    "## Part 1\n",
    "Lorem ipsum"
   ],
   "metadata": {
    "collapsed": false
   }
  },
  {
   "cell_type": "code",
   "execution_count": 107,
   "outputs": [],
   "source": [
    "def part_one(data: str, turns: int = 2020) -> int | str:\n",
    "\n",
    "    assert turns > 0\n",
    "\n",
    "    nums: list[int] = intsep(data, \",\")\n",
    "    record: dict[int, list] = defaultdict(list)\n",
    "    speech: list[int] = []\n",
    "\n",
    "    for idx, num in enumerate(nums):\n",
    "        speech.append(num)\n",
    "        record[num].append(idx + 1)\n",
    "\n",
    "    if turns <= len(nums):\n",
    "        return nums[turns - 1]\n",
    "\n",
    "    for i in range(len(nums) + 1, turns + 5):\n",
    "        if len(hit_list := (record.get(last_num_spoken := speech[-1]))) == 1:\n",
    "            record[0].append(i)\n",
    "            speech.append(0)\n",
    "        else:\n",
    "            to_speak = hit_list[-1] - hit_list[-2]\n",
    "            record[to_speak].append(i)\n",
    "            speech.append(to_speak)\n",
    "        #print(f\"on turn {i}, {speech[-1]} was spoken\")\n",
    "\n",
    "    return speech[turns - 1]"
   ],
   "metadata": {
    "collapsed": false
   }
  },
  {
   "cell_type": "code",
   "execution_count": 108,
   "outputs": [
    {
     "name": "stdout",
     "output_type": "stream",
     "text": [
      "\u001B[32m.\u001B[0m\u001B[32m.\u001B[0m\u001B[32m.\u001B[0m\u001B[32m                                                                                          [100%]\u001B[0m\n",
      "\u001B[32m\u001B[32m\u001B[1m3 passed\u001B[0m\u001B[32m in 0.01s\u001B[0m\u001B[0m\n"
     ]
    }
   ],
   "source": [
    "%%ipytest\n",
    "def test_part_one_step_by_step():\n",
    "    assert part_one(\"0,3,6\", turns=1) == 0\n",
    "    assert part_one(\"0,3,6\", turns=2) == 3\n",
    "    assert part_one(\"0,3,6\", turns=3) == 6\n",
    "    assert part_one(\"0,3,6\", turns=4) == 0\n",
    "    assert part_one(\"0,3,6\", turns=5) == 3\n",
    "    assert part_one(\"0,3,6\", turns=6) == 3\n",
    "    assert part_one(\"0,3,6\", turns=7) == 1\n",
    "    assert part_one(\"0,3,6\", turns=8) == 0\n",
    "    assert part_one(\"0,3,6\", turns=9) == 4\n",
    "    assert part_one(\"0,3,6\", turns=10) == 0\n",
    "\n",
    "def test_part_one_examples_2020():\n",
    "    assert part_one(\"0,3,6\") == 436\n",
    "    assert part_one(\"1,3,2\") == 1\n",
    "    assert part_one(\"2,1,3\") == 10\n",
    "    assert part_one(\"1,2,3\") == 27\n",
    "    assert part_one(\"2,3,1\") == 78\n",
    "    assert part_one(\"3,2,1\") == 438\n",
    "    assert part_one(\"3,1,2\") == 1836\n",
    "\n",
    "def test_part_one():\n",
    "    assert part_one(\"1,20,8,12,0,14\") == 492"
   ],
   "metadata": {
    "collapsed": false
   }
  },
  {
   "cell_type": "markdown",
   "source": [
    "## Part 2\n",
    "Lorem ipsum"
   ],
   "metadata": {
    "collapsed": false
   }
  },
  {
   "cell_type": "code",
   "execution_count": 109,
   "outputs": [],
   "source": [
    "def part_two(data: Any) -> int | str:\n",
    "    return 0x3f3f3f3f + 2"
   ],
   "metadata": {
    "collapsed": false
   }
  },
  {
   "cell_type": "code",
   "execution_count": 110,
   "outputs": [
    {
     "name": "stdout",
     "output_type": "stream",
     "text": [
      "\u001B[31mF\u001B[0m\u001B[31m                                                                                            [100%]\u001B[0m\n",
      "============================================ FAILURES =============================================\n",
      "\u001B[31m\u001B[1m__________________________________________ test_part_two __________________________________________\u001B[0m\n",
      "\n",
      "    \u001B[94mdef\u001B[39;49;00m \u001B[92mtest_part_two\u001B[39;49;00m():\n",
      ">       \u001B[94massert\u001B[39;49;00m part_two(parse_input(\u001B[33m\"\u001B[39;49;00m\u001B[33mexample1\u001B[39;49;00m\u001B[33m\"\u001B[39;49;00m)) == \u001B[94m0x3f3f3f3f\u001B[39;49;00m + \u001B[94m2\u001B[39;49;00m\n",
      "\u001B[1m\u001B[31mE       NameError: name 'parse_input' is not defined\u001B[0m\n",
      "\n",
      "\u001B[1m\u001B[31mC:\\Users\\Jason\\AppData\\Local\\Temp\\ipykernel_37176\\4276842607.py\u001B[0m:2: NameError\n",
      "===================================== short test summary info =====================================\n",
      "FAILED tmpv83ruvq0.py::test_part_two - NameError: name 'parse_input' is not defined\n",
      "\u001B[31m\u001B[31m\u001B[1m1 failed\u001B[0m\u001B[31m in 0.01s\u001B[0m\u001B[0m\n"
     ]
    }
   ],
   "source": [
    "%%ipytest\n",
    "def test_part_two():\n",
    "    assert part_two(parse_input(\"example1\")) == 0x3f3f3f3f + 2\n",
    "    assert part_two(parse_input(\"input\")) == 0x3f3f3f3f + 2"
   ],
   "metadata": {
    "collapsed": false
   }
  }
 ],
 "metadata": {
  "kernelspec": {
   "display_name": "Python 3 (ipykernel)",
   "language": "python",
   "name": "python3"
  },
  "language_info": {
   "codemirror_mode": {
    "name": "ipython",
    "version": 3
   },
   "file_extension": ".py",
   "mimetype": "text/x-python",
   "name": "python",
   "nbconvert_exporter": "python",
   "pygments_lexer": "ipython3",
   "version": "3.10.6"
  }
 },
 "nbformat": 4,
 "nbformat_minor": 1
}
