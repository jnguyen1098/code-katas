{
 "cells": [
  {
   "cell_type": "markdown",
   "source": [
    "# [Advent of Code 2020 Day 15](https://adventofcode.com/2020/day/15)\n",
    "\n",
    "Now this looks like one of those fun logic game questions you see on LeetCode solved either using DP or some insane deductive math."
   ],
   "metadata": {
    "collapsed": false
   },
   "outputs": []
  },
  {
   "cell_type": "markdown",
   "source": [
    "## Initial setup"
   ],
   "metadata": {
    "collapsed": false
   }
  },
  {
   "cell_type": "code",
   "execution_count": 1,
   "metadata": {},
   "outputs": [],
   "source": [
    "import ipytest\n",
    "import sys\n",
    "sys.path.append(\"..\")\n",
    "from ansi import *\n",
    "from comp import *\n",
    "ipytest.autoconfig()"
   ]
  },
  {
   "cell_type": "markdown",
   "source": [
    "## Input Parsing\n",
    "The inputs are small enough to send directly."
   ],
   "metadata": {
    "collapsed": false
   }
  },
  {
   "cell_type": "markdown",
   "source": [
    "## Part 1\n",
    "Lorem ipsum"
   ],
   "metadata": {
    "collapsed": false
   }
  },
  {
   "cell_type": "code",
   "execution_count": 2,
   "outputs": [],
   "source": [
    "def part_one(data: str, turns: int = 2020) -> int | str:\n",
    "\n",
    "    assert turns > 0\n",
    "\n",
    "    nums: list[int] = intsep(data, \",\")\n",
    "    record: dict[int, list] = defaultdict(list)\n",
    "    speech: list[int] = []\n",
    "\n",
    "    for idx, num in enumerate(nums):\n",
    "        speech.append(num)\n",
    "        record[num].append(idx + 1)\n",
    "\n",
    "    if turns <= len(nums):\n",
    "        return nums[turns - 1]\n",
    "\n",
    "    for i in range(len(nums) + 1, turns + 5):\n",
    "        if len(hit_list := (record.get(last_num_spoken := speech[-1]))) == 1:\n",
    "            #print(f\"f({i}) => {last_num_spoken}, -1, -1 -> 0\")\n",
    "            record[0].append(i)\n",
    "            speech.append(0)\n",
    "        else:\n",
    "            to_speak = hit_list[-1] - hit_list[-2]\n",
    "            #print(f\"f({i}) => {last_num_spoken}, {hit_list[-1]}, {hit_list[-2]} -> {to_speak}\")\n",
    "            record[to_speak].append(i)\n",
    "            speech.append(to_speak)\n",
    "\n",
    "    return speech[turns - 1]"
   ],
   "metadata": {
    "collapsed": false
   }
  },
  {
   "cell_type": "code",
   "execution_count": 3,
   "outputs": [
    {
     "name": "stdout",
     "output_type": "stream",
     "text": [
      "\u001B[32m.\u001B[0m\u001B[32m.\u001B[0m\u001B[32m.\u001B[0m\u001B[32m                                                                                          [100%]\u001B[0m\n",
      "\u001B[32m\u001B[32m\u001B[1m3 passed\u001B[0m\u001B[32m in 0.01s\u001B[0m\u001B[0m\n"
     ]
    }
   ],
   "source": [
    "%%ipytest\n",
    "def test_part_one_step_by_step():\n",
    "    assert part_one(\"0,3,6\", turns=1) == 0\n",
    "    assert part_one(\"0,3,6\", turns=2) == 3\n",
    "    assert part_one(\"0,3,6\", turns=3) == 6\n",
    "    assert part_one(\"0,3,6\", turns=4) == 0\n",
    "    assert part_one(\"0,3,6\", turns=5) == 3\n",
    "    assert part_one(\"0,3,6\", turns=6) == 3\n",
    "    assert part_one(\"0,3,6\", turns=7) == 1\n",
    "    assert part_one(\"0,3,6\", turns=8) == 0\n",
    "    assert part_one(\"0,3,6\", turns=9) == 4\n",
    "    assert part_one(\"0,3,6\", turns=10) == 0\n",
    "\n",
    "def test_part_one_examples_2020():\n",
    "    assert part_one(\"0,3,6\") == 436\n",
    "    assert part_one(\"1,3,2\") == 1\n",
    "    assert part_one(\"2,1,3\") == 10\n",
    "    assert part_one(\"1,2,3\") == 27\n",
    "    assert part_one(\"2,3,1\") == 78\n",
    "    assert part_one(\"3,2,1\") == 438\n",
    "    assert part_one(\"3,1,2\") == 1836\n",
    "\n",
    "def test_part_one():\n",
    "    assert part_one(\"1,20,8,12,0,14\") == 492"
   ],
   "metadata": {
    "collapsed": false
   }
  },
  {
   "cell_type": "markdown",
   "source": [
    "## Part 2\n",
    "LUL I fucking knew it, I knew they'd do this, fuck. Time to bring out the ol' math hat.\n",
    "\n",
    "What can a recurrence relation be for this question? It'd obviously have to start off top-down. Obviously the base case would be if you ask for a turn number for when the game hasn't started:\n",
    "```\n",
    "function f(turn_number, starting_numbers) is:\n",
    "    if turn_number doesn't exceed the starting numbers:\n",
    "        return the starting number corresponding to the turn_number\n",
    "    else:\n",
    "        ?????\n",
    "```\n",
    "Dynamic programming only really shines when we have:\n",
    "- Optimal substructure, and\n",
    "- Overlapping sub-problems\n",
    "\n",
    "what could we reify here? Let's trace back a bit and look at the starting example, `[0, 3, 6]`:\n",
    "1. This is a starting index, so we say 0\n",
    "2. This is a starting index, so we say 3\n",
    "3. This is a starting index, so we say 6\n",
    "4. Take the last number, 6. It's the first time we've stated it, so we say 0.\n",
    "5. Take the last number, 0. We've stated it twice, on turns 4 and 1, so we say 4 - 1 = 3\n",
    "6. Take the last number, 3. We've stated it twice, on turns 5 and 2, so we say 5 - 2 = 3\n",
    "7. Take the last number, 3. We've stated it twice, on turns 6 and 5, so we say 6 - 5 = 1\n",
    "8. Take the last number, 1. It's the first time we've stated it, so we say 0.\n",
    "9. Take the last number, 0. We've stated it twice, on turns 8 and 4, so we say 8 - 4 = 4.\n",
    "10. Take the last number, 4. It's the first time we've stated it, so we say 0.\n",
    "\n",
    "$f(n)$ will rely on the value of $f(n - 1)$, which then relies on $f(n - 2)$. Well no shit... lmao. But this isn't getting anywhere. What other logical deductions can we make?\n",
    "- Every new number is immediately proceeded by a 0\n",
    "  - This means if there are $s$ starting numbers, $f(s+1)=0$\n",
    "  - ...\n",
    "\n",
    "This isn't really getting anywhere. Usually how I like to cheese DP questions is I think of as few discriminating states as possible and try to parametrize those. We can find overlapping sub-problems from that point on; we can see in the examples on the page, and in my examples, and in my outputs, that numbers do repeat. So maybe we can capture that?\n",
    "\n",
    "Looking at turns 4+ in the example above, we see the following inputs:\n",
    "- Last number,\n",
    "- Last number's most recent occurrence, and\n",
    "- Last number's second most recent occurrence\n",
    "\n",
    "and if we represent non-existence as whitespace, then we can then look at the inputs starting at 4 as:\n",
    "```\n",
    " call          ( prv  |  t1  |  t2  )    =>    ans\n",
    "f( 4)    =>    (   6  |      |      )    =>     0\n",
    "f( 5)    =>    (   0  |   4  |   1  )    =>     3\n",
    "f( 6)    =>    (   3  |   5  |   2  )    =>     3\n",
    "f( 7)    =>    (   3  |   6  |   5  )    =>     1\n",
    "f( 8)    =>    (   1  |      |      )    =>     0\n",
    "f( 9)    =>    (   0  |   8  |   4  )    =>     4\n",
    "f(10)    =>    (   4  |      |      )    =>     0\n",
    "f(11)    =>    (   0  |  10  |   8  )    =>     2\n",
    "f(12)    =>    (   2  |      |      )    =>     0\n",
    "f(13)    =>    (   0  |  12  |  10  )    =>     2\n",
    "f(14)    =>    (   2  |  13  |  11  )    =>     2\n",
    "f(15)    =>    (   2  |  14  |  13  )    =>     1\n",
    "f(16)    =>    (   1  |  15  |   7  )    =>     8\n",
    "f(17)    =>    (   8  |      |      )    =>     0\n",
    "f(18)    =>    (   0  |  17  |  12  )    =>     5\n",
    "f(19)    =>    (   5  |      |      )    =>     0\n",
    "f(20)    =>    (   0  |  19  |  17  )    =>     2\n",
    "```\n",
    "\n",
    "we notice that:\n",
    "- the two indices for $f(n)$ are always smaller than $n$\n",
    "- the second index is always smaller than the first one\n",
    "- in other words, for $f(n)=$, $n \\lt t_1 \\lt t_2$\n",
    "\n",
    "...\n",
    "\n",
    "OK, I took a half-day break, but now I'm back. I'm going to continue staring at it until it speaks to me (or I die). This one's for `[2, 1, 3]`.\n",
    "\n",
    "```\n",
    "f(4) => 3, -1, -1 -> 0\n",
    "f(5) => 0, -1, -1 -> 0\n",
    "f(6) => 0, 5, 4 -> 1\n",
    "f(7) => 1, 6, 2 -> 4\n",
    "f(8) => 4, -1, -1 -> 0\n",
    "f(9) => 0, 8, 5 -> 3\n",
    "f(10) => 3, 9, 3 -> 6\n",
    "f(11) => 6, -1, -1 -> 0\n",
    "f(12) => 0, 11, 8 -> 3\n",
    "f(13) => 3, 12, 9 -> 3\n",
    "f(14) => 3, 13, 12 -> 1\n",
    "f(15) => 1, 14, 6 -> 8\n",
    "f(16) => 8, -1, -1 -> 0\n",
    "f(17) => 0, 16, 11 -> 5\n",
    "f(18) => 5, -1, -1 -> 0\n",
    "f(19) => 0, 18, 16 -> 2\n",
    "f(20) => 2, 19, 1 -> 18\n",
    "f(21) => 18, -1, -1 -> 0\n",
    "f(22) => 0, 21, 18 -> 3\n",
    "f(23) => 3, 22, 13 -> 9\n",
    "f(24) => 9, -1, -1 -> 0\n",
    "f(25) => 0, 24, 21 -> 3\n",
    "f(26) => 3, 25, 22 -> 3\n",
    "f(27) => 3, 26, 25 -> 1\n",
    "f(28) => 1, 27, 14 -> 13\n",
    "f(29) => 13, -1, -1 -> 0\n",
    "f(30) => 0, 29, 24 -> 5\n",
    "f(31) => 5, 30, 17 -> 13\n",
    "f(32) => 13, 31, 28 -> 3\n",
    "f(33) => 3, 32, 26 -> 6\n",
    "f(34) => 6, 33, 10 -> 23\n",
    "f(35) => 23, -1, -1 -> 0\n",
    "f(36) => 0, 35, 29 -> 6\n",
    "f(37) => 6, 36, 33 -> 3\n",
    "f(38) => 3, 37, 32 -> 5\n",
    "f(39) => 5, 38, 30 -> 8\n",
    "f(40) => 8, 39, 15 -> 24\n",
    "f(41) => 24, -1, -1 -> 0\n",
    "f(42) => 0, 41, 35 -> 6\n",
    "f(43) => 6, 42, 36 -> 6\n",
    "f(44) => 6, 43, 42 -> 1\n",
    "f(45) => 1, 44, 27 -> 17\n",
    "f(46) => 17, -1, -1 -> 0\n",
    "f(47) => 0, 46, 41 -> 5\n",
    "f(48) => 5, 47, 38 -> 9\n",
    "f(49) => 9, 48, 23 -> 25\n",
    "f(50) => 25, -1, -1 -> 0\n",
    "f(51) => 0, 50, 46 -> 4\n",
    "f(52) => 4, 51, 7 -> 44\n",
    "f(53) => 44, -1, -1 -> 0\n",
    "f(54) => 0, 53, 50 -> 3\n",
    "```\n",
    "\n",
    "agh fuck it, I'm just gonna wait it out"
   ],
   "metadata": {
    "collapsed": false
   }
  },
  {
   "cell_type": "code",
   "execution_count": 4,
   "outputs": [],
   "source": [
    "def part_two(data: str, turns: int = 30000000) -> int | str:\n",
    "\n",
    "    assert turns > 0\n",
    "\n",
    "    nums: list[int] = intsep(data, \",\")\n",
    "    record: dict[int, list] = defaultdict(list)\n",
    "    speech: list[int] = [0] * (turns + len(nums) + 1)\n",
    "\n",
    "    for idx, num in enumerate(nums):\n",
    "        speech[idx] = num\n",
    "        record[num].append(idx + 1)\n",
    "\n",
    "    if turns <= len(nums):\n",
    "        return nums[turns - 1]\n",
    "\n",
    "    for i in range(len(nums) + 1, turns + 5):\n",
    "        if len(hit_list := (record.get(last_num_spoken := speech[i - 2]))) == 1:\n",
    "            record[0].append(i)\n",
    "            speech[i - 1] = 0\n",
    "        else:\n",
    "            to_speak = hit_list[-1] - hit_list[-2]\n",
    "            record[to_speak].append(i)\n",
    "            speech[i - 1] = to_speak\n",
    "\n",
    "    return speech[turns - 1]"
   ],
   "metadata": {
    "collapsed": false
   }
  },
  {
   "cell_type": "code",
   "execution_count": 5,
   "outputs": [
    {
     "name": "stdout",
     "output_type": "stream",
     "text": [
      "\u001B[32m.\u001B[0m\u001B[32m                                                                                            [100%]\u001B[0m\n",
      "\u001B[32m\u001B[32m\u001B[1m1 passed\u001B[0m\u001B[32m in 21.02s\u001B[0m\u001B[0m\n"
     ]
    }
   ],
   "source": [
    "%%ipytest\n",
    "def test_part_two():\n",
    "    assert part_two(\"1,20,8,12,0,14\") == 63644"
   ],
   "metadata": {
    "collapsed": false
   }
  },
  {
   "cell_type": "markdown",
   "source": [
    "that...took way less time than I anticipated...\n",
    "\n",
    "Looking on Reddit, it appears I trolled myself for several hours today... there is no efficient big-brained, mathy, combinatorial bottom-up tabulated DP-optimized solution...\n",
    "\n",
    ">>> The sequence appears to be the Van Eck sequence (see this fantastic Numberphile video on it). To my surprise, there doesn't seem to be an efficient algorithm for generating the sequence. The sequence does not repeat, nor does it have a known pattern that would help with generating. Many people (a lot smarter than I am) have taken up the challenge to find a more efficient method, but without result. This means I don't have to give it a try. Instead, I have to be careful to use the correct logic and data structures to keep my sequence generator as fast as possible.\n",
    "\n",
    "[Fuck me man](https://timvisee.com/blog/solving-aoc-2020-in-under-a-second/)"
   ],
   "metadata": {
    "collapsed": false
   }
  }
 ],
 "metadata": {
  "kernelspec": {
   "display_name": "Python 3 (ipykernel)",
   "language": "python",
   "name": "python3"
  },
  "language_info": {
   "codemirror_mode": {
    "name": "ipython",
    "version": 3
   },
   "file_extension": ".py",
   "mimetype": "text/x-python",
   "name": "python",
   "nbconvert_exporter": "python",
   "pygments_lexer": "ipython3",
   "version": "3.10.6"
  }
 },
 "nbformat": 4,
 "nbformat_minor": 1
}
