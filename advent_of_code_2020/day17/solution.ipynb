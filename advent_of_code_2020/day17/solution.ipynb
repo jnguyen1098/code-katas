{
 "cells": [
  {
   "cell_type": "markdown",
   "source": [
    "# [Advent of Code 2020 Day 17](https://adventofcode.com/2020/day/17)\n",
    "\n",
    "oh no"
   ],
   "metadata": {
    "collapsed": false
   },
   "outputs": []
  },
  {
   "cell_type": "markdown",
   "source": [
    "## Initial setup"
   ],
   "metadata": {
    "collapsed": false
   }
  },
  {
   "cell_type": "code",
   "execution_count": 7,
   "metadata": {},
   "outputs": [],
   "source": [
    "import ipytest\n",
    "import sys\n",
    "sys.path.append(\"..\")\n",
    "from ansi import *\n",
    "from comp import *\n",
    "ipytest.autoconfig()"
   ]
  },
  {
   "cell_type": "markdown",
   "source": [
    "## Input Parsing"
   ],
   "metadata": {
    "collapsed": false
   }
  },
  {
   "cell_type": "code",
   "execution_count": 8,
   "outputs": [],
   "source": [
    "def parse_input(filename: str) -> list[tuple[int, int, int]]:\n",
    "\n",
    "    gen = yield_line(filename)\n",
    "\n",
    "    grid = []\n",
    "\n",
    "    for line in gen:\n",
    "        grid.append(line)\n",
    "\n",
    "    coords: list[tuple[int, int, int]] = []\n",
    "\n",
    "    for x in range(len(grid)):\n",
    "        for y in range(len(grid[x])):\n",
    "            if grid[x][y] == \"#\":\n",
    "                coords.append((x, y, 0))\n",
    "\n",
    "    return coords"
   ],
   "metadata": {
    "collapsed": false
   }
  },
  {
   "cell_type": "markdown",
   "source": [
    "## Part 1\n",
    "Going to use a Python `defaultdict` to store unbounded coordinates."
   ],
   "metadata": {
    "collapsed": false
   }
  },
  {
   "cell_type": "code",
   "execution_count": 9,
   "outputs": [],
   "source": [
    "def part_one(starting_coords: list[tuple[int, int, int]], iterations: int) -> int | str:\n",
    "\n",
    "    # Create our adjacency coords\n",
    "    heights = (1, 0, -1)\n",
    "    widths = (1, 0, -1)\n",
    "    depths = (1, 0, -1)\n",
    "\n",
    "    moves: set[tuple[int, int, int]] = {(x, y, z) for z in depths for y in widths for x in heights} - {(0, 0, 0)}\n",
    "\n",
    "    # Create our grid\n",
    "    grid = defaultdict(lambda: defaultdict(lambda: defaultdict(str)))\n",
    "\n",
    "    # Add our starting coords to the grid as well as their adjacent dead coords\n",
    "    for x, y, z in starting_coords:\n",
    "        grid[x][y][z] = \"#\"\n",
    "        for dx, dy, dz in moves:\n",
    "            if grid[x + dx][y + dy][z + dz] == \"\":\n",
    "                grid[x + dx][y + dy][z + dz] = \".\"\n",
    "\n",
    "    def count(x: int, y: int, z: int) -> int:\n",
    "        neigh = 0\n",
    "\n",
    "        for dx, dy, dz in moves:\n",
    "            if grid[x + dx][y + dy][z + dz] == \"#\":\n",
    "                neigh += 1\n",
    "\n",
    "        return neigh\n",
    "\n",
    "    for _ in range(iterations):\n",
    "        life: set[tuple[int, int, int]] = set()\n",
    "        death: set[tuple[int, int, int]] = set()\n",
    "\n",
    "        for x in list(grid.keys()):\n",
    "            for y in list(grid[x].keys()):\n",
    "                for z in list(grid[y].keys()):\n",
    "                    neighbour_count = count(x, y, z)\n",
    "                    if grid[x][y][z] == \"#\":\n",
    "                        if neighbour_count in [2, 3]:\n",
    "                            life.add((x, y, z))\n",
    "                        else:\n",
    "                            death.add((x, y, z))\n",
    "                    else:\n",
    "                        if neighbour_count == 3:\n",
    "                            life.add((x, y, z))\n",
    "                        else:\n",
    "                            death.add((x, y, z))\n",
    "\n",
    "        assert len(life & death) == 0\n",
    "\n",
    "        for x, y, z in life:\n",
    "            grid[x][y][z] = \"#\"\n",
    "\n",
    "        for x, y, z in death:\n",
    "            grid[x][y][z] = \".\"\n",
    "\n",
    "        for x in list(grid.keys()):\n",
    "            for y in list(grid[x].keys()):\n",
    "                for z in list(grid[y].keys()):\n",
    "                    for dx, dy, dz in moves:\n",
    "                        if grid[x + dx][y + dy][z + dz] == \"\":\n",
    "                            grid[x + dx][y + dy][z + dz] = \".\"\n",
    "\n",
    "    # Count\n",
    "    alive_count = 0\n",
    "\n",
    "    for x in list(grid.keys()):\n",
    "        for y in list(grid[x].keys()):\n",
    "            for z in list(grid[y].keys()):\n",
    "                if grid[x][y][z] == \"#\":\n",
    "                    alive_count += 1\n",
    "\n",
    "    return alive_count"
   ],
   "metadata": {
    "collapsed": false
   }
  },
  {
   "cell_type": "code",
   "execution_count": 10,
   "outputs": [
    {
     "name": "stdout",
     "output_type": "stream",
     "text": [
      "\u001B[32m.\u001B[0m\u001B[32m                                                                                            [100%]\u001B[0m\n",
      "\u001B[32m\u001B[32m\u001B[1m1 passed\u001B[0m\u001B[32m in 0.90s\u001B[0m\u001B[0m\n"
     ]
    }
   ],
   "source": [
    "%%ipytest\n",
    "def test_part_one():\n",
    "    assert part_one(parse_input(\"example1\"), 6) == 112\n",
    "    assert part_one(parse_input(\"input\"), 6) == 252"
   ],
   "metadata": {
    "collapsed": false
   }
  },
  {
   "cell_type": "markdown",
   "source": [
    "## Part 2\n",
    "Lorem ipsum"
   ],
   "metadata": {
    "collapsed": false
   }
  },
  {
   "cell_type": "code",
   "execution_count": 11,
   "outputs": [],
   "source": [
    "def part_two(starting_coords: list[tuple[int, int, int]], iterations: int) -> int | str:\n",
    "\n",
    "    # Create our adjacency coords\n",
    "    heights = (1, 0, -1)\n",
    "    widths = (1, 0, -1)\n",
    "    depths = (1, 0, -1)\n",
    "    times = (1, 0, -1)\n",
    "\n",
    "    moves: set[tuple[int, int, int, int]] = {(x, y, z, t) for t in times for z in depths for y in widths for x in heights} - {(0, 0, 0, 0)}\n",
    "\n",
    "    # Create our grid\n",
    "    grid = defaultdict(lambda: defaultdict(lambda: defaultdict(lambda: defaultdict(str))))\n",
    "\n",
    "    # Add our starting coords to the grid as well as their adjacent dead coords\n",
    "    for x, y, z in starting_coords:\n",
    "        t = 0\n",
    "        grid[x][y][z][t] = \"#\"\n",
    "        for dx, dy, dz, dt in moves:\n",
    "            if grid[x + dx][y + dy][z + dz][t + dt] == \"\":\n",
    "                grid[x + dx][y + dy][z + dz][t + dt] = \".\"\n",
    "\n",
    "    def count(x: int, y: int, z: int, t: int) -> int:\n",
    "        neigh = 0\n",
    "\n",
    "        for dx, dy, dz, dt in moves:\n",
    "            if grid[x + dx][y + dy][z + dz][t + dt] == \"#\":\n",
    "                neigh += 1\n",
    "\n",
    "        return neigh\n",
    "\n",
    "    for _ in range(iterations):\n",
    "        life: set[tuple[int, int, int, int]] = set()\n",
    "        death: set[tuple[int, int, int, int]] = set()\n",
    "\n",
    "        for x in list(grid.keys()):\n",
    "            for y in list(grid[x].keys()):\n",
    "                for z in list(grid[y].keys()):\n",
    "                    for t in list(grid[z].keys()):\n",
    "                        neighbour_count = count(x, y, z, t)\n",
    "                        if grid[x][y][z][t] == \"#\":\n",
    "                            if neighbour_count in [2, 3]:\n",
    "                                life.add((x, y, z, t))\n",
    "                            else:\n",
    "                                death.add((x, y, z, t))\n",
    "                        else:\n",
    "                            if neighbour_count == 3:\n",
    "                                life.add((x, y, z, t))\n",
    "                            else:\n",
    "                                death.add((x, y, z, t))\n",
    "\n",
    "        assert len(life & death) == 0\n",
    "\n",
    "        for x, y, z, t in life:\n",
    "            grid[x][y][z][t] = \"#\"\n",
    "\n",
    "        for x, y, z, t in death:\n",
    "            grid[x][y][z][t] = \".\"\n",
    "\n",
    "        for x in list(grid.keys()):\n",
    "            for y in list(grid[x].keys()):\n",
    "                for z in list(grid[y].keys()):\n",
    "                    for t in list(grid[z].keys()):\n",
    "                        for dx, dy, dz, dt in moves:\n",
    "                            if grid[x + dx][y + dy][z + dz][t + dt] == \"\":\n",
    "                                grid[x + dx][y + dy][z + dz][t + dt] = \".\"\n",
    "\n",
    "    # Count\n",
    "    alive_count = 0\n",
    "\n",
    "    for x in list(grid.keys()):\n",
    "        for y in list(grid[x].keys()):\n",
    "            for z in list(grid[y].keys()):\n",
    "                for t in list(grid[z].keys()):\n",
    "                    if grid[x][y][z][t] == \"#\":\n",
    "                        alive_count += 1\n",
    "\n",
    "    return alive_count"
   ],
   "metadata": {
    "collapsed": false
   }
  },
  {
   "cell_type": "code",
   "execution_count": 12,
   "outputs": [
    {
     "name": "stdout",
     "output_type": "stream",
     "text": [
      "\u001B[31mF\u001B[0m\u001B[31m                                                                                            [100%]\u001B[0m\n",
      "============================================ FAILURES =============================================\n",
      "\u001B[31m\u001B[1m__________________________________________ test_part_two __________________________________________\u001B[0m\n",
      "\n",
      "    \u001B[94mdef\u001B[39;49;00m \u001B[92mtest_part_two\u001B[39;49;00m():\n",
      "        \u001B[94massert\u001B[39;49;00m part_two(parse_input(\u001B[33m\"\u001B[39;49;00m\u001B[33mexample1\u001B[39;49;00m\u001B[33m\"\u001B[39;49;00m), \u001B[94m6\u001B[39;49;00m) == \u001B[94m848\u001B[39;49;00m\n",
      ">       \u001B[94massert\u001B[39;49;00m part_two(parse_input(\u001B[33m\"\u001B[39;49;00m\u001B[33minput\u001B[39;49;00m\u001B[33m\"\u001B[39;49;00m), \u001B[94m6\u001B[39;49;00m) == \u001B[94m0x3f3f3f3f\u001B[39;49;00m + \u001B[94m2\u001B[39;49;00m\n",
      "\u001B[1m\u001B[31mE       AssertionError: assert 2160 == (1061109567 + 2)\u001B[0m\n",
      "\u001B[1m\u001B[31mE        +  where 2160 = part_two([(0, 0, 0), (0, 4, 0), (1, 0, 0), (1, 3, 0), (1, 7, 0), (2, 2, 0), ...], 6)\u001B[0m\n",
      "\u001B[1m\u001B[31mE        +    where [(0, 0, 0), (0, 4, 0), (1, 0, 0), (1, 3, 0), (1, 7, 0), (2, 2, 0), ...] = parse_input('input')\u001B[0m\n",
      "\n",
      "\u001B[1m\u001B[31mC:\\Users\\Jason\\AppData\\Local\\Temp\\ipykernel_68660\\970190312.py\u001B[0m:3: AssertionError\n",
      "===================================== short test summary info =====================================\n",
      "FAILED tmp953fxm55.py::test_part_two - AssertionError: assert 2160 == (1061109567 + 2)\n",
      "\u001B[31m\u001B[31m\u001B[1m1 failed\u001B[0m\u001B[31m in 207.81s (0:03:27)\u001B[0m\u001B[0m\n"
     ]
    }
   ],
   "source": [
    "%%ipytest\n",
    "def test_part_two():\n",
    "    assert part_two(parse_input(\"example1\"), 6) == 848\n",
    "    assert part_two(parse_input(\"input\"), 6) == 2160"
   ],
   "metadata": {
    "collapsed": false
   }
  }
 ],
 "metadata": {
  "kernelspec": {
   "display_name": "Python 3 (ipykernel)",
   "language": "python",
   "name": "python3"
  },
  "language_info": {
   "codemirror_mode": {
    "name": "ipython",
    "version": 3
   },
   "file_extension": ".py",
   "mimetype": "text/x-python",
   "name": "python",
   "nbconvert_exporter": "python",
   "pygments_lexer": "ipython3",
   "version": "3.10.6"
  }
 },
 "nbformat": 4,
 "nbformat_minor": 1
}
