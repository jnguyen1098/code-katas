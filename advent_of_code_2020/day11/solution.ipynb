{
 "cells": [
  {
   "cell_type": "markdown",
   "source": [
    "# [Advent of Code 2020 Day 11](https://adventofcode.com/2020/day/11)\n",
    "\n",
    "Another Conway's Game of Life it seems...?"
   ],
   "metadata": {
    "collapsed": false
   },
   "outputs": []
  },
  {
   "cell_type": "markdown",
   "source": [
    "## Initial setup"
   ],
   "metadata": {
    "collapsed": false
   }
  },
  {
   "cell_type": "code",
   "execution_count": 1,
   "metadata": {},
   "outputs": [],
   "source": [
    "import ipytest\n",
    "import sys\n",
    "sys.path.append(\"..\")\n",
    "from ansi import *\n",
    "from comp import *\n",
    "ipytest.autoconfig()"
   ]
  },
  {
   "cell_type": "markdown",
   "source": [
    "## Input Parsing\n",
    "2D array time."
   ],
   "metadata": {
    "collapsed": false
   }
  },
  {
   "cell_type": "code",
   "execution_count": 2,
   "outputs": [],
   "source": [
    "def parse_input(filename: str) -> Any:\n",
    "\n",
    "    gen = yield_line(filename)\n",
    "\n",
    "    result = []\n",
    "\n",
    "    for line in gen:\n",
    "        result.append(list(line))\n",
    "\n",
    "    return result"
   ],
   "metadata": {
    "collapsed": false
   }
  },
  {
   "cell_type": "markdown",
   "source": [
    "## Part 1 - Simulation\n",
    "There isn't really anything mathy to do here I don't think... it's just a simulation question I think..."
   ],
   "metadata": {
    "collapsed": false
   }
  },
  {
   "cell_type": "code",
   "execution_count": 3,
   "outputs": [],
   "source": [
    "def count_occupied_seats_once_stabilized(board: list[list[str]]) -> int:\n",
    "\n",
    "    rows: int = len(board)\n",
    "    cols: int = len(board[0])\n",
    "\n",
    "    def get_occupied_seats(i: int, j: int) -> int:\n",
    "        count = 0\n",
    "        for dx, dy in DIR.SURR:\n",
    "            x = i + dx\n",
    "            y = j + dy\n",
    "            if (0 <= x < rows) and (0 <= y < cols) and board[x][y] == \"#\":\n",
    "                count += 1\n",
    "        return count\n",
    "\n",
    "    def get_next_char(i: int, j: int) -> str:\n",
    "        if board[i][j] == \"L\":\n",
    "            if get_occupied_seats(i, j) == 0:\n",
    "                return \"#\"\n",
    "        elif board[i][j] == \"#\":\n",
    "            if get_occupied_seats(i, j) >= 4:\n",
    "                return \"L\"\n",
    "        return board[i][j]\n",
    "\n",
    "    def get_next_board() -> bool:\n",
    "        next_char: dict[tuple[int, int], str] = {}\n",
    "\n",
    "        for i in range(len(board)):\n",
    "            for j in range(len(board[i])):\n",
    "                if (potential_char := get_next_char(i, j)) != board[i][j]:\n",
    "                    next_char[(i, j)] = potential_char\n",
    "\n",
    "        change = False\n",
    "\n",
    "        for i in range(len(board)):\n",
    "            for j in range(len(board[i])):\n",
    "                if (advance := next_char.get((i, j))) is not None:\n",
    "                    board[i][j] = advance\n",
    "                    change = True\n",
    "\n",
    "        return change\n",
    "\n",
    "    while get_next_board():\n",
    "        continue\n",
    "\n",
    "    return sum([row.count(\"#\") for row in board])"
   ],
   "metadata": {
    "collapsed": false
   }
  },
  {
   "cell_type": "code",
   "execution_count": 4,
   "outputs": [
    {
     "name": "stdout",
     "output_type": "stream",
     "text": [
      "\u001B[32m.\u001B[0m\u001B[32m                                                                                            [100%]\u001B[0m\n",
      "\u001B[32m\u001B[32m\u001B[1m1 passed\u001B[0m\u001B[32m in 0.01s\u001B[0m\u001B[0m\n"
     ]
    }
   ],
   "source": [
    "%%ipytest\n",
    "def test_count_occupied_seats_once_stabilized():\n",
    "    assert count_occupied_seats_once_stabilized(parse_input(\"example1\")) == 37"
   ],
   "metadata": {
    "collapsed": false
   }
  },
  {
   "cell_type": "markdown",
   "source": [
    "## Part 2 - Eh?\n",
    "This is going to take a lot of computation. I should only have to modify the `get_occupied_seats` function though. Instead of extending one out in all eight directions, we extend continuously out in all directions until we either hit the wall or a seat (`#` or `L`), only incrementing our counter if it's `#` occupied. We also increase the urinal factor from 4 to 5."
   ],
   "metadata": {
    "collapsed": false
   }
  },
  {
   "cell_type": "code",
   "execution_count": 5,
   "outputs": [],
   "source": [
    "def count_occupied_seats_once_stabilized_crazy(board: list[list[str]]) -> int:\n",
    "\n",
    "    rows: int = len(board)\n",
    "    cols: int = len(board[0])\n",
    "\n",
    "    def get_occupied_seats(i: int, j: int) -> int:\n",
    "        count = 0\n",
    "        for dx, dy in DIR.SURR:\n",
    "            x = i\n",
    "            y = j\n",
    "            while True:\n",
    "                x += dx\n",
    "                y += dy\n",
    "                if (0 <= x < rows) and (0 <= y < cols):\n",
    "                    if board[x][y] == \"#\":\n",
    "                        count += 1\n",
    "                        break\n",
    "                    elif board[x][y] == \"L\":\n",
    "                        break\n",
    "                else:\n",
    "                    break\n",
    "        return count\n",
    "\n",
    "    def get_next_char(i: int, j: int) -> str:\n",
    "        if board[i][j] == \"L\":\n",
    "            if get_occupied_seats(i, j) == 0:\n",
    "                return \"#\"\n",
    "        elif board[i][j] == \"#\":\n",
    "            if get_occupied_seats(i, j) >= 5:\n",
    "                return \"L\"\n",
    "        return board[i][j]\n",
    "\n",
    "    def get_next_board() -> bool:\n",
    "        next_char: dict[tuple[int, int], str] = {}\n",
    "\n",
    "        for i in range(len(board)):\n",
    "            for j in range(len(board[i])):\n",
    "                if (potential_char := get_next_char(i, j)) != board[i][j]:\n",
    "                    next_char[(i, j)] = potential_char\n",
    "\n",
    "        change = False\n",
    "\n",
    "        for i in range(len(board)):\n",
    "            for j in range(len(board[i])):\n",
    "                if (advance := next_char.get((i, j))) is not None:\n",
    "                    board[i][j] = advance\n",
    "                    change = True\n",
    "\n",
    "        return change\n",
    "\n",
    "    while get_next_board():\n",
    "        continue\n",
    "\n",
    "    return sum([row.count(\"#\") for row in board])"
   ],
   "metadata": {
    "collapsed": false
   }
  },
  {
   "cell_type": "markdown",
   "source": [
    "## Main Solver"
   ],
   "metadata": {
    "collapsed": false
   }
  },
  {
   "cell_type": "code",
   "execution_count": 6,
   "metadata": {},
   "outputs": [],
   "source": [
    "def solve(prob, filename):\n",
    "    parsed_input = parse_input(filename)\n",
    "    if prob == 1:\n",
    "        return count_occupied_seats_once_stabilized(parsed_input)\n",
    "    elif prob == 2:\n",
    "        return count_occupied_seats_once_stabilized_crazy(parsed_input)\n",
    "    else:\n",
    "        print(\"Invalid problem code\")\n",
    "        exit()"
   ]
  },
  {
   "cell_type": "code",
   "execution_count": 7,
   "metadata": {},
   "outputs": [
    {
     "name": "stdout",
     "output_type": "stream",
     "text": [
      "\u001B[32m.\u001B[0m\u001B[32m                                                                                            [100%]\u001B[0m\n",
      "\u001B[32m\u001B[32m\u001B[1m1 passed\u001B[0m\u001B[32m in 2.38s\u001B[0m\u001B[0m\n"
     ]
    }
   ],
   "source": [
    "%%ipytest\n",
    "def test_solve():\n",
    "    assert solve(1, \"example1\") == 37\n",
    "    assert solve(1, \"input\") == 2275\n",
    "    assert solve(2, \"example1\") == 26\n",
    "    assert solve(2, \"input\") == 2121"
   ]
  }
 ],
 "metadata": {
  "kernelspec": {
   "display_name": "Python 3 (ipykernel)",
   "language": "python",
   "name": "python3"
  },
  "language_info": {
   "codemirror_mode": {
    "name": "ipython",
    "version": 3
   },
   "file_extension": ".py",
   "mimetype": "text/x-python",
   "name": "python",
   "nbconvert_exporter": "python",
   "pygments_lexer": "ipython3",
   "version": "3.10.6"
  }
 },
 "nbformat": 4,
 "nbformat_minor": 1
}
